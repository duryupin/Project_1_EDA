{
 "cells": [
  {
   "cell_type": "markdown",
   "id": "f743bb7a",
   "metadata": {},
   "source": [
    "<b>Привет!</b>\n",
    "\n",
    "Меня зовут Харочкина Екатерина, и я буду проверять твой проект. Давай общаться на «ты», но если это неудобно, пожалуйста, сообщи. Моя основная цель — не указать на совершенные тобою ошибки, а поделиться своим опытом и помочь тебе совершенствоваться как профессионалу.\n",
    "\n",
    "Ты подготовил замечательный проект, но есть аспекты, которые еще можно улучшить. Я буду использовать комментарии с цветовой разметкой. Пожалуйста, **не перемещай, не изменяй и не удаляй их**. Это поможет выполнить повторную проверку твоего проекта оперативнее.\n",
    "\n",
    "<div class=\"alert alert-danger\">\n",
    "<b>Комментарий ревьюера №1</b> ❌\n",
    "    \n",
    "Таким комментарием выделены самые важные замечания. Без их отработки проект не будет принят.\n",
    "</div>\n",
    "\n",
    "<div class=\"alert alert-warning\">\n",
    "<b>Комментарий ревьюера №1</b> ⚠️\n",
    "    \n",
    "Таким комментарием выделены небольшие замечания и рекомендации, которые будет хорошо учесть.\n",
    "</div>\n",
    "\n",
    "<div class=\"alert alert-success\">\n",
    "<b>Комментарий ревьюера №1</b> ✅\n",
    "    \n",
    "Таким комментарием выделены удачные решения🙂\n",
    "</div>\n",
    "\n",
    "Свои комментарии ты можешь помечать синим цветом.\n",
    "\n",
    "<div class=\"alert alert-info\">\n",
    "<b>Комментарий студента №1</b>\n",
    "    \n",
    "Так ты можешь оформить свой комментарий\n",
    "</div>\n",
    "\n",
    "Давай работать над проектом в диалоге: если ты **что-то меняешь** в проекте по моим рекомендациям — **пиши об этом**. После того, как ты все доработаешь, я смогу принять твой проект!) "
   ]
  },
  {
   "cell_type": "markdown",
   "id": "5c5286e5",
   "metadata": {
    "deletable": false,
    "editable": false,
    "id": "c81daeeb"
   },
   "source": [
    "# Исследование надежности заемщиков\n"
   ]
  },
  {
   "cell_type": "markdown",
   "id": "2e097136",
   "metadata": {},
   "source": [
    "<div class=\"alert alert-success\">\n",
    "<b>Комментарий ревьюера №1</b> ✅\n",
    "    \n",
    "Хорошая практика начинать проект с контекста, описания задачи, возможного хода исследования, а также описания имеющихся данных. Можно тут также добавить содержание с гиперссылками. Про оформление работы можно почитать в материалах курса:\n",
    "    \n",
    "`Полезные инструкции для учёбы - Оформление проекта - Рекомендации по выполнению проектов`\n",
    "</div>"
   ]
  },
  {
   "cell_type": "markdown",
   "id": "90dca479",
   "metadata": {},
   "source": [
    "**Цель проекта**: Оценить как на срок возврата кредита заёмщиком влияют такие факторы как:\n",
    "- Кол-во детей у заемщика;\n",
    "- Семейное положение заёмщика;\n",
    "- Доход заёмщика;\n",
    "- Цель займа."
   ]
  },
  {
   "cell_type": "markdown",
   "id": "5617964f",
   "metadata": {
    "deletable": false,
    "editable": false,
    "id": "827c20bf"
   },
   "source": [
    "Во второй части проекта вы выполните шаги 3 и 4. Их вручную проверит ревьюер.\n",
    "Чтобы вам не пришлось писать код заново для шагов 1 и 2, мы добавили авторские решения в ячейки с кодом. \n",
    "\n"
   ]
  },
  {
   "cell_type": "markdown",
   "id": "c8abfa00",
   "metadata": {
    "deletable": false,
    "editable": false,
    "id": "744d7639"
   },
   "source": [
    "## Откройте таблицу и изучите общую информацию о данных"
   ]
  },
  {
   "cell_type": "markdown",
   "id": "f49a6f3b",
   "metadata": {
    "deletable": false,
    "editable": false,
    "id": "e7a14c31"
   },
   "source": [
    "**Задание 1. Импортируйте библиотеку pandas. Считайте данные из csv-файла в датафрейм и сохраните в переменную `data`. Путь к файлу:**\n",
    "\n",
    "`/datasets/data.csv`"
   ]
  },
  {
   "cell_type": "code",
   "execution_count": 1,
   "id": "ed2db090",
   "metadata": {
    "deletable": false,
    "id": "7bcf75c9"
   },
   "outputs": [],
   "source": [
    "import pandas as pd\n",
    "import matplotlib.pyplot as plt\n",
    "from IPython.display import display\n",
    "\n",
    "try:\n",
    "    data = pd.read_csv('/datasets/data.csv')\n",
    "except:\n",
    "    data = pd.read_csv('https://code.s3.yandex.net/datasets/data.csv')"
   ]
  },
  {
   "cell_type": "markdown",
   "id": "f8231ace",
   "metadata": {
    "deletable": false,
    "editable": false,
    "id": "b8038fe3"
   },
   "source": [
    "**Задание 2. Выведите первые 20 строчек датафрейма `data` на экран.**"
   ]
  },
  {
   "cell_type": "code",
   "execution_count": 2,
   "id": "7abe9a54",
   "metadata": {
    "deletable": false,
    "id": "2a7cab99",
    "outputId": "1a8f3ef2-d323-4ec2-ddf7-89670b5944c4",
    "scrolled": true
   },
   "outputs": [
    {
     "data": {
      "text/html": [
       "<div>\n",
       "<style scoped>\n",
       "    .dataframe tbody tr th:only-of-type {\n",
       "        vertical-align: middle;\n",
       "    }\n",
       "\n",
       "    .dataframe tbody tr th {\n",
       "        vertical-align: top;\n",
       "    }\n",
       "\n",
       "    .dataframe thead th {\n",
       "        text-align: right;\n",
       "    }\n",
       "</style>\n",
       "<table border=\"1\" class=\"dataframe\">\n",
       "  <thead>\n",
       "    <tr style=\"text-align: right;\">\n",
       "      <th></th>\n",
       "      <th>children</th>\n",
       "      <th>days_employed</th>\n",
       "      <th>dob_years</th>\n",
       "      <th>education</th>\n",
       "      <th>education_id</th>\n",
       "      <th>family_status</th>\n",
       "      <th>family_status_id</th>\n",
       "      <th>gender</th>\n",
       "      <th>income_type</th>\n",
       "      <th>debt</th>\n",
       "      <th>total_income</th>\n",
       "      <th>purpose</th>\n",
       "    </tr>\n",
       "  </thead>\n",
       "  <tbody>\n",
       "    <tr>\n",
       "      <th>0</th>\n",
       "      <td>1</td>\n",
       "      <td>-8437.673028</td>\n",
       "      <td>42</td>\n",
       "      <td>высшее</td>\n",
       "      <td>0</td>\n",
       "      <td>женат / замужем</td>\n",
       "      <td>0</td>\n",
       "      <td>F</td>\n",
       "      <td>сотрудник</td>\n",
       "      <td>0</td>\n",
       "      <td>253875.639453</td>\n",
       "      <td>покупка жилья</td>\n",
       "    </tr>\n",
       "    <tr>\n",
       "      <th>1</th>\n",
       "      <td>1</td>\n",
       "      <td>-4024.803754</td>\n",
       "      <td>36</td>\n",
       "      <td>среднее</td>\n",
       "      <td>1</td>\n",
       "      <td>женат / замужем</td>\n",
       "      <td>0</td>\n",
       "      <td>F</td>\n",
       "      <td>сотрудник</td>\n",
       "      <td>0</td>\n",
       "      <td>112080.014102</td>\n",
       "      <td>приобретение автомобиля</td>\n",
       "    </tr>\n",
       "    <tr>\n",
       "      <th>2</th>\n",
       "      <td>0</td>\n",
       "      <td>-5623.422610</td>\n",
       "      <td>33</td>\n",
       "      <td>Среднее</td>\n",
       "      <td>1</td>\n",
       "      <td>женат / замужем</td>\n",
       "      <td>0</td>\n",
       "      <td>M</td>\n",
       "      <td>сотрудник</td>\n",
       "      <td>0</td>\n",
       "      <td>145885.952297</td>\n",
       "      <td>покупка жилья</td>\n",
       "    </tr>\n",
       "    <tr>\n",
       "      <th>3</th>\n",
       "      <td>3</td>\n",
       "      <td>-4124.747207</td>\n",
       "      <td>32</td>\n",
       "      <td>среднее</td>\n",
       "      <td>1</td>\n",
       "      <td>женат / замужем</td>\n",
       "      <td>0</td>\n",
       "      <td>M</td>\n",
       "      <td>сотрудник</td>\n",
       "      <td>0</td>\n",
       "      <td>267628.550329</td>\n",
       "      <td>дополнительное образование</td>\n",
       "    </tr>\n",
       "    <tr>\n",
       "      <th>4</th>\n",
       "      <td>0</td>\n",
       "      <td>340266.072047</td>\n",
       "      <td>53</td>\n",
       "      <td>среднее</td>\n",
       "      <td>1</td>\n",
       "      <td>гражданский брак</td>\n",
       "      <td>1</td>\n",
       "      <td>F</td>\n",
       "      <td>пенсионер</td>\n",
       "      <td>0</td>\n",
       "      <td>158616.077870</td>\n",
       "      <td>сыграть свадьбу</td>\n",
       "    </tr>\n",
       "    <tr>\n",
       "      <th>5</th>\n",
       "      <td>0</td>\n",
       "      <td>-926.185831</td>\n",
       "      <td>27</td>\n",
       "      <td>высшее</td>\n",
       "      <td>0</td>\n",
       "      <td>гражданский брак</td>\n",
       "      <td>1</td>\n",
       "      <td>M</td>\n",
       "      <td>компаньон</td>\n",
       "      <td>0</td>\n",
       "      <td>255763.565419</td>\n",
       "      <td>покупка жилья</td>\n",
       "    </tr>\n",
       "    <tr>\n",
       "      <th>6</th>\n",
       "      <td>0</td>\n",
       "      <td>-2879.202052</td>\n",
       "      <td>43</td>\n",
       "      <td>высшее</td>\n",
       "      <td>0</td>\n",
       "      <td>женат / замужем</td>\n",
       "      <td>0</td>\n",
       "      <td>F</td>\n",
       "      <td>компаньон</td>\n",
       "      <td>0</td>\n",
       "      <td>240525.971920</td>\n",
       "      <td>операции с жильем</td>\n",
       "    </tr>\n",
       "    <tr>\n",
       "      <th>7</th>\n",
       "      <td>0</td>\n",
       "      <td>-152.779569</td>\n",
       "      <td>50</td>\n",
       "      <td>СРЕДНЕЕ</td>\n",
       "      <td>1</td>\n",
       "      <td>женат / замужем</td>\n",
       "      <td>0</td>\n",
       "      <td>M</td>\n",
       "      <td>сотрудник</td>\n",
       "      <td>0</td>\n",
       "      <td>135823.934197</td>\n",
       "      <td>образование</td>\n",
       "    </tr>\n",
       "    <tr>\n",
       "      <th>8</th>\n",
       "      <td>2</td>\n",
       "      <td>-6929.865299</td>\n",
       "      <td>35</td>\n",
       "      <td>ВЫСШЕЕ</td>\n",
       "      <td>0</td>\n",
       "      <td>гражданский брак</td>\n",
       "      <td>1</td>\n",
       "      <td>F</td>\n",
       "      <td>сотрудник</td>\n",
       "      <td>0</td>\n",
       "      <td>95856.832424</td>\n",
       "      <td>на проведение свадьбы</td>\n",
       "    </tr>\n",
       "    <tr>\n",
       "      <th>9</th>\n",
       "      <td>0</td>\n",
       "      <td>-2188.756445</td>\n",
       "      <td>41</td>\n",
       "      <td>среднее</td>\n",
       "      <td>1</td>\n",
       "      <td>женат / замужем</td>\n",
       "      <td>0</td>\n",
       "      <td>M</td>\n",
       "      <td>сотрудник</td>\n",
       "      <td>0</td>\n",
       "      <td>144425.938277</td>\n",
       "      <td>покупка жилья для семьи</td>\n",
       "    </tr>\n",
       "    <tr>\n",
       "      <th>10</th>\n",
       "      <td>2</td>\n",
       "      <td>-4171.483647</td>\n",
       "      <td>36</td>\n",
       "      <td>высшее</td>\n",
       "      <td>0</td>\n",
       "      <td>женат / замужем</td>\n",
       "      <td>0</td>\n",
       "      <td>M</td>\n",
       "      <td>компаньон</td>\n",
       "      <td>0</td>\n",
       "      <td>113943.491460</td>\n",
       "      <td>покупка недвижимости</td>\n",
       "    </tr>\n",
       "    <tr>\n",
       "      <th>11</th>\n",
       "      <td>0</td>\n",
       "      <td>-792.701887</td>\n",
       "      <td>40</td>\n",
       "      <td>среднее</td>\n",
       "      <td>1</td>\n",
       "      <td>женат / замужем</td>\n",
       "      <td>0</td>\n",
       "      <td>F</td>\n",
       "      <td>сотрудник</td>\n",
       "      <td>0</td>\n",
       "      <td>77069.234271</td>\n",
       "      <td>покупка коммерческой недвижимости</td>\n",
       "    </tr>\n",
       "    <tr>\n",
       "      <th>12</th>\n",
       "      <td>0</td>\n",
       "      <td>NaN</td>\n",
       "      <td>65</td>\n",
       "      <td>среднее</td>\n",
       "      <td>1</td>\n",
       "      <td>гражданский брак</td>\n",
       "      <td>1</td>\n",
       "      <td>M</td>\n",
       "      <td>пенсионер</td>\n",
       "      <td>0</td>\n",
       "      <td>NaN</td>\n",
       "      <td>сыграть свадьбу</td>\n",
       "    </tr>\n",
       "    <tr>\n",
       "      <th>13</th>\n",
       "      <td>0</td>\n",
       "      <td>-1846.641941</td>\n",
       "      <td>54</td>\n",
       "      <td>неоконченное высшее</td>\n",
       "      <td>2</td>\n",
       "      <td>женат / замужем</td>\n",
       "      <td>0</td>\n",
       "      <td>F</td>\n",
       "      <td>сотрудник</td>\n",
       "      <td>0</td>\n",
       "      <td>130458.228857</td>\n",
       "      <td>приобретение автомобиля</td>\n",
       "    </tr>\n",
       "    <tr>\n",
       "      <th>14</th>\n",
       "      <td>0</td>\n",
       "      <td>-1844.956182</td>\n",
       "      <td>56</td>\n",
       "      <td>высшее</td>\n",
       "      <td>0</td>\n",
       "      <td>гражданский брак</td>\n",
       "      <td>1</td>\n",
       "      <td>F</td>\n",
       "      <td>компаньон</td>\n",
       "      <td>1</td>\n",
       "      <td>165127.911772</td>\n",
       "      <td>покупка жилой недвижимости</td>\n",
       "    </tr>\n",
       "    <tr>\n",
       "      <th>15</th>\n",
       "      <td>1</td>\n",
       "      <td>-972.364419</td>\n",
       "      <td>26</td>\n",
       "      <td>среднее</td>\n",
       "      <td>1</td>\n",
       "      <td>женат / замужем</td>\n",
       "      <td>0</td>\n",
       "      <td>F</td>\n",
       "      <td>сотрудник</td>\n",
       "      <td>0</td>\n",
       "      <td>116820.904450</td>\n",
       "      <td>строительство собственной недвижимости</td>\n",
       "    </tr>\n",
       "    <tr>\n",
       "      <th>16</th>\n",
       "      <td>0</td>\n",
       "      <td>-1719.934226</td>\n",
       "      <td>35</td>\n",
       "      <td>среднее</td>\n",
       "      <td>1</td>\n",
       "      <td>женат / замужем</td>\n",
       "      <td>0</td>\n",
       "      <td>F</td>\n",
       "      <td>сотрудник</td>\n",
       "      <td>0</td>\n",
       "      <td>289202.704229</td>\n",
       "      <td>недвижимость</td>\n",
       "    </tr>\n",
       "    <tr>\n",
       "      <th>17</th>\n",
       "      <td>0</td>\n",
       "      <td>-2369.999720</td>\n",
       "      <td>33</td>\n",
       "      <td>высшее</td>\n",
       "      <td>0</td>\n",
       "      <td>гражданский брак</td>\n",
       "      <td>1</td>\n",
       "      <td>M</td>\n",
       "      <td>сотрудник</td>\n",
       "      <td>0</td>\n",
       "      <td>90410.586745</td>\n",
       "      <td>строительство недвижимости</td>\n",
       "    </tr>\n",
       "    <tr>\n",
       "      <th>18</th>\n",
       "      <td>0</td>\n",
       "      <td>400281.136913</td>\n",
       "      <td>53</td>\n",
       "      <td>среднее</td>\n",
       "      <td>1</td>\n",
       "      <td>вдовец / вдова</td>\n",
       "      <td>2</td>\n",
       "      <td>F</td>\n",
       "      <td>пенсионер</td>\n",
       "      <td>0</td>\n",
       "      <td>56823.777243</td>\n",
       "      <td>на покупку подержанного автомобиля</td>\n",
       "    </tr>\n",
       "    <tr>\n",
       "      <th>19</th>\n",
       "      <td>0</td>\n",
       "      <td>-10038.818549</td>\n",
       "      <td>48</td>\n",
       "      <td>СРЕДНЕЕ</td>\n",
       "      <td>1</td>\n",
       "      <td>в разводе</td>\n",
       "      <td>3</td>\n",
       "      <td>F</td>\n",
       "      <td>сотрудник</td>\n",
       "      <td>0</td>\n",
       "      <td>242831.107982</td>\n",
       "      <td>на покупку своего автомобиля</td>\n",
       "    </tr>\n",
       "  </tbody>\n",
       "</table>\n",
       "</div>"
      ],
      "text/plain": [
       "    children  days_employed  dob_years            education  education_id  \\\n",
       "0          1   -8437.673028         42               высшее             0   \n",
       "1          1   -4024.803754         36              среднее             1   \n",
       "2          0   -5623.422610         33              Среднее             1   \n",
       "3          3   -4124.747207         32              среднее             1   \n",
       "4          0  340266.072047         53              среднее             1   \n",
       "5          0    -926.185831         27               высшее             0   \n",
       "6          0   -2879.202052         43               высшее             0   \n",
       "7          0    -152.779569         50              СРЕДНЕЕ             1   \n",
       "8          2   -6929.865299         35               ВЫСШЕЕ             0   \n",
       "9          0   -2188.756445         41              среднее             1   \n",
       "10         2   -4171.483647         36               высшее             0   \n",
       "11         0    -792.701887         40              среднее             1   \n",
       "12         0            NaN         65              среднее             1   \n",
       "13         0   -1846.641941         54  неоконченное высшее             2   \n",
       "14         0   -1844.956182         56               высшее             0   \n",
       "15         1    -972.364419         26              среднее             1   \n",
       "16         0   -1719.934226         35              среднее             1   \n",
       "17         0   -2369.999720         33               высшее             0   \n",
       "18         0  400281.136913         53              среднее             1   \n",
       "19         0  -10038.818549         48              СРЕДНЕЕ             1   \n",
       "\n",
       "       family_status  family_status_id gender income_type  debt  \\\n",
       "0    женат / замужем                 0      F   сотрудник     0   \n",
       "1    женат / замужем                 0      F   сотрудник     0   \n",
       "2    женат / замужем                 0      M   сотрудник     0   \n",
       "3    женат / замужем                 0      M   сотрудник     0   \n",
       "4   гражданский брак                 1      F   пенсионер     0   \n",
       "5   гражданский брак                 1      M   компаньон     0   \n",
       "6    женат / замужем                 0      F   компаньон     0   \n",
       "7    женат / замужем                 0      M   сотрудник     0   \n",
       "8   гражданский брак                 1      F   сотрудник     0   \n",
       "9    женат / замужем                 0      M   сотрудник     0   \n",
       "10   женат / замужем                 0      M   компаньон     0   \n",
       "11   женат / замужем                 0      F   сотрудник     0   \n",
       "12  гражданский брак                 1      M   пенсионер     0   \n",
       "13   женат / замужем                 0      F   сотрудник     0   \n",
       "14  гражданский брак                 1      F   компаньон     1   \n",
       "15   женат / замужем                 0      F   сотрудник     0   \n",
       "16   женат / замужем                 0      F   сотрудник     0   \n",
       "17  гражданский брак                 1      M   сотрудник     0   \n",
       "18    вдовец / вдова                 2      F   пенсионер     0   \n",
       "19         в разводе                 3      F   сотрудник     0   \n",
       "\n",
       "     total_income                                 purpose  \n",
       "0   253875.639453                           покупка жилья  \n",
       "1   112080.014102                 приобретение автомобиля  \n",
       "2   145885.952297                           покупка жилья  \n",
       "3   267628.550329              дополнительное образование  \n",
       "4   158616.077870                         сыграть свадьбу  \n",
       "5   255763.565419                           покупка жилья  \n",
       "6   240525.971920                       операции с жильем  \n",
       "7   135823.934197                             образование  \n",
       "8    95856.832424                   на проведение свадьбы  \n",
       "9   144425.938277                 покупка жилья для семьи  \n",
       "10  113943.491460                    покупка недвижимости  \n",
       "11   77069.234271       покупка коммерческой недвижимости  \n",
       "12            NaN                         сыграть свадьбу  \n",
       "13  130458.228857                 приобретение автомобиля  \n",
       "14  165127.911772              покупка жилой недвижимости  \n",
       "15  116820.904450  строительство собственной недвижимости  \n",
       "16  289202.704229                            недвижимость  \n",
       "17   90410.586745              строительство недвижимости  \n",
       "18   56823.777243      на покупку подержанного автомобиля  \n",
       "19  242831.107982            на покупку своего автомобиля  "
      ]
     },
     "execution_count": 2,
     "metadata": {},
     "output_type": "execute_result"
    }
   ],
   "source": [
    "data.head(20)"
   ]
  },
  {
   "cell_type": "markdown",
   "id": "4e8affa2",
   "metadata": {
    "deletable": false,
    "editable": false,
    "id": "1c12e233"
   },
   "source": [
    "**Задание 3. Выведите основную информацию о датафрейме с помощью метода `info()`.**"
   ]
  },
  {
   "cell_type": "code",
   "execution_count": 3,
   "id": "c86327e4",
   "metadata": {
    "deletable": false,
    "id": "2b757bca",
    "outputId": "15376089-8dad-46c9-b520-c05248d43158"
   },
   "outputs": [
    {
     "name": "stdout",
     "output_type": "stream",
     "text": [
      "<class 'pandas.core.frame.DataFrame'>\n",
      "RangeIndex: 21525 entries, 0 to 21524\n",
      "Data columns (total 12 columns):\n",
      " #   Column            Non-Null Count  Dtype  \n",
      "---  ------            --------------  -----  \n",
      " 0   children          21525 non-null  int64  \n",
      " 1   days_employed     19351 non-null  float64\n",
      " 2   dob_years         21525 non-null  int64  \n",
      " 3   education         21525 non-null  object \n",
      " 4   education_id      21525 non-null  int64  \n",
      " 5   family_status     21525 non-null  object \n",
      " 6   family_status_id  21525 non-null  int64  \n",
      " 7   gender            21525 non-null  object \n",
      " 8   income_type       21525 non-null  object \n",
      " 9   debt              21525 non-null  int64  \n",
      " 10  total_income      19351 non-null  float64\n",
      " 11  purpose           21525 non-null  object \n",
      "dtypes: float64(2), int64(5), object(5)\n",
      "memory usage: 2.0+ MB\n"
     ]
    }
   ],
   "source": [
    "data.info()"
   ]
  },
  {
   "cell_type": "code",
   "execution_count": 4,
   "id": "4101188d",
   "metadata": {},
   "outputs": [
    {
     "data": {
      "text/html": [
       "<div>\n",
       "<style scoped>\n",
       "    .dataframe tbody tr th:only-of-type {\n",
       "        vertical-align: middle;\n",
       "    }\n",
       "\n",
       "    .dataframe tbody tr th {\n",
       "        vertical-align: top;\n",
       "    }\n",
       "\n",
       "    .dataframe thead th {\n",
       "        text-align: right;\n",
       "    }\n",
       "</style>\n",
       "<table border=\"1\" class=\"dataframe\">\n",
       "  <thead>\n",
       "    <tr style=\"text-align: right;\">\n",
       "      <th></th>\n",
       "      <th>children</th>\n",
       "      <th>days_employed</th>\n",
       "      <th>dob_years</th>\n",
       "      <th>education</th>\n",
       "      <th>education_id</th>\n",
       "      <th>family_status</th>\n",
       "      <th>family_status_id</th>\n",
       "      <th>gender</th>\n",
       "      <th>income_type</th>\n",
       "      <th>debt</th>\n",
       "      <th>total_income</th>\n",
       "      <th>purpose</th>\n",
       "    </tr>\n",
       "  </thead>\n",
       "  <tbody>\n",
       "    <tr>\n",
       "      <th>12</th>\n",
       "      <td>0</td>\n",
       "      <td>NaN</td>\n",
       "      <td>65</td>\n",
       "      <td>среднее</td>\n",
       "      <td>1</td>\n",
       "      <td>гражданский брак</td>\n",
       "      <td>1</td>\n",
       "      <td>M</td>\n",
       "      <td>пенсионер</td>\n",
       "      <td>0</td>\n",
       "      <td>NaN</td>\n",
       "      <td>сыграть свадьбу</td>\n",
       "    </tr>\n",
       "    <tr>\n",
       "      <th>26</th>\n",
       "      <td>0</td>\n",
       "      <td>NaN</td>\n",
       "      <td>41</td>\n",
       "      <td>среднее</td>\n",
       "      <td>1</td>\n",
       "      <td>женат / замужем</td>\n",
       "      <td>0</td>\n",
       "      <td>M</td>\n",
       "      <td>госслужащий</td>\n",
       "      <td>0</td>\n",
       "      <td>NaN</td>\n",
       "      <td>образование</td>\n",
       "    </tr>\n",
       "    <tr>\n",
       "      <th>29</th>\n",
       "      <td>0</td>\n",
       "      <td>NaN</td>\n",
       "      <td>63</td>\n",
       "      <td>среднее</td>\n",
       "      <td>1</td>\n",
       "      <td>Не женат / не замужем</td>\n",
       "      <td>4</td>\n",
       "      <td>F</td>\n",
       "      <td>пенсионер</td>\n",
       "      <td>0</td>\n",
       "      <td>NaN</td>\n",
       "      <td>строительство жилой недвижимости</td>\n",
       "    </tr>\n",
       "    <tr>\n",
       "      <th>41</th>\n",
       "      <td>0</td>\n",
       "      <td>NaN</td>\n",
       "      <td>50</td>\n",
       "      <td>среднее</td>\n",
       "      <td>1</td>\n",
       "      <td>женат / замужем</td>\n",
       "      <td>0</td>\n",
       "      <td>F</td>\n",
       "      <td>госслужащий</td>\n",
       "      <td>0</td>\n",
       "      <td>NaN</td>\n",
       "      <td>сделка с подержанным автомобилем</td>\n",
       "    </tr>\n",
       "    <tr>\n",
       "      <th>55</th>\n",
       "      <td>0</td>\n",
       "      <td>NaN</td>\n",
       "      <td>54</td>\n",
       "      <td>среднее</td>\n",
       "      <td>1</td>\n",
       "      <td>гражданский брак</td>\n",
       "      <td>1</td>\n",
       "      <td>F</td>\n",
       "      <td>пенсионер</td>\n",
       "      <td>1</td>\n",
       "      <td>NaN</td>\n",
       "      <td>сыграть свадьбу</td>\n",
       "    </tr>\n",
       "    <tr>\n",
       "      <th>65</th>\n",
       "      <td>0</td>\n",
       "      <td>NaN</td>\n",
       "      <td>21</td>\n",
       "      <td>среднее</td>\n",
       "      <td>1</td>\n",
       "      <td>Не женат / не замужем</td>\n",
       "      <td>4</td>\n",
       "      <td>M</td>\n",
       "      <td>компаньон</td>\n",
       "      <td>0</td>\n",
       "      <td>NaN</td>\n",
       "      <td>операции с коммерческой недвижимостью</td>\n",
       "    </tr>\n",
       "    <tr>\n",
       "      <th>67</th>\n",
       "      <td>0</td>\n",
       "      <td>NaN</td>\n",
       "      <td>52</td>\n",
       "      <td>высшее</td>\n",
       "      <td>0</td>\n",
       "      <td>женат / замужем</td>\n",
       "      <td>0</td>\n",
       "      <td>F</td>\n",
       "      <td>пенсионер</td>\n",
       "      <td>0</td>\n",
       "      <td>NaN</td>\n",
       "      <td>покупка жилья для семьи</td>\n",
       "    </tr>\n",
       "    <tr>\n",
       "      <th>72</th>\n",
       "      <td>1</td>\n",
       "      <td>NaN</td>\n",
       "      <td>32</td>\n",
       "      <td>высшее</td>\n",
       "      <td>0</td>\n",
       "      <td>женат / замужем</td>\n",
       "      <td>0</td>\n",
       "      <td>M</td>\n",
       "      <td>госслужащий</td>\n",
       "      <td>0</td>\n",
       "      <td>NaN</td>\n",
       "      <td>операции с коммерческой недвижимостью</td>\n",
       "    </tr>\n",
       "    <tr>\n",
       "      <th>82</th>\n",
       "      <td>2</td>\n",
       "      <td>NaN</td>\n",
       "      <td>50</td>\n",
       "      <td>высшее</td>\n",
       "      <td>0</td>\n",
       "      <td>женат / замужем</td>\n",
       "      <td>0</td>\n",
       "      <td>F</td>\n",
       "      <td>сотрудник</td>\n",
       "      <td>0</td>\n",
       "      <td>NaN</td>\n",
       "      <td>жилье</td>\n",
       "    </tr>\n",
       "    <tr>\n",
       "      <th>83</th>\n",
       "      <td>0</td>\n",
       "      <td>NaN</td>\n",
       "      <td>52</td>\n",
       "      <td>среднее</td>\n",
       "      <td>1</td>\n",
       "      <td>женат / замужем</td>\n",
       "      <td>0</td>\n",
       "      <td>M</td>\n",
       "      <td>сотрудник</td>\n",
       "      <td>0</td>\n",
       "      <td>NaN</td>\n",
       "      <td>жилье</td>\n",
       "    </tr>\n",
       "  </tbody>\n",
       "</table>\n",
       "</div>"
      ],
      "text/plain": [
       "    children  days_employed  dob_years education  education_id  \\\n",
       "12         0            NaN         65   среднее             1   \n",
       "26         0            NaN         41   среднее             1   \n",
       "29         0            NaN         63   среднее             1   \n",
       "41         0            NaN         50   среднее             1   \n",
       "55         0            NaN         54   среднее             1   \n",
       "65         0            NaN         21   среднее             1   \n",
       "67         0            NaN         52    высшее             0   \n",
       "72         1            NaN         32    высшее             0   \n",
       "82         2            NaN         50    высшее             0   \n",
       "83         0            NaN         52   среднее             1   \n",
       "\n",
       "            family_status  family_status_id gender  income_type  debt  \\\n",
       "12       гражданский брак                 1      M    пенсионер     0   \n",
       "26        женат / замужем                 0      M  госслужащий     0   \n",
       "29  Не женат / не замужем                 4      F    пенсионер     0   \n",
       "41        женат / замужем                 0      F  госслужащий     0   \n",
       "55       гражданский брак                 1      F    пенсионер     1   \n",
       "65  Не женат / не замужем                 4      M    компаньон     0   \n",
       "67        женат / замужем                 0      F    пенсионер     0   \n",
       "72        женат / замужем                 0      M  госслужащий     0   \n",
       "82        женат / замужем                 0      F    сотрудник     0   \n",
       "83        женат / замужем                 0      M    сотрудник     0   \n",
       "\n",
       "    total_income                                purpose  \n",
       "12           NaN                        сыграть свадьбу  \n",
       "26           NaN                            образование  \n",
       "29           NaN       строительство жилой недвижимости  \n",
       "41           NaN       сделка с подержанным автомобилем  \n",
       "55           NaN                        сыграть свадьбу  \n",
       "65           NaN  операции с коммерческой недвижимостью  \n",
       "67           NaN                покупка жилья для семьи  \n",
       "72           NaN  операции с коммерческой недвижимостью  \n",
       "82           NaN                                  жилье  \n",
       "83           NaN                                  жилье  "
      ]
     },
     "execution_count": 4,
     "metadata": {},
     "output_type": "execute_result"
    }
   ],
   "source": [
    "data[data.isna().any(axis=1)].head(10)"
   ]
  },
  {
   "cell_type": "markdown",
   "id": "11792f82",
   "metadata": {},
   "source": [
    "<div class=\"alert alert-success\">\n",
    "<b>Комментарий ревьюера №1</b> ✅\n",
    "    \n",
    "Разделы работы можно заканчивать промежуточными выводами\n",
    "</div>"
   ]
  },
  {
   "cell_type": "markdown",
   "id": "bf88fb7e",
   "metadata": {},
   "source": [
    "<div class=\"alert alert-info\">\n",
    "    Добавил промежуточный вывод.\n",
    "</div>"
   ]
  },
  {
   "cell_type": "markdown",
   "id": "f0620d0d",
   "metadata": {},
   "source": [
    "Проведя предварительный анализ данных были выявленны следующие проблемы:\n",
    "- Столбец **days_employed** имеет авртефакты в значениях - отрицательные значения трудового стажа;\n",
    "- Значения в столбце **education** имеют разный регистр;\n",
    "- Столбцы **days_employed** и **total_income** имеют пропущенные данные."
   ]
  },
  {
   "cell_type": "markdown",
   "id": "943efb13",
   "metadata": {
    "deletable": false,
    "editable": false,
    "id": "333ec665"
   },
   "source": [
    "## Предобработка данных"
   ]
  },
  {
   "cell_type": "markdown",
   "id": "ed161413",
   "metadata": {
    "deletable": false,
    "editable": false,
    "id": "02d92d53"
   },
   "source": [
    "### Удаление пропусков"
   ]
  },
  {
   "cell_type": "markdown",
   "id": "764ad888",
   "metadata": {
    "deletable": false,
    "editable": false,
    "id": "cd84967c"
   },
   "source": [
    "**Задание 4. Выведите количество пропущенных значений для каждого столбца. Используйте комбинацию двух методов.**"
   ]
  },
  {
   "cell_type": "code",
   "execution_count": 5,
   "id": "65019fe8",
   "metadata": {
    "deletable": false,
    "id": "7f9b2309",
    "outputId": "81f4d817-781c-465c-ed15-91ce4446810d"
   },
   "outputs": [
    {
     "data": {
      "text/plain": [
       "children               0\n",
       "days_employed       2174\n",
       "dob_years              0\n",
       "education              0\n",
       "education_id           0\n",
       "family_status          0\n",
       "family_status_id       0\n",
       "gender                 0\n",
       "income_type            0\n",
       "debt                   0\n",
       "total_income        2174\n",
       "purpose                0\n",
       "dtype: int64"
      ]
     },
     "execution_count": 5,
     "metadata": {},
     "output_type": "execute_result"
    }
   ],
   "source": [
    "data.isna().sum()"
   ]
  },
  {
   "cell_type": "markdown",
   "id": "7ffe5539",
   "metadata": {
    "deletable": false,
    "editable": false,
    "id": "db86e27b"
   },
   "source": [
    "**Задание 5. В двух столбцах есть пропущенные значения. Один из них — `days_employed`. Пропуски в этом столбце вы обработаете на следующем этапе. Другой столбец с пропущенными значениями — `total_income` — хранит данные о доходах. На сумму дохода сильнее всего влияет тип занятости, поэтому заполнить пропуски в этом столбце нужно медианным значением по каждому типу из столбца `income_type`. Например, у человека с типом занятости `сотрудник` пропуск в столбце `total_income` должен быть заполнен медианным доходом среди всех записей с тем же типом.**"
   ]
  },
  {
   "cell_type": "code",
   "execution_count": 6,
   "id": "8719f433",
   "metadata": {
    "deletable": false,
    "id": "42006a93"
   },
   "outputs": [],
   "source": [
    "for t in data['income_type'].unique():\n",
    "    data.loc[(data['income_type'] == t) & (data['total_income'].isna()), 'total_income'] = \\\n",
    "    data.loc[(data['income_type'] == t), 'total_income'].median()"
   ]
  },
  {
   "cell_type": "markdown",
   "id": "fbba9309",
   "metadata": {
    "deletable": false,
    "editable": false,
    "id": "89da5ece"
   },
   "source": [
    "### Обработка аномальных значений"
   ]
  },
  {
   "cell_type": "markdown",
   "id": "c205f839",
   "metadata": {
    "deletable": false,
    "editable": false,
    "id": "57964554"
   },
   "source": [
    "**Задание 6. В данных могут встречаться артефакты (аномалии) — значения, которые не отражают действительность и появились по какой-то ошибке. таким артефактом будет отрицательное количество дней трудового стажа в столбце `days_employed`. Для реальных данных это нормально. Обработайте значения в этом столбце: замените все отрицательные значения положительными с помощью метода `abs()`.**"
   ]
  },
  {
   "cell_type": "code",
   "execution_count": 7,
   "id": "94b95d86",
   "metadata": {
    "deletable": false,
    "id": "f6f055bf"
   },
   "outputs": [],
   "source": [
    "data['days_employed'] = data['days_employed'].abs()"
   ]
  },
  {
   "cell_type": "markdown",
   "id": "8ac0290b",
   "metadata": {
    "deletable": false,
    "editable": false,
    "id": "6107dd2f"
   },
   "source": [
    "**Задание 7. Для каждого типа занятости выведите медианное значение трудового стажа `days_employed` в днях.**"
   ]
  },
  {
   "cell_type": "code",
   "execution_count": 8,
   "id": "4714a2a4",
   "metadata": {
    "deletable": false,
    "id": "85a5faf6",
    "outputId": "801ef80e-522b-4668-f34e-565af7432bcf"
   },
   "outputs": [
    {
     "data": {
      "text/plain": [
       "income_type\n",
       "безработный        366413.652744\n",
       "в декрете            3296.759962\n",
       "госслужащий          2689.368353\n",
       "компаньон            1547.382223\n",
       "пенсионер          365213.306266\n",
       "предприниматель       520.848083\n",
       "сотрудник            1574.202821\n",
       "студент               578.751554\n",
       "Name: days_employed, dtype: float64"
      ]
     },
     "execution_count": 8,
     "metadata": {},
     "output_type": "execute_result"
    }
   ],
   "source": [
    "data.groupby('income_type')['days_employed'].agg('median')"
   ]
  },
  {
   "cell_type": "markdown",
   "id": "f1668016",
   "metadata": {
    "deletable": false,
    "editable": false,
    "id": "38d1a030"
   },
   "source": [
    "У двух типов (безработные и пенсионеры) получатся аномально большие значения. Исправить такие значения сложно, поэтому оставьте их как есть. Тем более этот столбец не понадобится вам для исследования."
   ]
  },
  {
   "cell_type": "markdown",
   "id": "8f494b0a",
   "metadata": {
    "deletable": false,
    "editable": false,
    "id": "d8a9f147"
   },
   "source": [
    "**Задание 8. Выведите перечень уникальных значений столбца `children`.**"
   ]
  },
  {
   "cell_type": "code",
   "execution_count": 9,
   "id": "2380fb97",
   "metadata": {
    "deletable": false,
    "id": "ef5056eb",
    "outputId": "6975b15c-7f95-4697-d16d-a0c79b657b03"
   },
   "outputs": [
    {
     "data": {
      "text/plain": [
       "array([ 1,  0,  3,  2, -1,  4, 20,  5])"
      ]
     },
     "execution_count": 9,
     "metadata": {},
     "output_type": "execute_result"
    }
   ],
   "source": [
    "data['children'].unique()"
   ]
  },
  {
   "cell_type": "markdown",
   "id": "d3c726b4",
   "metadata": {
    "deletable": false,
    "editable": false,
    "id": "40b9ebf2"
   },
   "source": [
    "**Задание 9. В столбце `children` есть два аномальных значения. Удалите строки, в которых встречаются такие аномальные значения из датафрейма `data`.**"
   ]
  },
  {
   "cell_type": "code",
   "execution_count": 10,
   "id": "c9e0aa00",
   "metadata": {
    "deletable": false,
    "id": "3ff9801d"
   },
   "outputs": [],
   "source": [
    "data = data[(data['children'] != -1) & (data['children'] != 20)]"
   ]
  },
  {
   "cell_type": "markdown",
   "id": "6c57556f",
   "metadata": {
    "deletable": false,
    "editable": false,
    "id": "bbc4d0ce"
   },
   "source": [
    "**Задание 10. Ещё раз выведите перечень уникальных значений столбца `children`, чтобы убедиться, что артефакты удалены.**"
   ]
  },
  {
   "cell_type": "code",
   "execution_count": 11,
   "id": "7ae68d1d",
   "metadata": {
    "deletable": false,
    "id": "ad4fa8b7",
    "outputId": "b2097101-d49d-44d9-901b-32a65c9463d1"
   },
   "outputs": [
    {
     "data": {
      "text/plain": [
       "array([1, 0, 3, 2, 4, 5])"
      ]
     },
     "execution_count": 11,
     "metadata": {},
     "output_type": "execute_result"
    }
   ],
   "source": [
    "data['children'].unique()"
   ]
  },
  {
   "cell_type": "markdown",
   "id": "668e2b0e",
   "metadata": {
    "deletable": false,
    "editable": false,
    "id": "75440b63"
   },
   "source": [
    "### Удаление пропусков (продолжение)"
   ]
  },
  {
   "cell_type": "markdown",
   "id": "25e90b77",
   "metadata": {
    "deletable": false,
    "editable": false,
    "id": "f4ea573f"
   },
   "source": [
    "**Задание 11. Заполните пропуски в столбце `days_employed` медианными значениями по каждого типа занятости `income_type`.**"
   ]
  },
  {
   "cell_type": "code",
   "execution_count": 12,
   "id": "93dc9e42",
   "metadata": {
    "deletable": false,
    "id": "af6b1a7e"
   },
   "outputs": [],
   "source": [
    "for t in data['income_type'].unique():\n",
    "    data.loc[(data['income_type'] == t) & (data['days_employed'].isna()), 'days_employed'] = \\\n",
    "    data.loc[(data['income_type'] == t), 'days_employed'].median()"
   ]
  },
  {
   "cell_type": "markdown",
   "id": "7f55d75c",
   "metadata": {
    "deletable": false,
    "editable": false,
    "id": "2753f40d"
   },
   "source": [
    "**Задание 12. Убедитесь, что все пропуски заполнены. Проверьте себя и ещё раз выведите количество пропущенных значений для каждого столбца с помощью двух методов.**"
   ]
  },
  {
   "cell_type": "code",
   "execution_count": 13,
   "id": "671b43a2",
   "metadata": {
    "deletable": false,
    "id": "55f78bc2",
    "outputId": "8da1e4e1-358e-4e87-98c9-f261bce0a7b2"
   },
   "outputs": [
    {
     "data": {
      "text/plain": [
       "children            0\n",
       "days_employed       0\n",
       "dob_years           0\n",
       "education           0\n",
       "education_id        0\n",
       "family_status       0\n",
       "family_status_id    0\n",
       "gender              0\n",
       "income_type         0\n",
       "debt                0\n",
       "total_income        0\n",
       "purpose             0\n",
       "dtype: int64"
      ]
     },
     "execution_count": 13,
     "metadata": {},
     "output_type": "execute_result"
    }
   ],
   "source": [
    "data.isna().sum()"
   ]
  },
  {
   "cell_type": "markdown",
   "id": "4c609b87",
   "metadata": {
    "deletable": false,
    "editable": false,
    "id": "ddc81e43"
   },
   "source": [
    "### Изменение типов данных"
   ]
  },
  {
   "cell_type": "markdown",
   "id": "1a0088db",
   "metadata": {
    "deletable": false,
    "editable": false,
    "id": "42d19d24"
   },
   "source": [
    "**Задание 13. Замените вещественный тип данных в столбце `total_income` на целочисленный с помощью метода `astype()`.**"
   ]
  },
  {
   "cell_type": "code",
   "execution_count": 14,
   "id": "23815aa4",
   "metadata": {
    "deletable": false,
    "id": "920b65ad"
   },
   "outputs": [],
   "source": [
    "data['total_income'] = data['total_income'].astype(int)"
   ]
  },
  {
   "cell_type": "markdown",
   "id": "290595e2",
   "metadata": {
    "deletable": false,
    "editable": false,
    "id": "80c420ba"
   },
   "source": [
    "### Обработка дубликатов"
   ]
  },
  {
   "cell_type": "markdown",
   "id": "c556e8b4",
   "metadata": {
    "deletable": false,
    "editable": false
   },
   "source": [
    "**Задание 14. Обработайте неявные дубликаты в столбце `education`. В этом столбце есть одни и те же значения, но записанные по-разному: с использованием заглавных и строчных букв. Приведите их к нижнему регистру. Проверьте остальные столбцы.**"
   ]
  },
  {
   "cell_type": "code",
   "execution_count": 15,
   "id": "daa6d873",
   "metadata": {
    "deletable": false
   },
   "outputs": [],
   "source": [
    "data['education'] = data['education'].str.lower()"
   ]
  },
  {
   "cell_type": "markdown",
   "id": "c71b1986",
   "metadata": {
    "deletable": false,
    "editable": false,
    "id": "dc587695"
   },
   "source": [
    "**Задание 15. Выведите на экран количество строк-дубликатов в данных. Если такие строки присутствуют, удалите их.**"
   ]
  },
  {
   "cell_type": "code",
   "execution_count": 16,
   "id": "7be85996",
   "metadata": {
    "deletable": false,
    "id": "3ee445e4",
    "outputId": "9684deba-1934-42d1-99e1-cda61740f822"
   },
   "outputs": [
    {
     "data": {
      "text/plain": [
       "71"
      ]
     },
     "execution_count": 16,
     "metadata": {},
     "output_type": "execute_result"
    }
   ],
   "source": [
    "data.duplicated().sum()"
   ]
  },
  {
   "cell_type": "code",
   "execution_count": 17,
   "id": "3b302e33",
   "metadata": {
    "deletable": false,
    "id": "8575fe05"
   },
   "outputs": [],
   "source": [
    "data = data.drop_duplicates()"
   ]
  },
  {
   "cell_type": "markdown",
   "id": "d379f9d5",
   "metadata": {
    "deletable": false,
    "editable": false,
    "id": "9904cf55"
   },
   "source": [
    "### Категоризация данных"
   ]
  },
  {
   "cell_type": "markdown",
   "id": "0640e617",
   "metadata": {
    "deletable": false,
    "editable": false,
    "id": "72fcc8a2"
   },
   "source": [
    "**Задание 16. На основании диапазонов, указанных ниже, создайте в датафрейме `data` столбец `total_income_category` с категориями:**\n",
    "\n",
    "- 0–30000 — `'E'`;\n",
    "- 30001–50000 — `'D'`;\n",
    "- 50001–200000 — `'C'`;\n",
    "- 200001–1000000 — `'B'`;\n",
    "- 1000001 и выше — `'A'`.\n",
    "\n",
    "\n",
    "**Например, кредитополучателю с доходом 25000 нужно назначить категорию `'E'`, а клиенту, получающему 235000, — `'B'`. Используйте собственную функцию с именем `categorize_income()` и метод `apply()`.**"
   ]
  },
  {
   "cell_type": "code",
   "execution_count": 18,
   "id": "9bfd1906",
   "metadata": {
    "deletable": false,
    "id": "e1771346"
   },
   "outputs": [],
   "source": [
    "def categorize_income(income):\n",
    "    try:\n",
    "        if 0 <= income <= 30000:\n",
    "            return 'E'\n",
    "        elif 30001 <= income <= 50000:\n",
    "            return 'D'\n",
    "        elif 50001 <= income <= 200000:\n",
    "            return 'C'\n",
    "        elif 200001 <= income <= 1000000:\n",
    "            return 'B'\n",
    "        elif income >= 1000001:\n",
    "            return 'A'\n",
    "    except:\n",
    "        pass"
   ]
  },
  {
   "cell_type": "code",
   "execution_count": 19,
   "id": "2325454b",
   "metadata": {
    "deletable": false,
    "id": "d5f3586d"
   },
   "outputs": [],
   "source": [
    "data['total_income_category'] = data['total_income'].apply(categorize_income)"
   ]
  },
  {
   "cell_type": "markdown",
   "id": "e30e78e0",
   "metadata": {
    "deletable": false,
    "editable": false,
    "id": "dde49b5c"
   },
   "source": [
    "**Задание 17. Выведите на экран перечень уникальных целей взятия кредита из столбца `purpose`.**"
   ]
  },
  {
   "cell_type": "code",
   "execution_count": 20,
   "id": "87de6c96",
   "metadata": {
    "deletable": false,
    "id": "f67ce9b3",
    "outputId": "673c12d9-7d7e-4ae0-9812-c622c89dd244"
   },
   "outputs": [
    {
     "data": {
      "text/plain": [
       "array(['покупка жилья', 'приобретение автомобиля',\n",
       "       'дополнительное образование', 'сыграть свадьбу',\n",
       "       'операции с жильем', 'образование', 'на проведение свадьбы',\n",
       "       'покупка жилья для семьи', 'покупка недвижимости',\n",
       "       'покупка коммерческой недвижимости', 'покупка жилой недвижимости',\n",
       "       'строительство собственной недвижимости', 'недвижимость',\n",
       "       'строительство недвижимости', 'на покупку подержанного автомобиля',\n",
       "       'на покупку своего автомобиля',\n",
       "       'операции с коммерческой недвижимостью',\n",
       "       'строительство жилой недвижимости', 'жилье',\n",
       "       'операции со своей недвижимостью', 'автомобили',\n",
       "       'заняться образованием', 'сделка с подержанным автомобилем',\n",
       "       'получение образования', 'автомобиль', 'свадьба',\n",
       "       'получение дополнительного образования', 'покупка своего жилья',\n",
       "       'операции с недвижимостью', 'получение высшего образования',\n",
       "       'свой автомобиль', 'сделка с автомобилем',\n",
       "       'профильное образование', 'высшее образование',\n",
       "       'покупка жилья для сдачи', 'на покупку автомобиля', 'ремонт жилью',\n",
       "       'заняться высшим образованием'], dtype=object)"
      ]
     },
     "execution_count": 20,
     "metadata": {},
     "output_type": "execute_result"
    }
   ],
   "source": [
    "data['purpose'].unique()"
   ]
  },
  {
   "cell_type": "markdown",
   "id": "3681e0af",
   "metadata": {
    "deletable": false,
    "editable": false,
    "id": "85d0aef0"
   },
   "source": [
    "**Задание 18. Создайте функцию, которая на основании данных из столбца `purpose` сформирует новый столбец `purpose_category`, в который войдут следующие категории:**\n",
    "\n",
    "- `'операции с автомобилем'`,\n",
    "- `'операции с недвижимостью'`,\n",
    "- `'проведение свадьбы'`,\n",
    "- `'получение образования'`.\n",
    "\n",
    "**Например, если в столбце `purpose` находится подстрока `'на покупку автомобиля'`, то в столбце `purpose_category` должна появиться строка `'операции с автомобилем'`.**\n",
    "\n",
    "**Используйте собственную функцию с именем `categorize_purpose()` и метод `apply()`. Изучите данные в столбце `purpose` и определите, какие подстроки помогут вам правильно определить категорию.**"
   ]
  },
  {
   "cell_type": "code",
   "execution_count": 21,
   "id": "4ea30f97",
   "metadata": {
    "deletable": false,
    "id": "e149fab4"
   },
   "outputs": [],
   "source": [
    "def categorize_purpose(row):\n",
    "    try:\n",
    "        if 'автом' in row:\n",
    "            return 'операции с автомобилем'\n",
    "        elif 'жил' in row or 'недвиж' in row:\n",
    "            return 'операции с недвижимостью'\n",
    "        elif 'свад' in row:\n",
    "            return 'проведение свадьбы'\n",
    "        elif 'образов' in row:\n",
    "            return 'получение образования'\n",
    "    except:\n",
    "        return 'нет категории'"
   ]
  },
  {
   "cell_type": "code",
   "execution_count": 22,
   "id": "d62cbb65",
   "metadata": {
    "deletable": false,
    "id": "bf36e69b"
   },
   "outputs": [],
   "source": [
    "data['purpose_category'] = data['purpose'].apply(categorize_purpose)"
   ]
  },
  {
   "cell_type": "markdown",
   "id": "19a9c0be",
   "metadata": {
    "deletable": false,
    "editable": false,
    "id": "09b242bf"
   },
   "source": [
    "### Шаг 3. Исследуйте данные и ответьте на вопросы"
   ]
  },
  {
   "cell_type": "markdown",
   "id": "a6dea0ea",
   "metadata": {},
   "source": [
    "<div class=\"alert alert-danger\">\n",
    "<b>Комментарий ревьюера №1</b> ❌ Замечание по всему разделу ответов на вопросы \n",
    "    \n",
    "Гораздо рациональнее здесь воспользоваться `pivot_table()`.\n",
    "    \n",
    "Чтобы найти долю должников, нужно количество должников поделить на общее число заемщиков. Эту долю можно найти с помощью функции агрегации `mean`\n",
    "    \n",
    "Попробуй получить сводную следующего вида. В индексе столбец, который исследуем (в первом вопросе это количество детей), а столбцы: 'Всего кредитополучателей', 'Всего должников', 'Доля должников'. Учитывай, что использовать параметр columns необязательно, а в параметр aggfunc можно указывать несколько функций агрегации сразу.\n",
    "\n",
    "Также могу посоветовать переименовать столбцы и написать функцию для построения сводных во всех вопросах.\n",
    "</div>"
   ]
  },
  {
   "cell_type": "markdown",
   "id": "1ef732b1",
   "metadata": {},
   "source": [
    "<div class=\"alert alert-info\">\n",
    "Привет. Я поменял в разделах создание таблиц используя `pivot_table()`. Изначально я хотел проверить себя, умею ли я пользоваться всем возможными способами создания сводных таблиц.\n",
    "</div>"
   ]
  },
  {
   "cell_type": "markdown",
   "id": "cee8bcc8",
   "metadata": {
    "deletable": false,
    "editable": false,
    "id": "c5d66278"
   },
   "source": [
    "#### 3.1 Есть ли зависимость между количеством детей и возвратом кредита в срок?"
   ]
  },
  {
   "cell_type": "markdown",
   "id": "40c6aac9",
   "metadata": {},
   "source": [
    "Проверяю распределение и кол-во уникальных значений в столбце **`children`.**"
   ]
  },
  {
   "cell_type": "code",
   "execution_count": 23,
   "id": "2d8bdd92",
   "metadata": {},
   "outputs": [
    {
     "data": {
      "text/plain": [
       "0    14091\n",
       "1     4808\n",
       "2     2052\n",
       "3      330\n",
       "4       41\n",
       "5        9\n",
       "Name: children, dtype: int64"
      ]
     },
     "execution_count": 23,
     "metadata": {},
     "output_type": "execute_result"
    }
   ],
   "source": [
    "data['children'].value_counts()"
   ]
  },
  {
   "cell_type": "markdown",
   "id": "aa89dfd3",
   "metadata": {},
   "source": [
    "Проверяю распределение и кол-во заемщиков с предыдущей просрочкой по выплате кредита."
   ]
  },
  {
   "cell_type": "code",
   "execution_count": 24,
   "id": "95001b90",
   "metadata": {
    "deletable": false,
    "id": "2cacfc4a"
   },
   "outputs": [
    {
     "data": {
      "text/plain": [
       "0    1063\n",
       "1     444\n",
       "2     194\n",
       "3      27\n",
       "4       4\n",
       "Name: children, dtype: int64"
      ]
     },
     "execution_count": 24,
     "metadata": {},
     "output_type": "execute_result"
    }
   ],
   "source": [
    "data.loc[(data['debt'] == 1), 'children'].value_counts()"
   ]
  },
  {
   "cell_type": "markdown",
   "id": "af89c493",
   "metadata": {},
   "source": [
    "Создаю функцию для категоризации столбца по кол-ву детей у заёмщика. Кактегорий будет три, т.к. заемщиков с кол-вом детей от 3 до 5 очень мало в выборках по отношению к другим 3 группам. Если брать данные выборки для анализа как есть, то можно сделать некорректные выводы."
   ]
  },
  {
   "cell_type": "code",
   "execution_count": 25,
   "id": "778b01af",
   "metadata": {},
   "outputs": [],
   "source": [
    "def child_category(amount):\n",
    "    if amount == 0:\n",
    "        return 'Без детей'\n",
    "    elif amount == 1:\n",
    "        return 'Один ребёнок'\n",
    "    else:\n",
    "        return 'Два и более ребёнка'"
   ]
  },
  {
   "cell_type": "markdown",
   "id": "a9e0a59c",
   "metadata": {},
   "source": [
    "Применяю функцию и проверяю ее работоспособность. "
   ]
  },
  {
   "cell_type": "code",
   "execution_count": 26,
   "id": "8fda770a",
   "metadata": {
    "scrolled": true
   },
   "outputs": [
    {
     "data": {
      "text/plain": [
       "Без детей              14091\n",
       "Один ребёнок            4808\n",
       "Два и более ребёнка     2432\n",
       "Name: child_category, dtype: int64"
      ]
     },
     "execution_count": 26,
     "metadata": {},
     "output_type": "execute_result"
    }
   ],
   "source": [
    "data['child_category'] = data['children'].apply(child_category)\n",
    "data['child_category'].value_counts()"
   ]
  },
  {
   "cell_type": "code",
   "execution_count": 27,
   "id": "22c3cc7d",
   "metadata": {
    "scrolled": true
   },
   "outputs": [
    {
     "data": {
      "text/plain": [
       "0               Один ребёнок\n",
       "1               Один ребёнок\n",
       "2                  Без детей\n",
       "3        Два и более ребёнка\n",
       "4                  Без детей\n",
       "                ...         \n",
       "21520           Один ребёнок\n",
       "21521              Без детей\n",
       "21522           Один ребёнок\n",
       "21523    Два и более ребёнка\n",
       "21524    Два и более ребёнка\n",
       "Name: child_category, Length: 21331, dtype: object"
      ]
     },
     "execution_count": 27,
     "metadata": {},
     "output_type": "execute_result"
    }
   ],
   "source": [
    "data['child_category']"
   ]
  },
  {
   "cell_type": "markdown",
   "id": "b4b874ed",
   "metadata": {},
   "source": [
    "Создаю Series с данными по общему кол-ву заёмщиков в каждой категории."
   ]
  },
  {
   "cell_type": "code",
   "execution_count": 28,
   "id": "8a4c0848",
   "metadata": {
    "scrolled": true
   },
   "outputs": [
    {
     "data": {
      "text/plain": [
       "child_category\n",
       "Без детей              14091\n",
       "Два и более ребёнка     2432\n",
       "Один ребёнок            4808\n",
       "Name: children, dtype: int64"
      ]
     },
     "execution_count": 28,
     "metadata": {},
     "output_type": "execute_result"
    }
   ],
   "source": [
    "debtor_count = data.groupby('child_category')['children'].count()\n",
    "debtor_count"
   ]
  },
  {
   "cell_type": "markdown",
   "id": "6912ca75",
   "metadata": {},
   "source": [
    "Создаю Series с данными по общему кол-ву должников в каждой категории."
   ]
  },
  {
   "cell_type": "code",
   "execution_count": 29,
   "id": "613c9b48",
   "metadata": {
    "scrolled": true
   },
   "outputs": [
    {
     "data": {
      "text/plain": [
       "child_category\n",
       "Без детей              1063\n",
       "Два и более ребёнка     225\n",
       "Один ребёнок            444\n",
       "Name: children, dtype: int64"
      ]
     },
     "execution_count": 29,
     "metadata": {},
     "output_type": "execute_result"
    }
   ],
   "source": [
    "debt_is_count = data[data['debt'] == 1].groupby('child_category')['children'].count()\n",
    "debt_is_count"
   ]
  },
  {
   "cell_type": "markdown",
   "id": "120985aa",
   "metadata": {},
   "source": [
    "<div class=\"alert alert-info\">\n",
    "Решил создать функцию по созданию сводных таблиц в исследовании.\n",
    "</div>"
   ]
  },
  {
   "cell_type": "code",
   "execution_count": 30,
   "id": "59ba6a13",
   "metadata": {},
   "outputs": [],
   "source": [
    "def research_pivot_table(column):\n",
    "    new_table = pd.pivot_table(data,\n",
    "               index=column,\n",
    "               values=['debt'],\n",
    "               aggfunc=['count','sum','mean'])\n",
    "    new_table.columns = ['Общее кол-во заёщиков', 'Кол-во заёмщиков с просрочкой', 'Доля просрочки в %']\n",
    "    new_table['Доля просрочки в %'] = new_table['Доля просрочки в %'].mul(100).round(2)\n",
    "    new_table = new_table.sort_values('Доля просрочки в %')\n",
    "    return new_table"
   ]
  },
  {
   "cell_type": "markdown",
   "id": "cc667f6b",
   "metadata": {},
   "source": [
    "Создаю таблицу, чтобы объеденить все ранее сделанные расчеты, путем объединения двух ранее созданных Series методом `merge()`."
   ]
  },
  {
   "cell_type": "code",
   "execution_count": 31,
   "id": "4205fdd6",
   "metadata": {
    "scrolled": false
   },
   "outputs": [
    {
     "data": {
      "text/html": [
       "<div>\n",
       "<style scoped>\n",
       "    .dataframe tbody tr th:only-of-type {\n",
       "        vertical-align: middle;\n",
       "    }\n",
       "\n",
       "    .dataframe tbody tr th {\n",
       "        vertical-align: top;\n",
       "    }\n",
       "\n",
       "    .dataframe thead th {\n",
       "        text-align: right;\n",
       "    }\n",
       "</style>\n",
       "<table border=\"1\" class=\"dataframe\">\n",
       "  <thead>\n",
       "    <tr style=\"text-align: right;\">\n",
       "      <th></th>\n",
       "      <th>Общее кол-во заёщиков</th>\n",
       "      <th>Кол-во заёмщиков с просрочкой</th>\n",
       "      <th>Доля просрочки в %</th>\n",
       "    </tr>\n",
       "    <tr>\n",
       "      <th>child_category</th>\n",
       "      <th></th>\n",
       "      <th></th>\n",
       "      <th></th>\n",
       "    </tr>\n",
       "  </thead>\n",
       "  <tbody>\n",
       "    <tr>\n",
       "      <th>Без детей</th>\n",
       "      <td>14091</td>\n",
       "      <td>1063</td>\n",
       "      <td>7.54</td>\n",
       "    </tr>\n",
       "    <tr>\n",
       "      <th>Один ребёнок</th>\n",
       "      <td>4808</td>\n",
       "      <td>444</td>\n",
       "      <td>9.23</td>\n",
       "    </tr>\n",
       "    <tr>\n",
       "      <th>Два и более ребёнка</th>\n",
       "      <td>2432</td>\n",
       "      <td>225</td>\n",
       "      <td>9.25</td>\n",
       "    </tr>\n",
       "  </tbody>\n",
       "</table>\n",
       "</div>"
      ],
      "text/plain": [
       "                     Общее кол-во заёщиков  Кол-во заёмщиков с просрочкой  \\\n",
       "child_category                                                              \n",
       "Без детей                            14091                           1063   \n",
       "Один ребёнок                          4808                            444   \n",
       "Два и более ребёнка                   2432                            225   \n",
       "\n",
       "                     Доля просрочки в %  \n",
       "child_category                           \n",
       "Без детей                          7.54  \n",
       "Один ребёнок                       9.23  \n",
       "Два и более ребёнка                9.25  "
      ]
     },
     "metadata": {},
     "output_type": "display_data"
    }
   ],
   "source": [
    "research_child_debt_result = research_pivot_table('child_category')\n",
    "display(research_child_debt_result)"
   ]
  },
  {
   "cell_type": "markdown",
   "id": "d060a19c",
   "metadata": {},
   "source": [
    "<div class=\"alert alert-warning\">\n",
    "<b>Комментарий ревьюера №1</b> ⚠️\n",
    "    \n",
    "Длинные строки лучше разбивать на несколько\n",
    "</div>"
   ]
  },
  {
   "cell_type": "markdown",
   "id": "97c5ca12",
   "metadata": {},
   "source": [
    "<div class=\"alert alert-info\">\n",
    "    Ты имеешь ввиду строки кода или названия столбцов?\n",
    "</div>"
   ]
  },
  {
   "cell_type": "markdown",
   "id": "781b0285",
   "metadata": {},
   "source": [
    "<div class=\"alert alert-success\">\n",
    "<b>Комментарий ревьюера №2</b> ✅\n",
    "    \n",
    "Строки кода, это соответствует стилистическому гайду <a href=\"https://peps.python.org/pep-0008/\">pep 8</a>\n",
    "</div>"
   ]
  },
  {
   "cell_type": "code",
   "execution_count": 32,
   "id": "991c3ea0",
   "metadata": {},
   "outputs": [
    {
     "data": {
      "text/plain": [
       "<AxesSubplot:title={'center':'Доля заемщиков с просроченной задолженностью'}>"
      ]
     },
     "execution_count": 32,
     "metadata": {},
     "output_type": "execute_result"
    },
    {
     "data": {
      "image/png": "[encoded data removed]",
      "text/plain": [
       "<Figure size 432x288 with 1 Axes>"
      ]
     },
     "metadata": {
      "needs_background": "light"
     },
     "output_type": "display_data"
    }
   ],
   "source": [
    "research_child_debt_result = research_child_debt_result.reset_index()\n",
    "research_child_debt_result.plot(x='child_category', y='Доля просрочки в %', kind='bar', \n",
    "                                title = 'Доля заемщиков с просроченной задолженностью', \n",
    "                                xlabel='', rot=40)"
   ]
  },
  {
   "cell_type": "markdown",
   "id": "e7c1c1b7",
   "metadata": {},
   "source": [
    "<div class=\"alert alert-success\">\n",
    "<b>Комментарий ревьюера №2</b> ✅\n",
    "    \n",
    "График можно создавать в той же функции\n",
    "</div>"
   ]
  },
  {
   "cell_type": "markdown",
   "id": "1027565e",
   "metadata": {
    "deletable": false,
    "id": "3a6b99ec"
   },
   "source": [
    "**Вывод:** На основании проведенного анализа можно увидеть положительную зависимость между количеством детей у заемщика и долей заемщиков с просрочками по возврату кредита. Разница в долях между заемщиками с одним ребенком и заемщиками без детей может достигать **_22% (1.7 п.п.)_**. Соответственно, учет данного фактора может сделать сделку с заемщиком без детей менее рискованной для кредитной организации."
   ]
  },
  {
   "cell_type": "markdown",
   "id": "d0c8db14",
   "metadata": {},
   "source": [
    "<div class=\"alert alert-success\">\n",
    "<b>Комментарий ревьюера №1</b> ✅\n",
    "    \n",
    "Чем больше детей, тем выше процент должников\n",
    "</div>"
   ]
  },
  {
   "cell_type": "markdown",
   "id": "829cf9c3",
   "metadata": {
    "deletable": false,
    "editable": false,
    "id": "97be82ca"
   },
   "source": [
    "#### 3.2 Есть ли зависимость между семейным положением и возвратом кредита в срок?"
   ]
  },
  {
   "cell_type": "code",
   "execution_count": 33,
   "id": "0f2527b1",
   "metadata": {
    "deletable": false,
    "id": "dc3f7ee8"
   },
   "outputs": [
    {
     "data": {
      "text/plain": [
       "женат / замужем          12261\n",
       "гражданский брак          4134\n",
       "Не женат / не замужем     2796\n",
       "в разводе                 1189\n",
       "вдовец / вдова             951\n",
       "Name: family_status, dtype: int64"
      ]
     },
     "execution_count": 33,
     "metadata": {},
     "output_type": "execute_result"
    }
   ],
   "source": [
    "data['family_status'].value_counts()"
   ]
  },
  {
   "cell_type": "code",
   "execution_count": 34,
   "id": "c679975d",
   "metadata": {},
   "outputs": [
    {
     "data": {
      "text/plain": [
       "женат / замужем          927\n",
       "гражданский брак         385\n",
       "Не женат / не замужем    273\n",
       "в разводе                 84\n",
       "вдовец / вдова            63\n",
       "Name: family_status, dtype: int64"
      ]
     },
     "execution_count": 34,
     "metadata": {},
     "output_type": "execute_result"
    }
   ],
   "source": [
    "data[data['debt'] == 1]['family_status'].value_counts()"
   ]
  },
  {
   "cell_type": "code",
   "execution_count": 35,
   "id": "e3d80f10",
   "metadata": {},
   "outputs": [
    {
     "data": {
      "text/plain": [
       "family_status\n",
       "Не женат / не замужем     2796\n",
       "в разводе                 1189\n",
       "вдовец / вдова             951\n",
       "гражданский брак          4134\n",
       "женат / замужем          12261\n",
       "Name: debt, dtype: int64"
      ]
     },
     "execution_count": 35,
     "metadata": {},
     "output_type": "execute_result"
    }
   ],
   "source": [
    "family_status_count = data.groupby('family_status')['debt'].count()\n",
    "family_status_count"
   ]
  },
  {
   "cell_type": "code",
   "execution_count": 36,
   "id": "8729781d",
   "metadata": {},
   "outputs": [
    {
     "data": {
      "text/plain": [
       "family_status\n",
       "Не женат / не замужем    273\n",
       "в разводе                 84\n",
       "вдовец / вдова            63\n",
       "гражданский брак         385\n",
       "женат / замужем          927\n",
       "Name: debt, dtype: int64"
      ]
     },
     "execution_count": 36,
     "metadata": {},
     "output_type": "execute_result"
    }
   ],
   "source": [
    "family_debt_is_count = data[data['debt'] == 1].groupby('family_status')['debt'].count()\n",
    "family_debt_is_count"
   ]
  },
  {
   "cell_type": "markdown",
   "id": "32bf24c2",
   "metadata": {},
   "source": [
    "Строим сводную таблицу для вывода долей заемщиков с просрочкой по кредиту среди категорий по семейному статусу."
   ]
  },
  {
   "cell_type": "code",
   "execution_count": 37,
   "id": "8dac1eaa",
   "metadata": {},
   "outputs": [
    {
     "data": {
      "text/html": [
       "<div>\n",
       "<style scoped>\n",
       "    .dataframe tbody tr th:only-of-type {\n",
       "        vertical-align: middle;\n",
       "    }\n",
       "\n",
       "    .dataframe tbody tr th {\n",
       "        vertical-align: top;\n",
       "    }\n",
       "\n",
       "    .dataframe thead th {\n",
       "        text-align: right;\n",
       "    }\n",
       "</style>\n",
       "<table border=\"1\" class=\"dataframe\">\n",
       "  <thead>\n",
       "    <tr style=\"text-align: right;\">\n",
       "      <th></th>\n",
       "      <th>Общее кол-во заёщиков</th>\n",
       "      <th>Кол-во заёмщиков с просрочкой</th>\n",
       "      <th>Доля просрочки в %</th>\n",
       "    </tr>\n",
       "    <tr>\n",
       "      <th>family_status</th>\n",
       "      <th></th>\n",
       "      <th></th>\n",
       "      <th></th>\n",
       "    </tr>\n",
       "  </thead>\n",
       "  <tbody>\n",
       "    <tr>\n",
       "      <th>вдовец / вдова</th>\n",
       "      <td>951</td>\n",
       "      <td>63</td>\n",
       "      <td>6.62</td>\n",
       "    </tr>\n",
       "    <tr>\n",
       "      <th>в разводе</th>\n",
       "      <td>1189</td>\n",
       "      <td>84</td>\n",
       "      <td>7.06</td>\n",
       "    </tr>\n",
       "    <tr>\n",
       "      <th>женат / замужем</th>\n",
       "      <td>12261</td>\n",
       "      <td>927</td>\n",
       "      <td>7.56</td>\n",
       "    </tr>\n",
       "    <tr>\n",
       "      <th>гражданский брак</th>\n",
       "      <td>4134</td>\n",
       "      <td>385</td>\n",
       "      <td>9.31</td>\n",
       "    </tr>\n",
       "    <tr>\n",
       "      <th>Не женат / не замужем</th>\n",
       "      <td>2796</td>\n",
       "      <td>273</td>\n",
       "      <td>9.76</td>\n",
       "    </tr>\n",
       "  </tbody>\n",
       "</table>\n",
       "</div>"
      ],
      "text/plain": [
       "                       Общее кол-во заёщиков  Кол-во заёмщиков с просрочкой  \\\n",
       "family_status                                                                 \n",
       "вдовец / вдова                           951                             63   \n",
       "в разводе                               1189                             84   \n",
       "женат / замужем                        12261                            927   \n",
       "гражданский брак                        4134                            385   \n",
       "Не женат / не замужем                   2796                            273   \n",
       "\n",
       "                       Доля просрочки в %  \n",
       "family_status                              \n",
       "вдовец / вдова                       6.62  \n",
       "в разводе                            7.06  \n",
       "женат / замужем                      7.56  \n",
       "гражданский брак                     9.31  \n",
       "Не женат / не замужем                9.76  "
      ]
     },
     "execution_count": 37,
     "metadata": {},
     "output_type": "execute_result"
    }
   ],
   "source": [
    "research_pivot_table('family_status')"
   ]
  },
  {
   "cell_type": "markdown",
   "id": "1670208d",
   "metadata": {},
   "source": [
    "Строим сводную таблиц с двумя категорями (семейсный статус, кол-во детей) с выводом долей просрочек по кредиту среди заямщиков, учитывая две группы."
   ]
  },
  {
   "cell_type": "code",
   "execution_count": 45,
   "id": "7139e843",
   "metadata": {
    "scrolled": true
   },
   "outputs": [
    {
     "data": {
      "text/html": [
       "<div>\n",
       "<style scoped>\n",
       "    .dataframe tbody tr th:only-of-type {\n",
       "        vertical-align: middle;\n",
       "    }\n",
       "\n",
       "    .dataframe tbody tr th {\n",
       "        vertical-align: top;\n",
       "    }\n",
       "\n",
       "    .dataframe thead th {\n",
       "        text-align: right;\n",
       "    }\n",
       "</style>\n",
       "<table border=\"1\" class=\"dataframe\">\n",
       "  <thead>\n",
       "    <tr style=\"text-align: right;\">\n",
       "      <th></th>\n",
       "      <th></th>\n",
       "      <th>Общее кол-во заёмщиков</th>\n",
       "      <th>Кол-во заёмщиков с просрочкой</th>\n",
       "      <th>Доля просрочки в %</th>\n",
       "    </tr>\n",
       "    <tr>\n",
       "      <th>family_status</th>\n",
       "      <th>child_category</th>\n",
       "      <th></th>\n",
       "      <th></th>\n",
       "      <th></th>\n",
       "    </tr>\n",
       "  </thead>\n",
       "  <tbody>\n",
       "    <tr>\n",
       "      <th>вдовец / вдова</th>\n",
       "      <th>Без детей</th>\n",
       "      <td>847</td>\n",
       "      <td>53</td>\n",
       "      <td>6.26</td>\n",
       "    </tr>\n",
       "    <tr>\n",
       "      <th>в разводе</th>\n",
       "      <th>Один ребёнок</th>\n",
       "      <td>312</td>\n",
       "      <td>21</td>\n",
       "      <td>6.73</td>\n",
       "    </tr>\n",
       "    <tr>\n",
       "      <th>женат / замужем</th>\n",
       "      <th>Без детей</th>\n",
       "      <td>7468</td>\n",
       "      <td>516</td>\n",
       "      <td>6.91</td>\n",
       "    </tr>\n",
       "    <tr>\n",
       "      <th>в разводе</th>\n",
       "      <th>Без детей</th>\n",
       "      <td>784</td>\n",
       "      <td>55</td>\n",
       "      <td>7.02</td>\n",
       "    </tr>\n",
       "    <tr>\n",
       "      <th>женат / замужем</th>\n",
       "      <th>Один ребёнок</th>\n",
       "      <td>2975</td>\n",
       "      <td>246</td>\n",
       "      <td>8.27</td>\n",
       "    </tr>\n",
       "    <tr>\n",
       "      <th>гражданский брак</th>\n",
       "      <th>Без детей</th>\n",
       "      <td>2730</td>\n",
       "      <td>229</td>\n",
       "      <td>8.39</td>\n",
       "    </tr>\n",
       "    <tr>\n",
       "      <th>в разводе</th>\n",
       "      <th>Два и более ребёнка</th>\n",
       "      <td>93</td>\n",
       "      <td>8</td>\n",
       "      <td>8.60</td>\n",
       "    </tr>\n",
       "    <tr>\n",
       "      <th>женат / замужем</th>\n",
       "      <th>Два и более ребёнка</th>\n",
       "      <td>1818</td>\n",
       "      <td>165</td>\n",
       "      <td>9.08</td>\n",
       "    </tr>\n",
       "    <tr>\n",
       "      <th>вдовец / вдова</th>\n",
       "      <th>Один ребёнок</th>\n",
       "      <td>77</td>\n",
       "      <td>7</td>\n",
       "      <td>9.09</td>\n",
       "    </tr>\n",
       "    <tr>\n",
       "      <th>Не женат / не замужем</th>\n",
       "      <th>Без детей</th>\n",
       "      <td>2262</td>\n",
       "      <td>210</td>\n",
       "      <td>9.28</td>\n",
       "    </tr>\n",
       "    <tr>\n",
       "      <th>гражданский брак</th>\n",
       "      <th>Два и более ребёнка</th>\n",
       "      <td>409</td>\n",
       "      <td>38</td>\n",
       "      <td>9.29</td>\n",
       "    </tr>\n",
       "    <tr>\n",
       "      <th>вдовец / вдова</th>\n",
       "      <th>Два и более ребёнка</th>\n",
       "      <td>27</td>\n",
       "      <td>3</td>\n",
       "      <td>11.11</td>\n",
       "    </tr>\n",
       "    <tr>\n",
       "      <th>Не женат / не замужем</th>\n",
       "      <th>Один ребёнок</th>\n",
       "      <td>449</td>\n",
       "      <td>52</td>\n",
       "      <td>11.58</td>\n",
       "    </tr>\n",
       "    <tr>\n",
       "      <th>гражданский брак</th>\n",
       "      <th>Один ребёнок</th>\n",
       "      <td>995</td>\n",
       "      <td>118</td>\n",
       "      <td>11.86</td>\n",
       "    </tr>\n",
       "    <tr>\n",
       "      <th>Не женат / не замужем</th>\n",
       "      <th>Два и более ребёнка</th>\n",
       "      <td>85</td>\n",
       "      <td>11</td>\n",
       "      <td>12.94</td>\n",
       "    </tr>\n",
       "  </tbody>\n",
       "</table>\n",
       "</div>"
      ],
      "text/plain": [
       "                                           Общее кол-во заёмщиков  \\\n",
       "family_status         child_category                                \n",
       "вдовец / вдова        Без детей                               847   \n",
       "в разводе             Один ребёнок                            312   \n",
       "женат / замужем       Без детей                              7468   \n",
       "в разводе             Без детей                               784   \n",
       "женат / замужем       Один ребёнок                           2975   \n",
       "гражданский брак      Без детей                              2730   \n",
       "в разводе             Два и более ребёнка                      93   \n",
       "женат / замужем       Два и более ребёнка                    1818   \n",
       "вдовец / вдова        Один ребёнок                             77   \n",
       "Не женат / не замужем Без детей                              2262   \n",
       "гражданский брак      Два и более ребёнка                     409   \n",
       "вдовец / вдова        Два и более ребёнка                      27   \n",
       "Не женат / не замужем Один ребёнок                            449   \n",
       "гражданский брак      Один ребёнок                            995   \n",
       "Не женат / не замужем Два и более ребёнка                      85   \n",
       "\n",
       "                                           Кол-во заёмщиков с просрочкой  \\\n",
       "family_status         child_category                                       \n",
       "вдовец / вдова        Без детей                                       53   \n",
       "в разводе             Один ребёнок                                    21   \n",
       "женат / замужем       Без детей                                      516   \n",
       "в разводе             Без детей                                       55   \n",
       "женат / замужем       Один ребёнок                                   246   \n",
       "гражданский брак      Без детей                                      229   \n",
       "в разводе             Два и более ребёнка                              8   \n",
       "женат / замужем       Два и более ребёнка                            165   \n",
       "вдовец / вдова        Один ребёнок                                     7   \n",
       "Не женат / не замужем Без детей                                      210   \n",
       "гражданский брак      Два и более ребёнка                             38   \n",
       "вдовец / вдова        Два и более ребёнка                              3   \n",
       "Не женат / не замужем Один ребёнок                                    52   \n",
       "гражданский брак      Один ребёнок                                   118   \n",
       "Не женат / не замужем Два и более ребёнка                             11   \n",
       "\n",
       "                                           Доля просрочки в %  \n",
       "family_status         child_category                           \n",
       "вдовец / вдова        Без детей                          6.26  \n",
       "в разводе             Один ребёнок                       6.73  \n",
       "женат / замужем       Без детей                          6.91  \n",
       "в разводе             Без детей                          7.02  \n",
       "женат / замужем       Один ребёнок                       8.27  \n",
       "гражданский брак      Без детей                          8.39  \n",
       "в разводе             Два и более ребёнка                8.60  \n",
       "женат / замужем       Два и более ребёнка                9.08  \n",
       "вдовец / вдова        Один ребёнок                       9.09  \n",
       "Не женат / не замужем Без детей                          9.28  \n",
       "гражданский брак      Два и более ребёнка                9.29  \n",
       "вдовец / вдова        Два и более ребёнка               11.11  \n",
       "Не женат / не замужем Один ребёнок                      11.58  \n",
       "гражданский брак      Один ребёнок                      11.86  \n",
       "Не женат / не замужем Два и более ребёнка               12.94  "
      ]
     },
     "execution_count": 45,
     "metadata": {},
     "output_type": "execute_result"
    }
   ],
   "source": [
    "child_family_grouped = data.groupby(['family_status', 'child_category']).agg({'family_status': 'count',\n",
    "                                                                                      'debt': 'sum'})\n",
    "child_family_grouped['Доля просрочки в %'] = (child_family_grouped['debt'] / child_family_grouped['family_status']).mul(100).round(2)\n",
    "child_family_grouped = child_family_grouped.rename(columns={\"debt\": \"Кол-во заёмщиков с просрочкой\", 'family_status': \"Общее кол-во заёмщиков\"})\n",
    "child_family_grouped.sort_values(by='Доля просрочки в %')"
   ]
  },
  {
   "cell_type": "markdown",
   "id": "cc015ce9",
   "metadata": {},
   "source": [
    "<div class=\"alert alert-warning\">\n",
    "<b>Комментарий ревьюера №1</b> ⚠️\n",
    "    \n",
    "При анализе этой таблицы нужно учитывать репрезентативность выборок\n",
    "</div>"
   ]
  },
  {
   "cell_type": "markdown",
   "id": "9bdc5a09",
   "metadata": {},
   "source": [
    "<div class=\"alert alert-info\">\n",
    "<b>Комментарий студента №1</b>\n",
    "    \n",
    "Как можно проверить репрезентативность выборок и учесть два фактора?\n",
    "</div>"
   ]
  },
  {
   "cell_type": "markdown",
   "id": "79b9d968",
   "metadata": {},
   "source": [
    "<div class=\"alert alert-success\">\n",
    "<b>Комментарий ревьюера №2</b> ✅\n",
    "    \n",
    "Нужно посмотреть на общее количество клиентов. Также можно найти процент клиентов в каждой группе от общей численности. При низком проценте (например, \"в разводе + один ребёнок\") выборка нерепрезентативна\n",
    "</div>"
   ]
  },
  {
   "cell_type": "markdown",
   "id": "fea0a508",
   "metadata": {
    "deletable": false,
    "id": "1cef7837"
   },
   "source": [
    "**Вывод:** Просрочка по кредиту зависит от семейного статуса заёмщика. По таблице видно, что `вдовы(цы)`, `кто в разводе` и `замужем/женатые` более ответственно относятся к кредитным обязательствам нежели те, кто не состоит в браке. Видимо брак влияет на отношение к принятым на себя обязательствам. \n",
    "Однако, мне не совсем понятно почему существует категория `гражданский брак`, при условии, что в законодательстве не прописано это понятие. Но мой взгляд данную категорию можно объединить с `не женат/не замужем`.\n",
    "\n",
    "Следующей таблицей я решил проверить как влияет семейный статус и кол-во детей заемщика на просрочку по кредиту.Здесь картина немного меняется и на второй позиции находится категория \"в разводе + один ребёнок\". Но в целом брак (в прошлом и настоящем) влияет на отношение к взятым на себя обязательствам. "
   ]
  },
  {
   "cell_type": "markdown",
   "id": "474fec32",
   "metadata": {},
   "source": [
    "<div class=\"alert alert-success\">\n",
    "<b>Комментарий ревьюера №1</b> ✅\n",
    "    \n",
    "Люди, побывавшие в официальном браке, наиболее надежны. Возможно, есть связь с возрастом\n",
    "</div>"
   ]
  },
  {
   "cell_type": "markdown",
   "id": "f21997f9",
   "metadata": {
    "deletable": false,
    "editable": false,
    "id": "1e8b2fca"
   },
   "source": [
    "#### 3.3 Есть ли зависимость между уровнем дохода и возвратом кредита в срок?"
   ]
  },
  {
   "cell_type": "code",
   "execution_count": 39,
   "id": "32d57ba5",
   "metadata": {},
   "outputs": [
    {
     "data": {
      "text/plain": [
       "Index(['children', 'days_employed', 'dob_years', 'education', 'education_id',\n",
       "       'family_status', 'family_status_id', 'gender', 'income_type', 'debt',\n",
       "       'total_income', 'purpose', 'total_income_category', 'purpose_category',\n",
       "       'child_category'],\n",
       "      dtype='object')"
      ]
     },
     "execution_count": 39,
     "metadata": {},
     "output_type": "execute_result"
    }
   ],
   "source": [
    "data.columns"
   ]
  },
  {
   "cell_type": "code",
   "execution_count": 40,
   "id": "5d19a16c",
   "metadata": {},
   "outputs": [
    {
     "data": {
      "text/html": [
       "<div>\n",
       "<style scoped>\n",
       "    .dataframe tbody tr th:only-of-type {\n",
       "        vertical-align: middle;\n",
       "    }\n",
       "\n",
       "    .dataframe tbody tr th {\n",
       "        vertical-align: top;\n",
       "    }\n",
       "\n",
       "    .dataframe thead th {\n",
       "        text-align: right;\n",
       "    }\n",
       "</style>\n",
       "<table border=\"1\" class=\"dataframe\">\n",
       "  <thead>\n",
       "    <tr style=\"text-align: right;\">\n",
       "      <th></th>\n",
       "      <th>children</th>\n",
       "      <th>days_employed</th>\n",
       "      <th>dob_years</th>\n",
       "      <th>education</th>\n",
       "      <th>education_id</th>\n",
       "      <th>family_status</th>\n",
       "      <th>family_status_id</th>\n",
       "      <th>gender</th>\n",
       "      <th>income_type</th>\n",
       "      <th>debt</th>\n",
       "      <th>total_income</th>\n",
       "      <th>purpose</th>\n",
       "      <th>total_income_category</th>\n",
       "      <th>purpose_category</th>\n",
       "      <th>child_category</th>\n",
       "      <th>income_range</th>\n",
       "    </tr>\n",
       "  </thead>\n",
       "  <tbody>\n",
       "    <tr>\n",
       "      <th>0</th>\n",
       "      <td>1</td>\n",
       "      <td>8437.673028</td>\n",
       "      <td>42</td>\n",
       "      <td>высшее</td>\n",
       "      <td>0</td>\n",
       "      <td>женат / замужем</td>\n",
       "      <td>0</td>\n",
       "      <td>F</td>\n",
       "      <td>сотрудник</td>\n",
       "      <td>0</td>\n",
       "      <td>253875</td>\n",
       "      <td>покупка жилья</td>\n",
       "      <td>B</td>\n",
       "      <td>операции с недвижимостью</td>\n",
       "      <td>Один ребёнок</td>\n",
       "      <td>(195842.0, 2265604.0]</td>\n",
       "    </tr>\n",
       "    <tr>\n",
       "      <th>1</th>\n",
       "      <td>1</td>\n",
       "      <td>4024.803754</td>\n",
       "      <td>36</td>\n",
       "      <td>среднее</td>\n",
       "      <td>1</td>\n",
       "      <td>женат / замужем</td>\n",
       "      <td>0</td>\n",
       "      <td>F</td>\n",
       "      <td>сотрудник</td>\n",
       "      <td>0</td>\n",
       "      <td>112080</td>\n",
       "      <td>приобретение автомобиля</td>\n",
       "      <td>C</td>\n",
       "      <td>операции с автомобилем</td>\n",
       "      <td>Один ребёнок</td>\n",
       "      <td>(107507.0, 142594.0]</td>\n",
       "    </tr>\n",
       "    <tr>\n",
       "      <th>2</th>\n",
       "      <td>0</td>\n",
       "      <td>5623.422610</td>\n",
       "      <td>33</td>\n",
       "      <td>среднее</td>\n",
       "      <td>1</td>\n",
       "      <td>женат / замужем</td>\n",
       "      <td>0</td>\n",
       "      <td>M</td>\n",
       "      <td>сотрудник</td>\n",
       "      <td>0</td>\n",
       "      <td>145885</td>\n",
       "      <td>покупка жилья</td>\n",
       "      <td>C</td>\n",
       "      <td>операции с недвижимостью</td>\n",
       "      <td>Без детей</td>\n",
       "      <td>(142594.0, 195842.0]</td>\n",
       "    </tr>\n",
       "    <tr>\n",
       "      <th>3</th>\n",
       "      <td>3</td>\n",
       "      <td>4124.747207</td>\n",
       "      <td>32</td>\n",
       "      <td>среднее</td>\n",
       "      <td>1</td>\n",
       "      <td>женат / замужем</td>\n",
       "      <td>0</td>\n",
       "      <td>M</td>\n",
       "      <td>сотрудник</td>\n",
       "      <td>0</td>\n",
       "      <td>267628</td>\n",
       "      <td>дополнительное образование</td>\n",
       "      <td>B</td>\n",
       "      <td>получение образования</td>\n",
       "      <td>Два и более ребёнка</td>\n",
       "      <td>(195842.0, 2265604.0]</td>\n",
       "    </tr>\n",
       "    <tr>\n",
       "      <th>4</th>\n",
       "      <td>0</td>\n",
       "      <td>340266.072047</td>\n",
       "      <td>53</td>\n",
       "      <td>среднее</td>\n",
       "      <td>1</td>\n",
       "      <td>гражданский брак</td>\n",
       "      <td>1</td>\n",
       "      <td>F</td>\n",
       "      <td>пенсионер</td>\n",
       "      <td>0</td>\n",
       "      <td>158616</td>\n",
       "      <td>сыграть свадьбу</td>\n",
       "      <td>C</td>\n",
       "      <td>проведение свадьбы</td>\n",
       "      <td>Без детей</td>\n",
       "      <td>(142594.0, 195842.0]</td>\n",
       "    </tr>\n",
       "    <tr>\n",
       "      <th>5</th>\n",
       "      <td>0</td>\n",
       "      <td>926.185831</td>\n",
       "      <td>27</td>\n",
       "      <td>высшее</td>\n",
       "      <td>0</td>\n",
       "      <td>гражданский брак</td>\n",
       "      <td>1</td>\n",
       "      <td>M</td>\n",
       "      <td>компаньон</td>\n",
       "      <td>0</td>\n",
       "      <td>255763</td>\n",
       "      <td>покупка жилья</td>\n",
       "      <td>B</td>\n",
       "      <td>операции с недвижимостью</td>\n",
       "      <td>Без детей</td>\n",
       "      <td>(195842.0, 2265604.0]</td>\n",
       "    </tr>\n",
       "    <tr>\n",
       "      <th>6</th>\n",
       "      <td>0</td>\n",
       "      <td>2879.202052</td>\n",
       "      <td>43</td>\n",
       "      <td>высшее</td>\n",
       "      <td>0</td>\n",
       "      <td>женат / замужем</td>\n",
       "      <td>0</td>\n",
       "      <td>F</td>\n",
       "      <td>компаньон</td>\n",
       "      <td>0</td>\n",
       "      <td>240525</td>\n",
       "      <td>операции с жильем</td>\n",
       "      <td>B</td>\n",
       "      <td>операции с недвижимостью</td>\n",
       "      <td>Без детей</td>\n",
       "      <td>(195842.0, 2265604.0]</td>\n",
       "    </tr>\n",
       "    <tr>\n",
       "      <th>7</th>\n",
       "      <td>0</td>\n",
       "      <td>152.779569</td>\n",
       "      <td>50</td>\n",
       "      <td>среднее</td>\n",
       "      <td>1</td>\n",
       "      <td>женат / замужем</td>\n",
       "      <td>0</td>\n",
       "      <td>M</td>\n",
       "      <td>сотрудник</td>\n",
       "      <td>0</td>\n",
       "      <td>135823</td>\n",
       "      <td>образование</td>\n",
       "      <td>C</td>\n",
       "      <td>получение образования</td>\n",
       "      <td>Без детей</td>\n",
       "      <td>(107507.0, 142594.0]</td>\n",
       "    </tr>\n",
       "    <tr>\n",
       "      <th>8</th>\n",
       "      <td>2</td>\n",
       "      <td>6929.865299</td>\n",
       "      <td>35</td>\n",
       "      <td>высшее</td>\n",
       "      <td>0</td>\n",
       "      <td>гражданский брак</td>\n",
       "      <td>1</td>\n",
       "      <td>F</td>\n",
       "      <td>сотрудник</td>\n",
       "      <td>0</td>\n",
       "      <td>95856</td>\n",
       "      <td>на проведение свадьбы</td>\n",
       "      <td>C</td>\n",
       "      <td>проведение свадьбы</td>\n",
       "      <td>Два и более ребёнка</td>\n",
       "      <td>(20666.999, 107507.0]</td>\n",
       "    </tr>\n",
       "    <tr>\n",
       "      <th>9</th>\n",
       "      <td>0</td>\n",
       "      <td>2188.756445</td>\n",
       "      <td>41</td>\n",
       "      <td>среднее</td>\n",
       "      <td>1</td>\n",
       "      <td>женат / замужем</td>\n",
       "      <td>0</td>\n",
       "      <td>M</td>\n",
       "      <td>сотрудник</td>\n",
       "      <td>0</td>\n",
       "      <td>144425</td>\n",
       "      <td>покупка жилья для семьи</td>\n",
       "      <td>C</td>\n",
       "      <td>операции с недвижимостью</td>\n",
       "      <td>Без детей</td>\n",
       "      <td>(142594.0, 195842.0]</td>\n",
       "    </tr>\n",
       "  </tbody>\n",
       "</table>\n",
       "</div>"
      ],
      "text/plain": [
       "   children  days_employed  dob_years education  education_id  \\\n",
       "0         1    8437.673028         42    высшее             0   \n",
       "1         1    4024.803754         36   среднее             1   \n",
       "2         0    5623.422610         33   среднее             1   \n",
       "3         3    4124.747207         32   среднее             1   \n",
       "4         0  340266.072047         53   среднее             1   \n",
       "5         0     926.185831         27    высшее             0   \n",
       "6         0    2879.202052         43    высшее             0   \n",
       "7         0     152.779569         50   среднее             1   \n",
       "8         2    6929.865299         35    высшее             0   \n",
       "9         0    2188.756445         41   среднее             1   \n",
       "\n",
       "      family_status  family_status_id gender income_type  debt  total_income  \\\n",
       "0   женат / замужем                 0      F   сотрудник     0        253875   \n",
       "1   женат / замужем                 0      F   сотрудник     0        112080   \n",
       "2   женат / замужем                 0      M   сотрудник     0        145885   \n",
       "3   женат / замужем                 0      M   сотрудник     0        267628   \n",
       "4  гражданский брак                 1      F   пенсионер     0        158616   \n",
       "5  гражданский брак                 1      M   компаньон     0        255763   \n",
       "6   женат / замужем                 0      F   компаньон     0        240525   \n",
       "7   женат / замужем                 0      M   сотрудник     0        135823   \n",
       "8  гражданский брак                 1      F   сотрудник     0         95856   \n",
       "9   женат / замужем                 0      M   сотрудник     0        144425   \n",
       "\n",
       "                      purpose total_income_category          purpose_category  \\\n",
       "0               покупка жилья                     B  операции с недвижимостью   \n",
       "1     приобретение автомобиля                     C    операции с автомобилем   \n",
       "2               покупка жилья                     C  операции с недвижимостью   \n",
       "3  дополнительное образование                     B     получение образования   \n",
       "4             сыграть свадьбу                     C        проведение свадьбы   \n",
       "5               покупка жилья                     B  операции с недвижимостью   \n",
       "6           операции с жильем                     B  операции с недвижимостью   \n",
       "7                 образование                     C     получение образования   \n",
       "8       на проведение свадьбы                     C        проведение свадьбы   \n",
       "9     покупка жилья для семьи                     C  операции с недвижимостью   \n",
       "\n",
       "        child_category           income_range  \n",
       "0         Один ребёнок  (195842.0, 2265604.0]  \n",
       "1         Один ребёнок   (107507.0, 142594.0]  \n",
       "2            Без детей   (142594.0, 195842.0]  \n",
       "3  Два и более ребёнка  (195842.0, 2265604.0]  \n",
       "4            Без детей   (142594.0, 195842.0]  \n",
       "5            Без детей  (195842.0, 2265604.0]  \n",
       "6            Без детей  (195842.0, 2265604.0]  \n",
       "7            Без детей   (107507.0, 142594.0]  \n",
       "8  Два и более ребёнка  (20666.999, 107507.0]  \n",
       "9            Без детей   (142594.0, 195842.0]  "
      ]
     },
     "execution_count": 40,
     "metadata": {},
     "output_type": "execute_result"
    }
   ],
   "source": [
    "data['income_range'] = pd.qcut(data['total_income'], q=4)\n",
    "data.head(10)"
   ]
  },
  {
   "cell_type": "code",
   "execution_count": 41,
   "id": "9295797c",
   "metadata": {
    "deletable": false,
    "id": "cd7e3720"
   },
   "outputs": [
    {
     "data": {
      "text/html": [
       "<div>\n",
       "<style scoped>\n",
       "    .dataframe tbody tr th:only-of-type {\n",
       "        vertical-align: middle;\n",
       "    }\n",
       "\n",
       "    .dataframe tbody tr th {\n",
       "        vertical-align: top;\n",
       "    }\n",
       "\n",
       "    .dataframe thead th {\n",
       "        text-align: right;\n",
       "    }\n",
       "</style>\n",
       "<table border=\"1\" class=\"dataframe\">\n",
       "  <thead>\n",
       "    <tr style=\"text-align: right;\">\n",
       "      <th></th>\n",
       "      <th>Общее кол-во заёщиков</th>\n",
       "      <th>Кол-во заёмщиков с просрочкой</th>\n",
       "      <th>Доля просрочки в %</th>\n",
       "    </tr>\n",
       "    <tr>\n",
       "      <th>income_range</th>\n",
       "      <th></th>\n",
       "      <th></th>\n",
       "      <th></th>\n",
       "    </tr>\n",
       "  </thead>\n",
       "  <tbody>\n",
       "    <tr>\n",
       "      <th>(195842.0, 2265604.0]</th>\n",
       "      <td>5332</td>\n",
       "      <td>381</td>\n",
       "      <td>7.15</td>\n",
       "    </tr>\n",
       "    <tr>\n",
       "      <th>(20666.999, 107507.0]</th>\n",
       "      <td>5333</td>\n",
       "      <td>427</td>\n",
       "      <td>8.01</td>\n",
       "    </tr>\n",
       "    <tr>\n",
       "      <th>(142594.0, 195842.0]</th>\n",
       "      <td>5216</td>\n",
       "      <td>444</td>\n",
       "      <td>8.51</td>\n",
       "    </tr>\n",
       "    <tr>\n",
       "      <th>(107507.0, 142594.0]</th>\n",
       "      <td>5450</td>\n",
       "      <td>480</td>\n",
       "      <td>8.81</td>\n",
       "    </tr>\n",
       "  </tbody>\n",
       "</table>\n",
       "</div>"
      ],
      "text/plain": [
       "                       Общее кол-во заёщиков  Кол-во заёмщиков с просрочкой  \\\n",
       "income_range                                                                  \n",
       "(195842.0, 2265604.0]                   5332                            381   \n",
       "(20666.999, 107507.0]                   5333                            427   \n",
       "(142594.0, 195842.0]                    5216                            444   \n",
       "(107507.0, 142594.0]                    5450                            480   \n",
       "\n",
       "                       Доля просрочки в %  \n",
       "income_range                               \n",
       "(195842.0, 2265604.0]                7.15  \n",
       "(20666.999, 107507.0]                8.01  \n",
       "(142594.0, 195842.0]                 8.51  \n",
       "(107507.0, 142594.0]                 8.81  "
      ]
     },
     "metadata": {},
     "output_type": "display_data"
    }
   ],
   "source": [
    "research_income_debt_grouped = research_pivot_table('income_range')\n",
    "display(research_income_debt_grouped)"
   ]
  },
  {
   "cell_type": "code",
   "execution_count": 42,
   "id": "87f2dd30",
   "metadata": {},
   "outputs": [
    {
     "data": {
      "text/plain": [
       "<AxesSubplot:title={'center':'Доля заемщиков с просроченной задолженностью'}>"
      ]
     },
     "execution_count": 42,
     "metadata": {},
     "output_type": "execute_result"
    },
    {
     "data": {
      "image/png": "[encoded data removed]",
      "text/plain": [
       "<Figure size 432x288 with 1 Axes>"
      ]
     },
     "metadata": {
      "needs_background": "light"
     },
     "output_type": "display_data"
    }
   ],
   "source": [
    "research_income_debt_grouped = research_income_debt_grouped.reset_index()\n",
    "research_income_debt_grouped.plot(x='income_range', y='Доля просрочки в %', kind='bar', \n",
    "                                title = 'Доля заемщиков с просроченной задолженностью', \n",
    "                                xlabel='', rot=40)"
   ]
  },
  {
   "cell_type": "code",
   "execution_count": 43,
   "id": "e051fdf9",
   "metadata": {},
   "outputs": [
    {
     "data": {
      "text/html": [
       "<div>\n",
       "<style scoped>\n",
       "    .dataframe tbody tr th:only-of-type {\n",
       "        vertical-align: middle;\n",
       "    }\n",
       "\n",
       "    .dataframe tbody tr th {\n",
       "        vertical-align: top;\n",
       "    }\n",
       "\n",
       "    .dataframe thead th {\n",
       "        text-align: right;\n",
       "    }\n",
       "</style>\n",
       "<table border=\"1\" class=\"dataframe\">\n",
       "  <thead>\n",
       "    <tr style=\"text-align: right;\">\n",
       "      <th></th>\n",
       "      <th>Общее кол-во заёщиков</th>\n",
       "      <th>Кол-во заёмщиков с просрочкой</th>\n",
       "      <th>Доля просрочки в %</th>\n",
       "    </tr>\n",
       "    <tr>\n",
       "      <th>total_income_category</th>\n",
       "      <th></th>\n",
       "      <th></th>\n",
       "      <th></th>\n",
       "    </tr>\n",
       "  </thead>\n",
       "  <tbody>\n",
       "    <tr>\n",
       "      <th>D</th>\n",
       "      <td>349</td>\n",
       "      <td>21</td>\n",
       "      <td>6.02</td>\n",
       "    </tr>\n",
       "    <tr>\n",
       "      <th>B</th>\n",
       "      <td>5014</td>\n",
       "      <td>354</td>\n",
       "      <td>7.06</td>\n",
       "    </tr>\n",
       "    <tr>\n",
       "      <th>A</th>\n",
       "      <td>25</td>\n",
       "      <td>2</td>\n",
       "      <td>8.00</td>\n",
       "    </tr>\n",
       "    <tr>\n",
       "      <th>C</th>\n",
       "      <td>15921</td>\n",
       "      <td>1353</td>\n",
       "      <td>8.50</td>\n",
       "    </tr>\n",
       "    <tr>\n",
       "      <th>E</th>\n",
       "      <td>22</td>\n",
       "      <td>2</td>\n",
       "      <td>9.09</td>\n",
       "    </tr>\n",
       "  </tbody>\n",
       "</table>\n",
       "</div>"
      ],
      "text/plain": [
       "                       Общее кол-во заёщиков  Кол-во заёмщиков с просрочкой  \\\n",
       "total_income_category                                                         \n",
       "D                                        349                             21   \n",
       "B                                       5014                            354   \n",
       "A                                         25                              2   \n",
       "C                                      15921                           1353   \n",
       "E                                         22                              2   \n",
       "\n",
       "                       Доля просрочки в %  \n",
       "total_income_category                      \n",
       "D                                    6.02  \n",
       "B                                    7.06  \n",
       "A                                    8.00  \n",
       "C                                    8.50  \n",
       "E                                    9.09  "
      ]
     },
     "execution_count": 43,
     "metadata": {},
     "output_type": "execute_result"
    }
   ],
   "source": [
    "research_pivot_table('total_income_category')"
   ]
  },
  {
   "cell_type": "markdown",
   "id": "0afec037",
   "metadata": {
    "deletable": false,
    "id": "e8593def"
   },
   "source": [
    "**Вывод:** Я решил разделить доход заемщиков на квартили, так как изначальное разделение (по категориям) было неравномерным. На основании сводной таблицы можно сделать вывод, что заёмщики с высоким доходом более отвественно относятся к взятым обязательствам. В некой степени это логично, т.к. люди с более высоким доходом обычно имеет лучшее образование, в финансовом плане, а также больше возможности чтобы недопустить просрочку по уплате долга. \n",
    "\n",
    "Если посмотреть на результат, используя изначальную группировку по категории дохода, то лучше всего сравнить между собой категории `B (200001-1000000)` и `C (50001-200000)`, так как в других категорях низкое кол-во значений, что мешает сделать корректный вывод.\n",
    "Возвращаясь к категоии `B` и `C` можно заметить, как и в случае разделения на квартили, доля просрочек у заёмщиков с более высоким доходом ниже (**разница составляет 20%**). Это может быть связано как с боллее высокой финансовой дисциплиной, так и большими финансовыми возможностми избегать просрочку.\n",
    "\n",
    "В любом случае, на мой взгляд, должна существовать некая утвержденная в банке методология по группировке заемщиков относительно их дохода."
   ]
  },
  {
   "cell_type": "markdown",
   "id": "dcb6f76f",
   "metadata": {},
   "source": [
    "<div class=\"alert alert-danger\">\n",
    "<b>Комментарий ревьюера №1</b> ❌\n",
    "    \n",
    "Нужно дополнить вывод по категориям заказчика. Какую зависимость можно выявить, сравнив категории В и С? По остальным категориям данных недостаточно для корректных выводов, статпогрешность большая\n",
    "</div>"
   ]
  },
  {
   "cell_type": "markdown",
   "id": "489aae96",
   "metadata": {},
   "source": [
    "<div class=\"alert alert-info\">\n",
    "<b>Комментарий студента №2</b>\n",
    "    \n",
    "Вывод дополнил.\n",
    "</div>"
   ]
  },
  {
   "cell_type": "markdown",
   "id": "0c479c1d",
   "metadata": {},
   "source": [
    "<div class=\"alert alert-success\">\n",
    "<b>Комментарий ревьюера №2</b> ✅\n",
    "    \n",
    "Чем выше доход, тем ниже процент должников\n",
    "</div>"
   ]
  },
  {
   "cell_type": "markdown",
   "id": "3cd902e1",
   "metadata": {
    "deletable": false,
    "editable": false,
    "id": "99ecbd1f"
   },
   "source": [
    "#### 3.4 Как разные цели кредита влияют на его возврат в срок?"
   ]
  },
  {
   "cell_type": "code",
   "execution_count": 44,
   "id": "9116fb91",
   "metadata": {
    "deletable": false,
    "id": "2b687290"
   },
   "outputs": [
    {
     "data": {
      "text/html": [
       "<div>\n",
       "<style scoped>\n",
       "    .dataframe tbody tr th:only-of-type {\n",
       "        vertical-align: middle;\n",
       "    }\n",
       "\n",
       "    .dataframe tbody tr th {\n",
       "        vertical-align: top;\n",
       "    }\n",
       "\n",
       "    .dataframe thead th {\n",
       "        text-align: right;\n",
       "    }\n",
       "</style>\n",
       "<table border=\"1\" class=\"dataframe\">\n",
       "  <thead>\n",
       "    <tr style=\"text-align: right;\">\n",
       "      <th></th>\n",
       "      <th>Общее кол-во заёщиков</th>\n",
       "      <th>Кол-во заёмщиков с просрочкой</th>\n",
       "      <th>Доля просрочки в %</th>\n",
       "    </tr>\n",
       "    <tr>\n",
       "      <th>purpose_category</th>\n",
       "      <th></th>\n",
       "      <th></th>\n",
       "      <th></th>\n",
       "    </tr>\n",
       "  </thead>\n",
       "  <tbody>\n",
       "    <tr>\n",
       "      <th>операции с недвижимостью</th>\n",
       "      <td>10751</td>\n",
       "      <td>780</td>\n",
       "      <td>7.26</td>\n",
       "    </tr>\n",
       "    <tr>\n",
       "      <th>проведение свадьбы</th>\n",
       "      <td>2313</td>\n",
       "      <td>183</td>\n",
       "      <td>7.91</td>\n",
       "    </tr>\n",
       "    <tr>\n",
       "      <th>получение образования</th>\n",
       "      <td>3988</td>\n",
       "      <td>369</td>\n",
       "      <td>9.25</td>\n",
       "    </tr>\n",
       "    <tr>\n",
       "      <th>операции с автомобилем</th>\n",
       "      <td>4279</td>\n",
       "      <td>400</td>\n",
       "      <td>9.35</td>\n",
       "    </tr>\n",
       "  </tbody>\n",
       "</table>\n",
       "</div>"
      ],
      "text/plain": [
       "                          Общее кол-во заёщиков  \\\n",
       "purpose_category                                  \n",
       "операции с недвижимостью                  10751   \n",
       "проведение свадьбы                         2313   \n",
       "получение образования                      3988   \n",
       "операции с автомобилем                     4279   \n",
       "\n",
       "                          Кол-во заёмщиков с просрочкой  Доля просрочки в %  \n",
       "purpose_category                                                             \n",
       "операции с недвижимостью                            780                7.26  \n",
       "проведение свадьбы                                  183                7.91  \n",
       "получение образования                               369                9.25  \n",
       "операции с автомобилем                              400                9.35  "
      ]
     },
     "execution_count": 44,
     "metadata": {},
     "output_type": "execute_result"
    }
   ],
   "source": [
    "research_pivot_table('purpose_category')"
   ]
  },
  {
   "cell_type": "markdown",
   "id": "30b127d7",
   "metadata": {
    "deletable": false,
    "id": "b4bb2ce6"
   },
   "source": [
    "**Вывод:** Категория \"операция с недвижимостью\" имеет самое низкое значение по просрочке долга. Видимо это связано с тем, что:\n",
    "- Заемщик, беря займ, скорее всего приобритает единственное жилье и он вынужден вовремя погашать очередной платеж, чтобы не лишиться данного жилья.\n",
    "- В данной категории возможно находятся заемщики, имеющие высокий доход и с высокой финансовой дисциплиной.\n",
    "- Если недвижимость приобритается для последующей сдачи в аренду, то появляется стабильный доход, которым можно погашать очередные платежи.\n",
    "\n",
    "Далее следует категория \"проведение свадьбы\". Низкий уровень просрочки может быть связан с тем, что:\n",
    "- Размер займа относительно невелик (_это предположение, т.к. данных в таблице нет_) и ежемесячные платежи по займу не занимают больщую долю семейного бюджета.\n",
    "- При оплате свадебных расходов могут учавствовать родственники молодоженов, что также снижает нагрузку по обязательствам молодоженов.\n",
    "- На свадьбах обычно дарят деньги, которые молодожены могут направить на погашение взятого займа.\n",
    "\n",
    "Кактегория \"получение образования\" имеет более высокой значение доли просрочки (**на 17% по сравнению с предыдущей категорией**). Это может быть связано с тем, что:\n",
    "- Основной заёмщик это молодые люди, у которых нет постоянного источника дохода.\n",
    "- Отсутствие финансовой дисциплины у молодого заемщика.\n",
    "\n",
    "Категория \"операция с автомобилем\" имеет самое выское значение доли просрочки и сопоставим с категорией \"получение образования\". Это может быть связано со следующим:\n",
    "- Автомобиль может приобретаться для получения заработка, если автомобиль выходит из строя, то источник дохода пропадает.\n",
    "- Приобретая автомобиль, заемщик может не учесть весь спектр расходов на него (ТО, страховка и т.д.) и в конечном итоге не имеет возможности обслуживать кредит. (Нужен анализ с учетом категории заемщика по доходу, занятости).\n",
    "- Если автомобиль приобретается в семью, а после происходит развод, то на мой взгляд также может повлиять на оплату платежа в срок."
   ]
  },
  {
   "cell_type": "markdown",
   "id": "f9569042",
   "metadata": {},
   "source": [
    "<div class=\"alert alert-success\">\n",
    "<b>Комментарий ревьюера №1</b> ✅\n",
    "    \n",
    "Верно\n",
    "</div>"
   ]
  },
  {
   "cell_type": "markdown",
   "id": "9b1122b5",
   "metadata": {
    "deletable": false,
    "editable": false,
    "id": "09c3ac4c"
   },
   "source": [
    "#### 3.5 Приведите возможные причины появления пропусков в исходных данных."
   ]
  },
  {
   "cell_type": "markdown",
   "id": "6daf90de",
   "metadata": {
    "deletable": false,
    "id": "9da2ceda"
   },
   "source": [
    "Возможные причины появления пропусков следующие:\n",
    "1) Человеческий фактор. \n",
    "- Могли пропустить данные при ручной обработке (_например, пропустили поля при заполнении_).\n",
    "- Заемщик мог отказаться от разглашения данных. Например, мог не указать место работы (_если этот пункт необязательный_) и/или указать, что он безработный. Что касается дохода, то обеспеченный клиент может скрывать эту информацию. Определенный слой госслужащих может также скрывать данные о доходах.\n",
    "\n",
    "2) Технический фактор. \n",
    "- Проблемы с подключением к базе данных.\n",
    "- Проблема с загрузкой данных в базу. (Нужно посмотреть в каком филиале(ах) банка формировались данные по заемщикам, где пропущены данный). \n",
    "- Проблемы с выгрузкой из базы данных \n",
    "- Проблемы с хранением данных. \n"
   ]
  },
  {
   "cell_type": "markdown",
   "id": "07008d25",
   "metadata": {},
   "source": [
    "<div class=\"alert alert-success\">\n",
    "<b>Комментарий ревьюера №1</b> ✅\n",
    "    \n",
    "Клиенты могли не предоставить данные. Возможно, эту информацию не требуют в некоторых случаях. Проблемы могли возникнуть на этапе загрузки и на этапе выгрузки данных. Неправильный запрос, объединение таблиц также может быть причиной.\n",
    "</div>"
   ]
  },
  {
   "cell_type": "markdown",
   "id": "7a6f2781",
   "metadata": {
    "deletable": false,
    "editable": false,
    "id": "7b0487d6"
   },
   "source": [
    "#### 3.6 Объясните, почему заполнить пропуски медианным значением — лучшее решение для количественных переменных."
   ]
  },
  {
   "cell_type": "markdown",
   "id": "a5fbaff2",
   "metadata": {
    "deletable": false,
    "id": "7ecf2b8e"
   },
   "source": [
    "Заполнять пропуски в количественных данных предпочтительнее медианным значением, так как оно является центральным значением из группы и позволяет игнорировать большие выбросы, в отличие от среднего арифметического."
   ]
  },
  {
   "cell_type": "markdown",
   "id": "5926a2bb",
   "metadata": {},
   "source": [
    "<div class=\"alert alert-success\">\n",
    "<b>Комментарий ревьюера №1</b> ✅\n",
    "    \n",
    "Да, смотрим на наличие выбросов👍 Эти значения могут быть как аномально высокими, так и аномально низкими. Медиана позволяет нивелировать их влияние. Медиана - центральное значение отсортированной выборки\n",
    "</div>"
   ]
  },
  {
   "cell_type": "markdown",
   "id": "49e1d702",
   "metadata": {
    "deletable": false,
    "editable": false,
    "id": "6db5255a"
   },
   "source": [
    "### Шаг 4: общий вывод."
   ]
  },
  {
   "cell_type": "markdown",
   "id": "24aa30eb",
   "metadata": {
    "deletable": false,
    "id": "bad65432"
   },
   "source": [
    "**В рамках настоящего проекта было сделано:**\n",
    "1. Загрузка данных;\n",
    "2. Обработка данных:\n",
    "    - Проверка на наличие артефактов в данных;\n",
    "    - Проверка на дубликаты;\n",
    "    - Поиск строк с пропущенными данными;\n",
    "    - Проверка на соответствие названия колонки и типа данных;\n",
    "    - Изменение типа данных на корректный.\n",
    "3. Исследвательский анализ и категоризация данных.\n",
    "4. Итоговый вывод.\n",
    "\n",
    "**Были выявлены следующие зависимости:**\n",
    "1. Чем больше детей у заёмщика, тем выше доля просрочки по раннее взятым займам.\n",
    "| Кол-во детей у заемщика  | Доля просрочки в % |\n",
    "| ------------- | ------------- |\n",
    "| Без детей  | 7.54  |\n",
    "| Один ребёнок  | 9.23  |\n",
    "| Два и более ребёнка  | 9.25  |\n",
    "\n",
    "2. Заёмщики побывавшие в браке выглядят более надежными заемщиками.\n",
    "| Семейный статус заёмщика |\tДоля просрочки в % |\n",
    "| ------------- | ------------- |\n",
    "| вдовец / вдова\t|\t6.62 |\n",
    "| в разводе\t|\t7.06 |\n",
    "| женат / замужем\t|\t7.56 |\n",
    "| гражданский брак\t|\t9.31 |\n",
    "| Не женат / не замужем\t|\t9.76 |\n",
    "\n",
    "3. Заёмщики с высоким доходом имеют низкую долю просрочки по кредитам (сравнивалась категория `B` и `C`, так как в остальных категориях малое кол-во данных).\n",
    "| Категория дохода |\tДоля просрочки в % |\n",
    "| ------------- | ------------- |\n",
    "| B (200001-1000000)\t|\t7.06 |\n",
    "| C (50001-200000)\t|\t8.50 |\n",
    "\n",
    "4. Займы в категории `операции с недвижимостью` имеют самую низкую долю просрочки по кредитам.\n",
    "| Семейный статус заёмщика |\tДоля просрочки в % |\n",
    "| ------------- | ------------- |\n",
    "| операции с недвижимостью\t|\t7.26 |\n",
    "| проведение свадьбы\t|\t7.91 |\n",
    "| получение образования\t|\t9.25 |\n",
    "| операции с автомобилем\t|\t9.35 |\n",
    "\n",
    "\n",
    "**Портрет заёмщика**.\n",
    "\n",
    "✅Надженый заёмщик:\n",
    "- В браке или состоял в нем;\n",
    "- Без детей;\n",
    "- Имеет высокий уровень дохода - от 200к;\n",
    "- Берет займ в категории `операции с недвижимостью` или на относительно небольшие расходы (в данном случае категория `проведение свадьбы`).\n",
    "\n",
    "❌Рискованный заёмщик:\n",
    "- Не женат / не замужем;\n",
    "- Имеет детей;\n",
    "- Имеет доход от 50001 до 200000;\n",
    "- Берет займ в категории `операции с автомобилем` или `получение образования`.\n",
    "\n",
    "**Рекомендации.**\n",
    "1. Разработать, утвердить и внедрить политику по унифицированной обработке данных о заказчиках.\n",
    "2. Разработать и утвердить метолологию по категоризации заемщиков.\n",
    "3. Проверить техническое состояние сети и оборудования, которое отвечает за базы данных.\n",
    "4. Нужно провести внутреннюю проверку в каком филиале(ах) банка формировались данные по заемщикам, где пропущены данные в разделах `общий рабочий стаж` и `доход заёмщика`.\n",
    "5. Провести дополнительный анализ заёмщика учитываю возрастной фактор."
   ]
  },
  {
   "cell_type": "markdown",
   "id": "d6b5a8dc",
   "metadata": {},
   "source": [
    "<div class=\"alert alert-danger\">\n",
    "<b>Комментарий ревьюера №1</b> ❌\n",
    " \n",
    "Выводы нужно будет дополнить. В первую очередь обращают внимание на выводы - это отчет перед заказчиком. Здесь нужно описать какая работа над данными была проведена и каких результатов удалось добиться. Опиши все зависимости. Рекомендованная структура выводов следующая:\n",
    "    \n",
    "- абзац по предобработке данных, что было сделано\n",
    "    \n",
    "- выявленные зависимости просрочки от разных факторов в общем виде\n",
    "    \n",
    "- портреты надежного и рискованного заемщика\n",
    "    \n",
    "- рекомендации заказчику\n",
    "</div>"
   ]
  },
  {
   "cell_type": "markdown",
   "id": "77c371c1",
   "metadata": {},
   "source": [
    "<div class=\"alert alert-info\">\n",
    "<b>Комментарий студента №3</b>\n",
    "    \n",
    "Изменил структуру и дополнил вывод.\n",
    "</div>"
   ]
  },
  {
   "cell_type": "markdown",
   "id": "b6d868ea",
   "metadata": {},
   "source": [
    "<div class=\"alert alert-success\">\n",
    "<b>Комментарий ревьюера №2</b> ✅\n",
    "    \n",
    "В качестве рекомендаций можно предложить другую категоризацию по доходам. Или исследовать другие признаки, рассчитать другие метрики (отношение дохода к сумме выплат и др.). В анкете сделать поля о доходе и стаже обязательными к заполнению, добавить автопроверку на формат вводимых пользователем данных\n",
    "</div>"
   ]
  },
  {
   "cell_type": "markdown",
   "id": "b935f2f0",
   "metadata": {},
   "source": [
    "<div style=\"border:solid purple 2px; padding: 20px\"> \n",
    "<b> <font color='purple' >   \n",
    "    \n",
    "В целом, работа хорошая. У тебя отличные аналитические навыки, но остались небольшие доработки. Нужно использовать `pivot_table()` для построения сводных, проверить выводы по доходу и общий вывод. Доделывай и присылай на повторную проверку.\n",
    "        \n",
    "Жду твоих исправлений 😊\n",
    "</font></b>\n",
    "</div>"
   ]
  },
  {
   "cell_type": "markdown",
   "id": "d93544f5",
   "metadata": {},
   "source": [
    "<div style=\"border:solid purple 2px; padding: 20px\"> \n",
    "<b> <font color='purple' >   \n",
    "Отлично! Критических замечаний больше нет. Проект принят! 👏 Поздравляю и желаю удачи!\n",
    "</font></b>\n",
    "</div>"
   ]
  }
 ],
 "metadata": {
  "ExecuteTimeLog": [
   {
    "duration": 52,
    "start_time": "2024-03-05T13:57:13.262Z"
   },
   {
    "duration": 750,
    "start_time": "2024-03-05T13:57:21.129Z"
   },
   {
    "duration": 20,
    "start_time": "2024-03-05T13:57:27.647Z"
   },
   {
    "duration": 77,
    "start_time": "2024-03-05T13:57:42.940Z"
   },
   {
    "duration": 16,
    "start_time": "2024-03-05T13:57:43.019Z"
   },
   {
    "duration": 19,
    "start_time": "2024-03-05T13:57:43.037Z"
   },
   {
    "duration": 11,
    "start_time": "2024-03-05T13:57:43.059Z"
   },
   {
    "duration": 59,
    "start_time": "2024-03-05T13:57:43.071Z"
   },
   {
    "duration": 4,
    "start_time": "2024-03-05T13:57:43.131Z"
   },
   {
    "duration": 17,
    "start_time": "2024-03-05T13:57:43.136Z"
   },
   {
    "duration": 25,
    "start_time": "2024-03-05T13:57:43.154Z"
   },
   {
    "duration": 29,
    "start_time": "2024-03-05T13:57:43.180Z"
   },
   {
    "duration": 11,
    "start_time": "2024-03-05T13:57:43.213Z"
   },
   {
    "duration": 48,
    "start_time": "2024-03-05T13:57:43.226Z"
   },
   {
    "duration": 11,
    "start_time": "2024-03-05T13:57:43.275Z"
   },
   {
    "duration": 6,
    "start_time": "2024-03-05T13:57:43.287Z"
   },
   {
    "duration": 27,
    "start_time": "2024-03-05T13:57:43.294Z"
   },
   {
    "duration": 21,
    "start_time": "2024-03-05T13:57:43.322Z"
   },
   {
    "duration": 18,
    "start_time": "2024-03-05T13:57:43.344Z"
   },
   {
    "duration": 4,
    "start_time": "2024-03-05T13:57:43.363Z"
   },
   {
    "duration": 20,
    "start_time": "2024-03-05T13:57:43.368Z"
   },
   {
    "duration": 6,
    "start_time": "2024-03-05T13:57:43.389Z"
   },
   {
    "duration": 5,
    "start_time": "2024-03-05T13:57:43.422Z"
   },
   {
    "duration": 19,
    "start_time": "2024-03-05T13:57:43.428Z"
   },
   {
    "duration": 15,
    "start_time": "2024-03-05T13:57:46.365Z"
   },
   {
    "duration": 5,
    "start_time": "2024-03-05T14:05:06.699Z"
   },
   {
    "duration": 6,
    "start_time": "2024-03-05T14:11:11.736Z"
   },
   {
    "duration": 9,
    "start_time": "2024-03-05T14:25:28.019Z"
   },
   {
    "duration": 9,
    "start_time": "2024-03-05T14:29:24.831Z"
   },
   {
    "duration": 7,
    "start_time": "2024-03-05T14:29:33.074Z"
   },
   {
    "duration": 9,
    "start_time": "2024-03-05T14:29:39.047Z"
   },
   {
    "duration": 75,
    "start_time": "2024-03-05T14:30:08.480Z"
   },
   {
    "duration": 41,
    "start_time": "2024-03-05T14:30:17.092Z"
   },
   {
    "duration": 16,
    "start_time": "2024-03-05T14:30:35.109Z"
   },
   {
    "duration": 9,
    "start_time": "2024-03-05T14:32:09.383Z"
   },
   {
    "duration": 1389,
    "start_time": "2024-03-05T14:43:14.363Z"
   },
   {
    "duration": 572,
    "start_time": "2024-03-05T14:43:41.559Z"
   },
   {
    "duration": 1534,
    "start_time": "2024-03-05T14:43:57.778Z"
   },
   {
    "duration": 623,
    "start_time": "2024-03-05T14:44:30.873Z"
   },
   {
    "duration": 9,
    "start_time": "2024-03-05T14:44:56.164Z"
   },
   {
    "duration": 9,
    "start_time": "2024-03-05T14:45:02.265Z"
   },
   {
    "duration": 9,
    "start_time": "2024-03-05T14:45:15.431Z"
   },
   {
    "duration": 13,
    "start_time": "2024-03-05T14:46:07.250Z"
   },
   {
    "duration": 681,
    "start_time": "2024-03-05T14:48:17.026Z"
   },
   {
    "duration": 162,
    "start_time": "2024-03-05T14:51:04.549Z"
   },
   {
    "duration": 19,
    "start_time": "2024-03-05T14:56:01.549Z"
   },
   {
    "duration": 4,
    "start_time": "2024-03-05T14:56:19.428Z"
   },
   {
    "duration": 93,
    "start_time": "2024-03-05T14:56:26.730Z"
   },
   {
    "duration": 17,
    "start_time": "2024-03-05T14:56:26.825Z"
   },
   {
    "duration": 36,
    "start_time": "2024-03-05T14:56:26.844Z"
   },
   {
    "duration": 14,
    "start_time": "2024-03-05T14:56:26.882Z"
   },
   {
    "duration": 53,
    "start_time": "2024-03-05T14:56:26.898Z"
   },
   {
    "duration": 3,
    "start_time": "2024-03-05T14:56:26.953Z"
   },
   {
    "duration": 14,
    "start_time": "2024-03-05T14:56:26.958Z"
   },
   {
    "duration": 5,
    "start_time": "2024-03-05T14:56:26.974Z"
   },
   {
    "duration": 7,
    "start_time": "2024-03-05T14:56:26.981Z"
   },
   {
    "duration": 8,
    "start_time": "2024-03-05T14:56:26.991Z"
   },
   {
    "duration": 59,
    "start_time": "2024-03-05T14:56:27.000Z"
   },
   {
    "duration": 11,
    "start_time": "2024-03-05T14:56:27.061Z"
   },
   {
    "duration": 4,
    "start_time": "2024-03-05T14:56:27.074Z"
   },
   {
    "duration": 20,
    "start_time": "2024-03-05T14:56:27.079Z"
   },
   {
    "duration": 41,
    "start_time": "2024-03-05T14:56:27.100Z"
   },
   {
    "duration": 18,
    "start_time": "2024-03-05T14:56:27.142Z"
   },
   {
    "duration": 4,
    "start_time": "2024-03-05T14:56:27.162Z"
   },
   {
    "duration": 14,
    "start_time": "2024-03-05T14:56:27.167Z"
   },
   {
    "duration": 10,
    "start_time": "2024-03-05T14:56:27.183Z"
   },
   {
    "duration": 5,
    "start_time": "2024-03-05T14:56:27.194Z"
   },
   {
    "duration": 11,
    "start_time": "2024-03-05T14:56:27.224Z"
   },
   {
    "duration": 7,
    "start_time": "2024-03-05T14:56:27.237Z"
   },
   {
    "duration": 9,
    "start_time": "2024-03-05T14:56:35.368Z"
   },
   {
    "duration": 6,
    "start_time": "2024-03-05T14:59:45.106Z"
   },
   {
    "duration": 9,
    "start_time": "2024-03-05T15:00:38.649Z"
   },
   {
    "duration": 21,
    "start_time": "2024-03-05T15:00:57.441Z"
   },
   {
    "duration": 17,
    "start_time": "2024-03-05T15:00:59.378Z"
   },
   {
    "duration": 11,
    "start_time": "2024-03-05T15:01:42.372Z"
   },
   {
    "duration": 16,
    "start_time": "2024-03-05T15:02:02.939Z"
   },
   {
    "duration": 19,
    "start_time": "2024-03-05T15:05:53.532Z"
   },
   {
    "duration": 39,
    "start_time": "2024-03-05T15:07:01.168Z"
   },
   {
    "duration": 28,
    "start_time": "2024-03-05T15:07:40.429Z"
   },
   {
    "duration": 16,
    "start_time": "2024-03-05T15:08:56.928Z"
   },
   {
    "duration": 6,
    "start_time": "2024-03-05T15:09:29.314Z"
   },
   {
    "duration": 7,
    "start_time": "2024-03-05T15:09:50.396Z"
   },
   {
    "duration": 4,
    "start_time": "2024-03-05T15:09:56.886Z"
   },
   {
    "duration": 9,
    "start_time": "2024-03-05T15:09:58.519Z"
   },
   {
    "duration": 564,
    "start_time": "2024-03-05T15:14:21.958Z"
   },
   {
    "duration": 584,
    "start_time": "2024-03-05T15:14:33.775Z"
   },
   {
    "duration": 593,
    "start_time": "2024-03-05T15:14:47.420Z"
   },
   {
    "duration": 633,
    "start_time": "2024-03-05T15:15:22.884Z"
   },
   {
    "duration": 6,
    "start_time": "2024-03-05T15:15:48.037Z"
   },
   {
    "duration": 5,
    "start_time": "2024-03-05T15:16:28.841Z"
   },
   {
    "duration": 25,
    "start_time": "2024-03-05T15:19:00.094Z"
   },
   {
    "duration": 21,
    "start_time": "2024-03-05T15:19:05.599Z"
   },
   {
    "duration": 4,
    "start_time": "2024-03-05T15:22:48.495Z"
   },
   {
    "duration": 73,
    "start_time": "2024-03-05T15:22:55.281Z"
   },
   {
    "duration": 9,
    "start_time": "2024-03-05T15:23:00.600Z"
   },
   {
    "duration": 28,
    "start_time": "2024-03-05T15:23:04.572Z"
   },
   {
    "duration": 10,
    "start_time": "2024-03-05T15:23:23.026Z"
   },
   {
    "duration": 8,
    "start_time": "2024-03-05T15:24:28.648Z"
   },
   {
    "duration": 8,
    "start_time": "2024-03-05T15:24:33.099Z"
   },
   {
    "duration": 6,
    "start_time": "2024-03-05T15:27:28.669Z"
   },
   {
    "duration": 77,
    "start_time": "2024-03-05T15:28:13.670Z"
   },
   {
    "duration": 23,
    "start_time": "2024-03-05T15:28:22.129Z"
   },
   {
    "duration": 1091,
    "start_time": "2024-03-05T15:34:32.717Z"
   },
   {
    "duration": 12,
    "start_time": "2024-03-05T15:34:39.750Z"
   },
   {
    "duration": 86,
    "start_time": "2024-03-05T15:36:44.557Z"
   },
   {
    "duration": 92,
    "start_time": "2024-03-05T15:36:57.471Z"
   },
   {
    "duration": 10,
    "start_time": "2024-03-05T15:37:27.644Z"
   },
   {
    "duration": 13,
    "start_time": "2024-03-05T15:37:43.884Z"
   },
   {
    "duration": 86,
    "start_time": "2024-03-05T15:38:01.214Z"
   },
   {
    "duration": 11,
    "start_time": "2024-03-05T15:38:07.006Z"
   },
   {
    "duration": 15,
    "start_time": "2024-03-05T15:39:53.575Z"
   },
   {
    "duration": 3,
    "start_time": "2024-03-05T15:40:02.557Z"
   },
   {
    "duration": 21,
    "start_time": "2024-03-05T15:40:06.191Z"
   },
   {
    "duration": 9,
    "start_time": "2024-03-05T15:40:13.080Z"
   },
   {
    "duration": 15,
    "start_time": "2024-03-05T15:40:41.301Z"
   },
   {
    "duration": 17,
    "start_time": "2024-03-05T15:40:46.632Z"
   },
   {
    "duration": 11,
    "start_time": "2024-03-05T15:41:25.098Z"
   },
   {
    "duration": 77,
    "start_time": "2024-03-05T15:42:48.516Z"
   },
   {
    "duration": 18,
    "start_time": "2024-03-05T15:42:56.277Z"
   },
   {
    "duration": 16,
    "start_time": "2024-03-05T15:44:11.358Z"
   },
   {
    "duration": 82,
    "start_time": "2024-03-05T15:46:45.333Z"
   },
   {
    "duration": 8,
    "start_time": "2024-03-05T15:46:50.098Z"
   },
   {
    "duration": 22,
    "start_time": "2024-03-05T17:06:29.698Z"
   },
   {
    "duration": 25,
    "start_time": "2024-03-05T17:06:38.029Z"
   },
   {
    "duration": 15,
    "start_time": "2024-03-05T17:06:57.701Z"
   },
   {
    "duration": 19,
    "start_time": "2024-03-05T17:07:02.241Z"
   },
   {
    "duration": 15,
    "start_time": "2024-03-05T17:07:06.713Z"
   },
   {
    "duration": 9,
    "start_time": "2024-03-05T17:08:00.546Z"
   },
   {
    "duration": 11,
    "start_time": "2024-03-05T17:12:12.103Z"
   },
   {
    "duration": 14,
    "start_time": "2024-03-05T17:12:14.720Z"
   },
   {
    "duration": 3,
    "start_time": "2024-03-05T17:13:21.454Z"
   },
   {
    "duration": 25,
    "start_time": "2024-03-05T17:20:14.983Z"
   },
   {
    "duration": 1339,
    "start_time": "2024-03-05T17:20:42.369Z"
   },
   {
    "duration": 318,
    "start_time": "2024-03-05T17:20:46.073Z"
   },
   {
    "duration": 29,
    "start_time": "2024-03-05T17:20:56.174Z"
   },
   {
    "duration": 9,
    "start_time": "2024-03-05T17:22:34.746Z"
   },
   {
    "duration": 10,
    "start_time": "2024-03-05T17:41:06.561Z"
   },
   {
    "duration": 5,
    "start_time": "2024-03-05T17:41:09.782Z"
   },
   {
    "duration": 13,
    "start_time": "2024-03-05T17:41:11.238Z"
   },
   {
    "duration": 1202,
    "start_time": "2024-03-05T17:43:25.760Z"
   },
   {
    "duration": 20,
    "start_time": "2024-03-05T17:43:46.220Z"
   },
   {
    "duration": 1113,
    "start_time": "2024-03-05T17:44:15.838Z"
   },
   {
    "duration": 1146,
    "start_time": "2024-03-05T17:44:24.420Z"
   },
   {
    "duration": 105,
    "start_time": "2024-03-05T17:44:37.309Z"
   },
   {
    "duration": 33,
    "start_time": "2024-03-05T17:44:37.416Z"
   },
   {
    "duration": 40,
    "start_time": "2024-03-05T17:44:37.460Z"
   },
   {
    "duration": 17,
    "start_time": "2024-03-05T17:44:37.503Z"
   },
   {
    "duration": 83,
    "start_time": "2024-03-05T17:44:37.522Z"
   },
   {
    "duration": 7,
    "start_time": "2024-03-05T17:44:37.613Z"
   },
   {
    "duration": 18,
    "start_time": "2024-03-05T17:44:37.628Z"
   },
   {
    "duration": 9,
    "start_time": "2024-03-05T17:44:37.651Z"
   },
   {
    "duration": 25,
    "start_time": "2024-03-05T17:44:37.666Z"
   },
   {
    "duration": 7,
    "start_time": "2024-03-05T17:44:37.695Z"
   },
   {
    "duration": 71,
    "start_time": "2024-03-05T17:44:37.705Z"
   },
   {
    "duration": 17,
    "start_time": "2024-03-05T17:44:37.779Z"
   },
   {
    "duration": 11,
    "start_time": "2024-03-05T17:44:37.798Z"
   },
   {
    "duration": 31,
    "start_time": "2024-03-05T17:44:37.811Z"
   },
   {
    "duration": 29,
    "start_time": "2024-03-05T17:44:37.850Z"
   },
   {
    "duration": 19,
    "start_time": "2024-03-05T17:44:37.882Z"
   },
   {
    "duration": 4,
    "start_time": "2024-03-05T17:44:37.903Z"
   },
   {
    "duration": 27,
    "start_time": "2024-03-05T17:44:37.928Z"
   },
   {
    "duration": 18,
    "start_time": "2024-03-05T17:44:37.958Z"
   },
   {
    "duration": 12,
    "start_time": "2024-03-05T17:44:37.978Z"
   },
   {
    "duration": 17,
    "start_time": "2024-03-05T17:44:37.992Z"
   },
   {
    "duration": 49,
    "start_time": "2024-03-05T17:44:38.011Z"
   },
   {
    "duration": 8,
    "start_time": "2024-03-05T17:44:38.063Z"
   },
   {
    "duration": 4,
    "start_time": "2024-03-05T17:44:38.076Z"
   },
   {
    "duration": 33,
    "start_time": "2024-03-05T17:44:38.082Z"
   },
   {
    "duration": 31,
    "start_time": "2024-03-05T17:44:38.116Z"
   },
   {
    "duration": 18,
    "start_time": "2024-03-05T17:44:38.152Z"
   },
   {
    "duration": 1231,
    "start_time": "2024-03-05T17:44:38.174Z"
   },
   {
    "duration": 0,
    "start_time": "2024-03-05T17:44:39.407Z"
   },
   {
    "duration": 0,
    "start_time": "2024-03-05T17:44:39.409Z"
   },
   {
    "duration": 0,
    "start_time": "2024-03-05T17:44:39.410Z"
   },
   {
    "duration": 337,
    "start_time": "2024-03-05T17:47:08.937Z"
   },
   {
    "duration": 20,
    "start_time": "2024-03-05T17:47:17.273Z"
   },
   {
    "duration": 16,
    "start_time": "2024-03-05T17:49:56.128Z"
   },
   {
    "duration": 9,
    "start_time": "2024-03-05T18:00:13.882Z"
   },
   {
    "duration": 14,
    "start_time": "2024-03-05T18:00:47.554Z"
   },
   {
    "duration": 15,
    "start_time": "2024-03-05T18:01:28.557Z"
   },
   {
    "duration": 8,
    "start_time": "2024-03-05T18:01:42.691Z"
   },
   {
    "duration": 124,
    "start_time": "2024-03-05T18:02:18.644Z"
   },
   {
    "duration": 24,
    "start_time": "2024-03-05T18:02:18.771Z"
   },
   {
    "duration": 35,
    "start_time": "2024-03-05T18:02:18.797Z"
   },
   {
    "duration": 22,
    "start_time": "2024-03-05T18:02:18.842Z"
   },
   {
    "duration": 72,
    "start_time": "2024-03-05T18:02:18.873Z"
   },
   {
    "duration": 6,
    "start_time": "2024-03-05T18:02:18.947Z"
   },
   {
    "duration": 15,
    "start_time": "2024-03-05T18:02:18.955Z"
   },
   {
    "duration": 5,
    "start_time": "2024-03-05T18:02:18.972Z"
   },
   {
    "duration": 7,
    "start_time": "2024-03-05T18:02:18.979Z"
   },
   {
    "duration": 13,
    "start_time": "2024-03-05T18:02:18.988Z"
   },
   {
    "duration": 69,
    "start_time": "2024-03-05T18:02:19.003Z"
   },
   {
    "duration": 11,
    "start_time": "2024-03-05T18:02:19.074Z"
   },
   {
    "duration": 4,
    "start_time": "2024-03-05T18:02:19.087Z"
   },
   {
    "duration": 37,
    "start_time": "2024-03-05T18:02:19.094Z"
   },
   {
    "duration": 32,
    "start_time": "2024-03-05T18:02:19.142Z"
   },
   {
    "duration": 19,
    "start_time": "2024-03-05T18:02:19.176Z"
   },
   {
    "duration": 4,
    "start_time": "2024-03-05T18:02:19.197Z"
   },
   {
    "duration": 53,
    "start_time": "2024-03-05T18:02:19.203Z"
   },
   {
    "duration": 10,
    "start_time": "2024-03-05T18:02:19.259Z"
   },
   {
    "duration": 5,
    "start_time": "2024-03-05T18:02:19.270Z"
   },
   {
    "duration": 15,
    "start_time": "2024-03-05T18:02:19.277Z"
   },
   {
    "duration": 7,
    "start_time": "2024-03-05T18:02:19.294Z"
   },
   {
    "duration": 13,
    "start_time": "2024-03-05T18:02:19.302Z"
   },
   {
    "duration": 13,
    "start_time": "2024-03-05T18:02:19.317Z"
   },
   {
    "duration": 34,
    "start_time": "2024-03-05T18:02:19.332Z"
   },
   {
    "duration": 15,
    "start_time": "2024-03-05T18:02:19.367Z"
   },
   {
    "duration": 7,
    "start_time": "2024-03-05T18:02:19.384Z"
   },
   {
    "duration": 8,
    "start_time": "2024-03-05T18:02:19.392Z"
   },
   {
    "duration": 47,
    "start_time": "2024-03-05T18:02:19.402Z"
   },
   {
    "duration": 9,
    "start_time": "2024-03-05T18:02:19.457Z"
   },
   {
    "duration": 4,
    "start_time": "2024-03-05T18:02:19.468Z"
   },
   {
    "duration": 5,
    "start_time": "2024-03-05T18:02:19.473Z"
   },
   {
    "duration": 3,
    "start_time": "2024-03-05T18:02:19.482Z"
   },
   {
    "duration": 9,
    "start_time": "2024-03-05T18:02:37.662Z"
   },
   {
    "duration": 13,
    "start_time": "2024-03-05T18:05:03.864Z"
   },
   {
    "duration": 56,
    "start_time": "2024-03-05T18:10:38.215Z"
   },
   {
    "duration": 11,
    "start_time": "2024-03-05T18:11:55.392Z"
   },
   {
    "duration": 7,
    "start_time": "2024-03-05T18:22:05.209Z"
   },
   {
    "duration": 11,
    "start_time": "2024-03-05T18:22:22.067Z"
   },
   {
    "duration": 17,
    "start_time": "2024-03-05T18:22:37.936Z"
   },
   {
    "duration": 42,
    "start_time": "2024-03-05T18:22:44.028Z"
   },
   {
    "duration": 30,
    "start_time": "2024-03-05T18:24:18.226Z"
   },
   {
    "duration": 15,
    "start_time": "2024-03-05T18:24:26.512Z"
   },
   {
    "duration": 5,
    "start_time": "2024-03-05T18:25:20.596Z"
   },
   {
    "duration": 9,
    "start_time": "2024-03-05T18:26:53.654Z"
   },
   {
    "duration": 22,
    "start_time": "2024-03-05T18:26:57.745Z"
   },
   {
    "duration": 13,
    "start_time": "2024-03-05T18:27:17.500Z"
   },
   {
    "duration": 5,
    "start_time": "2024-03-05T18:29:48.850Z"
   },
   {
    "duration": 11,
    "start_time": "2024-03-05T18:29:54.145Z"
   },
   {
    "duration": 11,
    "start_time": "2024-03-05T18:30:29.036Z"
   },
   {
    "duration": 14,
    "start_time": "2024-03-05T18:30:35.393Z"
   },
   {
    "duration": 828,
    "start_time": "2024-03-05T18:32:31.583Z"
   },
   {
    "duration": 9,
    "start_time": "2024-03-05T18:32:50.579Z"
   },
   {
    "duration": 11,
    "start_time": "2024-03-05T18:32:58.503Z"
   },
   {
    "duration": 10,
    "start_time": "2024-03-05T18:35:47.067Z"
   },
   {
    "duration": 23,
    "start_time": "2024-03-05T18:37:34.913Z"
   },
   {
    "duration": 12,
    "start_time": "2024-03-05T18:37:51.881Z"
   },
   {
    "duration": 28,
    "start_time": "2024-03-05T18:40:00.649Z"
   },
   {
    "duration": 21,
    "start_time": "2024-03-05T18:40:06.939Z"
   },
   {
    "duration": 5,
    "start_time": "2024-03-05T18:42:48.105Z"
   },
   {
    "duration": 29,
    "start_time": "2024-03-05T18:43:11.137Z"
   },
   {
    "duration": 20,
    "start_time": "2024-03-05T18:44:37.894Z"
   },
   {
    "duration": 76,
    "start_time": "2024-03-05T18:46:54.823Z"
   },
   {
    "duration": 13,
    "start_time": "2024-03-05T19:18:52.585Z"
   },
   {
    "duration": 149,
    "start_time": "2024-03-06T13:40:24.033Z"
   },
   {
    "duration": 121,
    "start_time": "2024-03-06T13:40:28.712Z"
   },
   {
    "duration": 47,
    "start_time": "2024-03-06T13:43:05.091Z"
   },
   {
    "duration": 1175,
    "start_time": "2024-03-06T13:43:30.402Z"
   },
   {
    "duration": 21,
    "start_time": "2024-03-06T13:43:31.580Z"
   },
   {
    "duration": 55,
    "start_time": "2024-03-06T13:43:31.603Z"
   },
   {
    "duration": 52,
    "start_time": "2024-03-06T13:43:31.661Z"
   },
   {
    "duration": 76,
    "start_time": "2024-03-06T13:43:31.715Z"
   },
   {
    "duration": 3,
    "start_time": "2024-03-06T13:43:31.793Z"
   },
   {
    "duration": 47,
    "start_time": "2024-03-06T13:43:31.798Z"
   },
   {
    "duration": 39,
    "start_time": "2024-03-06T13:43:31.847Z"
   },
   {
    "duration": 36,
    "start_time": "2024-03-06T13:43:31.887Z"
   },
   {
    "duration": 14,
    "start_time": "2024-03-06T13:43:31.925Z"
   },
   {
    "duration": 49,
    "start_time": "2024-03-06T13:43:31.941Z"
   },
   {
    "duration": 11,
    "start_time": "2024-03-06T13:43:31.992Z"
   },
   {
    "duration": 19,
    "start_time": "2024-03-06T13:43:32.005Z"
   },
   {
    "duration": 37,
    "start_time": "2024-03-06T13:43:32.025Z"
   },
   {
    "duration": 41,
    "start_time": "2024-03-06T13:43:32.065Z"
   },
   {
    "duration": 52,
    "start_time": "2024-03-06T13:43:32.108Z"
   },
   {
    "duration": 3,
    "start_time": "2024-03-06T13:43:32.162Z"
   },
   {
    "duration": 21,
    "start_time": "2024-03-06T13:43:32.167Z"
   },
   {
    "duration": 6,
    "start_time": "2024-03-06T13:43:32.189Z"
   },
   {
    "duration": 4,
    "start_time": "2024-03-06T13:43:32.196Z"
   },
   {
    "duration": 12,
    "start_time": "2024-03-06T13:43:32.201Z"
   },
   {
    "duration": 7,
    "start_time": "2024-03-06T13:43:32.214Z"
   },
   {
    "duration": 7,
    "start_time": "2024-03-06T13:43:32.223Z"
   },
   {
    "duration": 6,
    "start_time": "2024-03-06T13:43:32.232Z"
   },
   {
    "duration": 46,
    "start_time": "2024-03-06T13:43:32.240Z"
   },
   {
    "duration": 16,
    "start_time": "2024-03-06T13:43:32.288Z"
   },
   {
    "duration": 7,
    "start_time": "2024-03-06T13:43:32.306Z"
   },
   {
    "duration": 8,
    "start_time": "2024-03-06T13:43:32.316Z"
   },
   {
    "duration": 8,
    "start_time": "2024-03-06T13:43:32.326Z"
   },
   {
    "duration": 48,
    "start_time": "2024-03-06T13:43:32.335Z"
   },
   {
    "duration": 8,
    "start_time": "2024-03-06T13:43:32.384Z"
   },
   {
    "duration": 6,
    "start_time": "2024-03-06T13:43:32.394Z"
   },
   {
    "duration": 45,
    "start_time": "2024-03-06T13:43:41.609Z"
   },
   {
    "duration": 13,
    "start_time": "2024-03-06T13:43:46.583Z"
   },
   {
    "duration": 16,
    "start_time": "2024-03-06T13:44:06.320Z"
   },
   {
    "duration": 20,
    "start_time": "2024-03-06T13:46:01.568Z"
   },
   {
    "duration": 15,
    "start_time": "2024-03-06T13:46:10.121Z"
   },
   {
    "duration": 8,
    "start_time": "2024-03-06T13:51:07.292Z"
   },
   {
    "duration": 9,
    "start_time": "2024-03-06T13:51:12.501Z"
   },
   {
    "duration": 8,
    "start_time": "2024-03-06T13:51:22.412Z"
   },
   {
    "duration": 5,
    "start_time": "2024-03-06T13:55:16.873Z"
   },
   {
    "duration": 17,
    "start_time": "2024-03-06T13:56:50.468Z"
   },
   {
    "duration": 12,
    "start_time": "2024-03-06T13:57:09.626Z"
   },
   {
    "duration": 8,
    "start_time": "2024-03-06T14:02:11.887Z"
   },
   {
    "duration": 25,
    "start_time": "2024-03-06T14:12:05.586Z"
   },
   {
    "duration": 9,
    "start_time": "2024-03-06T14:12:39.789Z"
   },
   {
    "duration": 7,
    "start_time": "2024-03-06T14:18:39.834Z"
   },
   {
    "duration": 197,
    "start_time": "2024-03-06T14:21:28.417Z"
   },
   {
    "duration": 3,
    "start_time": "2024-03-06T14:21:37.547Z"
   },
   {
    "duration": 6,
    "start_time": "2024-03-06T14:21:48.195Z"
   },
   {
    "duration": 295,
    "start_time": "2024-03-06T14:22:48.052Z"
   },
   {
    "duration": 3,
    "start_time": "2024-03-06T14:24:10.117Z"
   },
   {
    "duration": 24,
    "start_time": "2024-03-06T14:24:11.423Z"
   },
   {
    "duration": 3,
    "start_time": "2024-03-06T14:24:37.696Z"
   },
   {
    "duration": 25,
    "start_time": "2024-03-06T14:24:38.719Z"
   },
   {
    "duration": 88,
    "start_time": "2024-03-06T14:24:46.200Z"
   },
   {
    "duration": 16,
    "start_time": "2024-03-06T14:24:46.290Z"
   },
   {
    "duration": 18,
    "start_time": "2024-03-06T14:24:46.308Z"
   },
   {
    "duration": 13,
    "start_time": "2024-03-06T14:24:46.329Z"
   },
   {
    "duration": 66,
    "start_time": "2024-03-06T14:24:46.344Z"
   },
   {
    "duration": 4,
    "start_time": "2024-03-06T14:24:46.412Z"
   },
   {
    "duration": 12,
    "start_time": "2024-03-06T14:24:46.417Z"
   },
   {
    "duration": 5,
    "start_time": "2024-03-06T14:24:46.430Z"
   },
   {
    "duration": 7,
    "start_time": "2024-03-06T14:24:46.437Z"
   },
   {
    "duration": 35,
    "start_time": "2024-03-06T14:24:46.447Z"
   },
   {
    "duration": 38,
    "start_time": "2024-03-06T14:24:46.484Z"
   },
   {
    "duration": 11,
    "start_time": "2024-03-06T14:24:46.524Z"
   },
   {
    "duration": 4,
    "start_time": "2024-03-06T14:24:46.537Z"
   },
   {
    "duration": 21,
    "start_time": "2024-03-06T14:24:46.543Z"
   },
   {
    "duration": 22,
    "start_time": "2024-03-06T14:24:46.581Z"
   },
   {
    "duration": 19,
    "start_time": "2024-03-06T14:24:46.605Z"
   },
   {
    "duration": 4,
    "start_time": "2024-03-06T14:24:46.625Z"
   },
   {
    "duration": 13,
    "start_time": "2024-03-06T14:24:46.630Z"
   },
   {
    "duration": 6,
    "start_time": "2024-03-06T14:24:46.644Z"
   },
   {
    "duration": 4,
    "start_time": "2024-03-06T14:24:46.681Z"
   },
   {
    "duration": 14,
    "start_time": "2024-03-06T14:24:46.687Z"
   },
   {
    "duration": 7,
    "start_time": "2024-03-06T14:24:46.702Z"
   },
   {
    "duration": 14,
    "start_time": "2024-03-06T14:24:46.711Z"
   },
   {
    "duration": 3,
    "start_time": "2024-03-06T14:24:46.727Z"
   },
   {
    "duration": 30,
    "start_time": "2024-03-06T14:24:46.731Z"
   },
   {
    "duration": 23,
    "start_time": "2024-03-06T14:24:46.763Z"
   },
   {
    "duration": 16,
    "start_time": "2024-03-06T14:24:46.787Z"
   },
   {
    "duration": 6,
    "start_time": "2024-03-06T14:24:46.806Z"
   },
   {
    "duration": 17,
    "start_time": "2024-03-06T14:24:46.814Z"
   },
   {
    "duration": 7,
    "start_time": "2024-03-06T14:24:46.833Z"
   },
   {
    "duration": 42,
    "start_time": "2024-03-06T14:24:46.842Z"
   },
   {
    "duration": 7,
    "start_time": "2024-03-06T14:24:46.886Z"
   },
   {
    "duration": 12,
    "start_time": "2024-03-06T14:24:46.895Z"
   },
   {
    "duration": 16,
    "start_time": "2024-03-06T14:24:46.908Z"
   },
   {
    "duration": 7,
    "start_time": "2024-03-06T14:24:46.926Z"
   },
   {
    "duration": 8,
    "start_time": "2024-03-06T14:24:46.935Z"
   },
   {
    "duration": 40,
    "start_time": "2024-03-06T14:24:46.945Z"
   },
   {
    "duration": 3,
    "start_time": "2024-03-06T14:24:46.987Z"
   },
   {
    "duration": 28,
    "start_time": "2024-03-06T14:24:46.992Z"
   },
   {
    "duration": 24,
    "start_time": "2024-03-06T14:24:52.854Z"
   },
   {
    "duration": 77,
    "start_time": "2024-03-06T14:25:14.863Z"
   },
   {
    "duration": 17,
    "start_time": "2024-03-06T14:25:14.941Z"
   },
   {
    "duration": 38,
    "start_time": "2024-03-06T14:25:14.959Z"
   },
   {
    "duration": 12,
    "start_time": "2024-03-06T14:25:14.998Z"
   },
   {
    "duration": 88,
    "start_time": "2024-03-06T14:25:15.012Z"
   },
   {
    "duration": 4,
    "start_time": "2024-03-06T14:25:15.101Z"
   },
   {
    "duration": 14,
    "start_time": "2024-03-06T14:25:15.107Z"
   },
   {
    "duration": 6,
    "start_time": "2024-03-06T14:25:15.123Z"
   },
   {
    "duration": 12,
    "start_time": "2024-03-06T14:25:15.130Z"
   },
   {
    "duration": 9,
    "start_time": "2024-03-06T14:25:15.144Z"
   },
   {
    "duration": 63,
    "start_time": "2024-03-06T14:25:15.155Z"
   },
   {
    "duration": 11,
    "start_time": "2024-03-06T14:25:15.219Z"
   },
   {
    "duration": 14,
    "start_time": "2024-03-06T14:25:15.232Z"
   },
   {
    "duration": 38,
    "start_time": "2024-03-06T14:25:15.249Z"
   },
   {
    "duration": 29,
    "start_time": "2024-03-06T14:25:15.288Z"
   },
   {
    "duration": 20,
    "start_time": "2024-03-06T14:25:15.318Z"
   },
   {
    "duration": 5,
    "start_time": "2024-03-06T14:25:15.339Z"
   },
   {
    "duration": 23,
    "start_time": "2024-03-06T14:25:15.346Z"
   },
   {
    "duration": 20,
    "start_time": "2024-03-06T14:25:15.371Z"
   },
   {
    "duration": 7,
    "start_time": "2024-03-06T14:25:15.394Z"
   },
   {
    "duration": 26,
    "start_time": "2024-03-06T14:25:15.403Z"
   },
   {
    "duration": 7,
    "start_time": "2024-03-06T14:25:15.431Z"
   },
   {
    "duration": 13,
    "start_time": "2024-03-06T14:25:15.440Z"
   },
   {
    "duration": 11,
    "start_time": "2024-03-06T14:25:15.454Z"
   },
   {
    "duration": 28,
    "start_time": "2024-03-06T14:25:15.467Z"
   },
   {
    "duration": 7,
    "start_time": "2024-03-06T14:25:15.496Z"
   },
   {
    "duration": 20,
    "start_time": "2024-03-06T14:25:15.504Z"
   },
   {
    "duration": 6,
    "start_time": "2024-03-06T14:25:15.526Z"
   },
   {
    "duration": 8,
    "start_time": "2024-03-06T14:25:15.533Z"
   },
   {
    "duration": 6,
    "start_time": "2024-03-06T14:25:15.543Z"
   },
   {
    "duration": 33,
    "start_time": "2024-03-06T14:25:15.551Z"
   },
   {
    "duration": 6,
    "start_time": "2024-03-06T14:25:15.586Z"
   },
   {
    "duration": 8,
    "start_time": "2024-03-06T14:25:15.594Z"
   },
   {
    "duration": 24,
    "start_time": "2024-03-06T14:25:15.604Z"
   },
   {
    "duration": 15,
    "start_time": "2024-03-06T14:25:15.629Z"
   },
   {
    "duration": 39,
    "start_time": "2024-03-06T14:25:15.646Z"
   },
   {
    "duration": 5,
    "start_time": "2024-03-06T14:25:15.686Z"
   },
   {
    "duration": 3,
    "start_time": "2024-03-06T14:25:15.693Z"
   },
   {
    "duration": 15,
    "start_time": "2024-03-06T14:25:24.541Z"
   },
   {
    "duration": 24,
    "start_time": "2024-03-06T14:25:29.467Z"
   },
   {
    "duration": 3,
    "start_time": "2024-03-06T14:25:57.830Z"
   },
   {
    "duration": 28,
    "start_time": "2024-03-06T14:25:58.611Z"
   },
   {
    "duration": 14,
    "start_time": "2024-03-06T14:27:45.189Z"
   },
   {
    "duration": 19,
    "start_time": "2024-03-06T14:28:06.362Z"
   },
   {
    "duration": 8,
    "start_time": "2024-03-06T14:35:53.680Z"
   },
   {
    "duration": 29,
    "start_time": "2024-03-06T14:35:58.904Z"
   },
   {
    "duration": 47,
    "start_time": "2024-03-06T14:36:04.181Z"
   },
   {
    "duration": 9,
    "start_time": "2024-03-06T14:36:31.048Z"
   },
   {
    "duration": 7,
    "start_time": "2024-03-06T14:36:40.398Z"
   },
   {
    "duration": 48,
    "start_time": "2024-03-06T14:36:45.975Z"
   },
   {
    "duration": 10,
    "start_time": "2024-03-06T14:37:40.327Z"
   },
   {
    "duration": 15,
    "start_time": "2024-03-06T14:38:10.541Z"
   },
   {
    "duration": 4,
    "start_time": "2024-03-06T14:38:48.260Z"
   },
   {
    "duration": 6,
    "start_time": "2024-03-06T14:38:53.566Z"
   },
   {
    "duration": 6,
    "start_time": "2024-03-06T14:39:28.350Z"
   },
   {
    "duration": 6,
    "start_time": "2024-03-06T14:39:39.460Z"
   },
   {
    "duration": 9,
    "start_time": "2024-03-06T14:39:45.206Z"
   },
   {
    "duration": 14,
    "start_time": "2024-03-06T14:40:55.859Z"
   },
   {
    "duration": 82,
    "start_time": "2024-03-06T14:41:22.227Z"
   },
   {
    "duration": 16,
    "start_time": "2024-03-06T14:41:22.311Z"
   },
   {
    "duration": 18,
    "start_time": "2024-03-06T14:41:22.329Z"
   },
   {
    "duration": 36,
    "start_time": "2024-03-06T14:41:22.350Z"
   },
   {
    "duration": 39,
    "start_time": "2024-03-06T14:41:22.388Z"
   },
   {
    "duration": 5,
    "start_time": "2024-03-06T14:41:22.428Z"
   },
   {
    "duration": 10,
    "start_time": "2024-03-06T14:41:22.434Z"
   },
   {
    "duration": 4,
    "start_time": "2024-03-06T14:41:22.446Z"
   },
   {
    "duration": 8,
    "start_time": "2024-03-06T14:41:22.482Z"
   },
   {
    "duration": 4,
    "start_time": "2024-03-06T14:41:22.494Z"
   },
   {
    "duration": 41,
    "start_time": "2024-03-06T14:41:22.500Z"
   },
   {
    "duration": 44,
    "start_time": "2024-03-06T14:41:22.543Z"
   },
   {
    "duration": 4,
    "start_time": "2024-03-06T14:41:22.589Z"
   },
   {
    "duration": 14,
    "start_time": "2024-03-06T14:41:22.594Z"
   },
   {
    "duration": 19,
    "start_time": "2024-03-06T14:41:22.610Z"
   },
   {
    "duration": 19,
    "start_time": "2024-03-06T14:41:22.631Z"
   },
   {
    "duration": 31,
    "start_time": "2024-03-06T14:41:22.652Z"
   },
   {
    "duration": 23,
    "start_time": "2024-03-06T14:41:22.684Z"
   },
   {
    "duration": 6,
    "start_time": "2024-03-06T14:41:22.709Z"
   },
   {
    "duration": 3,
    "start_time": "2024-03-06T14:41:22.717Z"
   },
   {
    "duration": 11,
    "start_time": "2024-03-06T14:41:22.722Z"
   },
   {
    "duration": 7,
    "start_time": "2024-03-06T14:41:22.734Z"
   },
   {
    "duration": 7,
    "start_time": "2024-03-06T14:41:22.742Z"
   },
   {
    "duration": 3,
    "start_time": "2024-03-06T14:41:22.750Z"
   },
   {
    "duration": 12,
    "start_time": "2024-03-06T14:41:22.783Z"
   },
   {
    "duration": 7,
    "start_time": "2024-03-06T14:41:22.797Z"
   },
   {
    "duration": 12,
    "start_time": "2024-03-06T14:41:22.805Z"
   },
   {
    "duration": 6,
    "start_time": "2024-03-06T14:41:22.821Z"
   },
   {
    "duration": 7,
    "start_time": "2024-03-06T14:41:22.829Z"
   },
   {
    "duration": 45,
    "start_time": "2024-03-06T14:41:22.838Z"
   },
   {
    "duration": 6,
    "start_time": "2024-03-06T14:41:22.885Z"
   },
   {
    "duration": 6,
    "start_time": "2024-03-06T14:41:22.893Z"
   },
   {
    "duration": 6,
    "start_time": "2024-03-06T14:41:22.900Z"
   },
   {
    "duration": 14,
    "start_time": "2024-03-06T14:41:22.908Z"
   },
   {
    "duration": 6,
    "start_time": "2024-03-06T14:41:22.924Z"
   },
   {
    "duration": 8,
    "start_time": "2024-03-06T14:41:22.932Z"
   },
   {
    "duration": 6,
    "start_time": "2024-03-06T14:41:22.982Z"
   },
   {
    "duration": 15,
    "start_time": "2024-03-06T14:41:22.989Z"
   },
   {
    "duration": 16,
    "start_time": "2024-03-06T14:41:23.006Z"
   },
   {
    "duration": 6,
    "start_time": "2024-03-06T14:41:23.024Z"
   },
   {
    "duration": 11,
    "start_time": "2024-03-06T14:41:23.032Z"
   },
   {
    "duration": 37,
    "start_time": "2024-03-06T14:41:23.045Z"
   },
   {
    "duration": 0,
    "start_time": "2024-03-06T14:41:23.084Z"
   },
   {
    "duration": 0,
    "start_time": "2024-03-06T14:41:23.086Z"
   },
   {
    "duration": 8,
    "start_time": "2024-03-06T14:42:16.957Z"
   },
   {
    "duration": 8,
    "start_time": "2024-03-06T14:42:18.639Z"
   },
   {
    "duration": 11,
    "start_time": "2024-03-06T14:42:21.420Z"
   },
   {
    "duration": 16,
    "start_time": "2024-03-06T14:43:40.900Z"
   },
   {
    "duration": 6,
    "start_time": "2024-03-06T14:55:27.895Z"
   },
   {
    "duration": 10,
    "start_time": "2024-03-06T14:55:33.893Z"
   },
   {
    "duration": 11,
    "start_time": "2024-03-06T14:57:11.886Z"
   },
   {
    "duration": 18,
    "start_time": "2024-03-06T14:57:28.348Z"
   },
   {
    "duration": 8,
    "start_time": "2024-03-06T14:57:41.606Z"
   },
   {
    "duration": 9,
    "start_time": "2024-03-06T14:57:54.007Z"
   },
   {
    "duration": 11,
    "start_time": "2024-03-06T14:58:05.694Z"
   },
   {
    "duration": 16,
    "start_time": "2024-03-06T14:58:09.198Z"
   },
   {
    "duration": 11,
    "start_time": "2024-03-06T14:58:13.402Z"
   },
   {
    "duration": 13,
    "start_time": "2024-03-06T14:58:19.851Z"
   },
   {
    "duration": 9,
    "start_time": "2024-03-06T14:58:31.582Z"
   },
   {
    "duration": 11,
    "start_time": "2024-03-06T14:59:38.931Z"
   },
   {
    "duration": 17,
    "start_time": "2024-03-06T15:00:03.957Z"
   },
   {
    "duration": 12,
    "start_time": "2024-03-06T15:00:31.650Z"
   },
   {
    "duration": 4,
    "start_time": "2024-03-06T15:04:50.259Z"
   },
   {
    "duration": 13,
    "start_time": "2024-03-06T15:04:55.352Z"
   },
   {
    "duration": 20,
    "start_time": "2024-03-06T15:05:11.259Z"
   },
   {
    "duration": 21,
    "start_time": "2024-03-06T15:05:43.399Z"
   },
   {
    "duration": 15,
    "start_time": "2024-03-06T15:05:47.187Z"
   },
   {
    "duration": 14,
    "start_time": "2024-03-06T15:05:55.923Z"
   },
   {
    "duration": 14,
    "start_time": "2024-03-06T15:06:02.390Z"
   },
   {
    "duration": 17,
    "start_time": "2024-03-06T15:07:55.885Z"
   },
   {
    "duration": 16,
    "start_time": "2024-03-06T15:08:17.927Z"
   },
   {
    "duration": 21,
    "start_time": "2024-03-06T15:09:28.726Z"
   },
   {
    "duration": 16,
    "start_time": "2024-03-06T15:09:43.675Z"
   },
   {
    "duration": 16,
    "start_time": "2024-03-06T15:10:09.594Z"
   },
   {
    "duration": 20,
    "start_time": "2024-03-06T15:10:39.321Z"
   },
   {
    "duration": 15,
    "start_time": "2024-03-06T15:11:03.353Z"
   },
   {
    "duration": 22,
    "start_time": "2024-03-06T15:12:11.925Z"
   },
   {
    "duration": 17,
    "start_time": "2024-03-06T15:12:22.800Z"
   },
   {
    "duration": 18,
    "start_time": "2024-03-06T15:12:41.927Z"
   },
   {
    "duration": 18,
    "start_time": "2024-03-06T15:13:59.947Z"
   },
   {
    "duration": 20,
    "start_time": "2024-03-06T15:25:30.198Z"
   },
   {
    "duration": 13,
    "start_time": "2024-03-06T15:38:13.711Z"
   },
   {
    "duration": 16,
    "start_time": "2024-03-06T15:38:20.762Z"
   },
   {
    "duration": 8,
    "start_time": "2024-03-06T15:42:44.114Z"
   },
   {
    "duration": 1284,
    "start_time": "2024-03-06T15:43:24.252Z"
   },
   {
    "duration": 14,
    "start_time": "2024-03-06T15:44:35.175Z"
   },
   {
    "duration": 71,
    "start_time": "2024-03-06T15:45:11.294Z"
   },
   {
    "duration": 69,
    "start_time": "2024-03-06T15:45:19.125Z"
   },
   {
    "duration": 146,
    "start_time": "2024-03-06T15:45:23.934Z"
   },
   {
    "duration": 15,
    "start_time": "2024-03-06T15:46:32.001Z"
   },
   {
    "duration": 14,
    "start_time": "2024-03-06T15:47:44.236Z"
   },
   {
    "duration": 14,
    "start_time": "2024-03-06T15:48:04.702Z"
   },
   {
    "duration": 13,
    "start_time": "2024-03-06T15:50:11.721Z"
   },
   {
    "duration": 16,
    "start_time": "2024-03-06T15:50:33.529Z"
   },
   {
    "duration": 13,
    "start_time": "2024-03-06T15:50:39.838Z"
   },
   {
    "duration": 14,
    "start_time": "2024-03-06T15:50:52.898Z"
   },
   {
    "duration": 16,
    "start_time": "2024-03-06T15:50:56.521Z"
   },
   {
    "duration": 17,
    "start_time": "2024-03-06T15:50:58.587Z"
   },
   {
    "duration": 13,
    "start_time": "2024-03-06T15:51:00.370Z"
   },
   {
    "duration": 80,
    "start_time": "2024-03-06T15:51:07.263Z"
   },
   {
    "duration": 18,
    "start_time": "2024-03-06T15:51:07.345Z"
   },
   {
    "duration": 18,
    "start_time": "2024-03-06T15:51:07.382Z"
   },
   {
    "duration": 13,
    "start_time": "2024-03-06T15:51:07.402Z"
   },
   {
    "duration": 46,
    "start_time": "2024-03-06T15:51:07.417Z"
   },
   {
    "duration": 20,
    "start_time": "2024-03-06T15:51:07.465Z"
   },
   {
    "duration": 18,
    "start_time": "2024-03-06T15:51:07.487Z"
   },
   {
    "duration": 5,
    "start_time": "2024-03-06T15:51:07.506Z"
   },
   {
    "duration": 7,
    "start_time": "2024-03-06T15:51:07.513Z"
   },
   {
    "duration": 12,
    "start_time": "2024-03-06T15:51:07.523Z"
   },
   {
    "duration": 69,
    "start_time": "2024-03-06T15:51:07.537Z"
   },
   {
    "duration": 11,
    "start_time": "2024-03-06T15:51:07.608Z"
   },
   {
    "duration": 4,
    "start_time": "2024-03-06T15:51:07.620Z"
   },
   {
    "duration": 21,
    "start_time": "2024-03-06T15:51:07.626Z"
   },
   {
    "duration": 41,
    "start_time": "2024-03-06T15:51:07.650Z"
   },
   {
    "duration": 18,
    "start_time": "2024-03-06T15:51:07.692Z"
   },
   {
    "duration": 4,
    "start_time": "2024-03-06T15:51:07.712Z"
   },
   {
    "duration": 15,
    "start_time": "2024-03-06T15:51:07.717Z"
   },
   {
    "duration": 5,
    "start_time": "2024-03-06T15:51:07.734Z"
   },
   {
    "duration": 4,
    "start_time": "2024-03-06T15:51:07.740Z"
   },
   {
    "duration": 41,
    "start_time": "2024-03-06T15:51:07.746Z"
   },
   {
    "duration": 6,
    "start_time": "2024-03-06T15:51:07.788Z"
   },
   {
    "duration": 19,
    "start_time": "2024-03-06T15:51:07.796Z"
   },
   {
    "duration": 3,
    "start_time": "2024-03-06T15:51:07.818Z"
   },
   {
    "duration": 35,
    "start_time": "2024-03-06T15:51:07.823Z"
   },
   {
    "duration": 5,
    "start_time": "2024-03-06T15:51:07.860Z"
   },
   {
    "duration": 25,
    "start_time": "2024-03-06T15:51:07.866Z"
   },
   {
    "duration": 7,
    "start_time": "2024-03-06T15:51:07.895Z"
   },
   {
    "duration": 9,
    "start_time": "2024-03-06T15:51:07.904Z"
   },
   {
    "duration": 8,
    "start_time": "2024-03-06T15:51:07.914Z"
   },
   {
    "duration": 7,
    "start_time": "2024-03-06T15:51:07.924Z"
   },
   {
    "duration": 7,
    "start_time": "2024-03-06T15:51:07.932Z"
   },
   {
    "duration": 44,
    "start_time": "2024-03-06T15:51:07.940Z"
   },
   {
    "duration": 20,
    "start_time": "2024-03-06T15:51:07.986Z"
   },
   {
    "duration": 13,
    "start_time": "2024-03-06T15:51:08.008Z"
   },
   {
    "duration": 0,
    "start_time": "2024-03-06T15:51:08.023Z"
   },
   {
    "duration": 0,
    "start_time": "2024-03-06T15:51:08.024Z"
   },
   {
    "duration": 0,
    "start_time": "2024-03-06T15:51:08.025Z"
   },
   {
    "duration": 0,
    "start_time": "2024-03-06T15:51:08.026Z"
   },
   {
    "duration": 0,
    "start_time": "2024-03-06T15:51:08.027Z"
   },
   {
    "duration": 0,
    "start_time": "2024-03-06T15:51:08.028Z"
   },
   {
    "duration": 0,
    "start_time": "2024-03-06T15:51:08.029Z"
   },
   {
    "duration": 0,
    "start_time": "2024-03-06T15:51:08.030Z"
   },
   {
    "duration": 0,
    "start_time": "2024-03-06T15:51:08.032Z"
   },
   {
    "duration": 0,
    "start_time": "2024-03-06T15:51:08.033Z"
   },
   {
    "duration": 0,
    "start_time": "2024-03-06T15:51:08.034Z"
   },
   {
    "duration": 7,
    "start_time": "2024-03-06T15:52:05.528Z"
   },
   {
    "duration": 13,
    "start_time": "2024-03-06T15:52:09.564Z"
   },
   {
    "duration": 6,
    "start_time": "2024-03-06T15:53:45.087Z"
   },
   {
    "duration": 12,
    "start_time": "2024-03-06T15:54:22.281Z"
   },
   {
    "duration": 12,
    "start_time": "2024-03-06T17:12:56.128Z"
   },
   {
    "duration": 1131,
    "start_time": "2024-03-06T17:13:41.432Z"
   },
   {
    "duration": 147,
    "start_time": "2024-03-06T17:13:58.245Z"
   },
   {
    "duration": 142,
    "start_time": "2024-03-06T17:15:19.081Z"
   },
   {
    "duration": 130,
    "start_time": "2024-03-06T17:16:13.669Z"
   },
   {
    "duration": 97,
    "start_time": "2024-03-06T17:17:36.002Z"
   },
   {
    "duration": 16,
    "start_time": "2024-03-06T17:17:36.102Z"
   },
   {
    "duration": 15,
    "start_time": "2024-03-06T17:17:36.120Z"
   },
   {
    "duration": 11,
    "start_time": "2024-03-06T17:17:36.137Z"
   },
   {
    "duration": 64,
    "start_time": "2024-03-06T17:17:36.150Z"
   },
   {
    "duration": 4,
    "start_time": "2024-03-06T17:17:36.216Z"
   },
   {
    "duration": 9,
    "start_time": "2024-03-06T17:17:36.222Z"
   },
   {
    "duration": 4,
    "start_time": "2024-03-06T17:17:36.232Z"
   },
   {
    "duration": 7,
    "start_time": "2024-03-06T17:17:36.238Z"
   },
   {
    "duration": 5,
    "start_time": "2024-03-06T17:17:36.283Z"
   },
   {
    "duration": 39,
    "start_time": "2024-03-06T17:17:36.290Z"
   },
   {
    "duration": 14,
    "start_time": "2024-03-06T17:17:36.330Z"
   },
   {
    "duration": 4,
    "start_time": "2024-03-06T17:17:36.345Z"
   },
   {
    "duration": 39,
    "start_time": "2024-03-06T17:17:36.350Z"
   },
   {
    "duration": 21,
    "start_time": "2024-03-06T17:17:36.391Z"
   },
   {
    "duration": 17,
    "start_time": "2024-03-06T17:17:36.414Z"
   },
   {
    "duration": 4,
    "start_time": "2024-03-06T17:17:36.433Z"
   },
   {
    "duration": 12,
    "start_time": "2024-03-06T17:17:36.439Z"
   },
   {
    "duration": 33,
    "start_time": "2024-03-06T17:17:36.452Z"
   },
   {
    "duration": 4,
    "start_time": "2024-03-06T17:17:36.487Z"
   },
   {
    "duration": 21,
    "start_time": "2024-03-06T17:17:36.492Z"
   },
   {
    "duration": 6,
    "start_time": "2024-03-06T17:17:36.515Z"
   },
   {
    "duration": 8,
    "start_time": "2024-03-06T17:17:36.523Z"
   },
   {
    "duration": 19,
    "start_time": "2024-03-06T17:17:36.533Z"
   },
   {
    "duration": 14,
    "start_time": "2024-03-06T17:17:36.553Z"
   },
   {
    "duration": 15,
    "start_time": "2024-03-06T17:17:36.569Z"
   },
   {
    "duration": 14,
    "start_time": "2024-03-06T17:17:36.585Z"
   },
   {
    "duration": 9,
    "start_time": "2024-03-06T17:17:36.602Z"
   },
   {
    "duration": 7,
    "start_time": "2024-03-06T17:17:36.613Z"
   },
   {
    "duration": 16,
    "start_time": "2024-03-06T17:17:36.621Z"
   },
   {
    "duration": 7,
    "start_time": "2024-03-06T17:17:36.639Z"
   },
   {
    "duration": 38,
    "start_time": "2024-03-06T17:17:36.648Z"
   },
   {
    "duration": 9,
    "start_time": "2024-03-06T17:17:36.688Z"
   },
   {
    "duration": 17,
    "start_time": "2024-03-06T17:17:36.699Z"
   },
   {
    "duration": 153,
    "start_time": "2024-03-06T17:17:36.717Z"
   },
   {
    "duration": 14,
    "start_time": "2024-03-06T17:17:36.872Z"
   },
   {
    "duration": 8,
    "start_time": "2024-03-06T17:17:36.887Z"
   },
   {
    "duration": 5,
    "start_time": "2024-03-06T17:17:36.896Z"
   },
   {
    "duration": 3,
    "start_time": "2024-03-06T17:17:36.902Z"
   },
   {
    "duration": 13,
    "start_time": "2024-03-06T17:17:36.907Z"
   },
   {
    "duration": 8,
    "start_time": "2024-03-06T17:17:36.922Z"
   },
   {
    "duration": 52,
    "start_time": "2024-03-06T17:17:36.931Z"
   },
   {
    "duration": 16,
    "start_time": "2024-03-06T17:17:36.985Z"
   },
   {
    "duration": 22,
    "start_time": "2024-03-06T17:17:37.004Z"
   },
   {
    "duration": 3,
    "start_time": "2024-03-06T17:17:37.028Z"
   },
   {
    "duration": 3,
    "start_time": "2024-03-06T17:17:37.032Z"
   },
   {
    "duration": 24,
    "start_time": "2024-03-06T17:42:11.242Z"
   },
   {
    "duration": 26,
    "start_time": "2024-03-06T17:49:38.763Z"
   },
   {
    "duration": 21,
    "start_time": "2024-03-06T17:50:05.947Z"
   },
   {
    "duration": 90,
    "start_time": "2024-03-06T17:50:17.831Z"
   },
   {
    "duration": 16,
    "start_time": "2024-03-06T17:50:17.923Z"
   },
   {
    "duration": 19,
    "start_time": "2024-03-06T17:50:17.940Z"
   },
   {
    "duration": 31,
    "start_time": "2024-03-06T17:50:17.961Z"
   },
   {
    "duration": 39,
    "start_time": "2024-03-06T17:50:17.994Z"
   },
   {
    "duration": 5,
    "start_time": "2024-03-06T17:50:18.034Z"
   },
   {
    "duration": 14,
    "start_time": "2024-03-06T17:50:18.040Z"
   },
   {
    "duration": 28,
    "start_time": "2024-03-06T17:50:18.056Z"
   },
   {
    "duration": 9,
    "start_time": "2024-03-06T17:50:18.086Z"
   },
   {
    "duration": 4,
    "start_time": "2024-03-06T17:50:18.098Z"
   },
   {
    "duration": 37,
    "start_time": "2024-03-06T17:50:18.104Z"
   },
   {
    "duration": 12,
    "start_time": "2024-03-06T17:50:18.143Z"
   },
   {
    "duration": 28,
    "start_time": "2024-03-06T17:50:18.156Z"
   },
   {
    "duration": 15,
    "start_time": "2024-03-06T17:50:18.185Z"
   },
   {
    "duration": 20,
    "start_time": "2024-03-06T17:50:18.201Z"
   },
   {
    "duration": 18,
    "start_time": "2024-03-06T17:50:18.223Z"
   },
   {
    "duration": 4,
    "start_time": "2024-03-06T17:50:18.242Z"
   },
   {
    "duration": 36,
    "start_time": "2024-03-06T17:50:18.248Z"
   },
   {
    "duration": 11,
    "start_time": "2024-03-06T17:50:18.285Z"
   },
   {
    "duration": 4,
    "start_time": "2024-03-06T17:50:18.298Z"
   },
   {
    "duration": 16,
    "start_time": "2024-03-06T17:50:18.303Z"
   },
   {
    "duration": 7,
    "start_time": "2024-03-06T17:50:18.321Z"
   },
   {
    "duration": 7,
    "start_time": "2024-03-06T17:50:18.330Z"
   },
   {
    "duration": 3,
    "start_time": "2024-03-06T17:50:18.338Z"
   },
   {
    "duration": 44,
    "start_time": "2024-03-06T17:50:18.343Z"
   },
   {
    "duration": 29,
    "start_time": "2024-03-06T17:50:18.389Z"
   },
   {
    "duration": 14,
    "start_time": "2024-03-06T17:50:18.420Z"
   },
   {
    "duration": 7,
    "start_time": "2024-03-06T17:50:18.437Z"
   },
   {
    "duration": 8,
    "start_time": "2024-03-06T17:50:18.445Z"
   },
   {
    "duration": 8,
    "start_time": "2024-03-06T17:50:18.454Z"
   },
   {
    "duration": 19,
    "start_time": "2024-03-06T17:50:18.464Z"
   },
   {
    "duration": 7,
    "start_time": "2024-03-06T17:50:18.484Z"
   },
   {
    "duration": 7,
    "start_time": "2024-03-06T17:50:18.492Z"
   },
   {
    "duration": 14,
    "start_time": "2024-03-06T17:50:18.500Z"
   },
   {
    "duration": 161,
    "start_time": "2024-03-06T17:50:18.515Z"
   },
   {
    "duration": 9,
    "start_time": "2024-03-06T17:50:18.678Z"
   },
   {
    "duration": 7,
    "start_time": "2024-03-06T17:50:18.689Z"
   },
   {
    "duration": 3,
    "start_time": "2024-03-06T17:50:18.697Z"
   },
   {
    "duration": 15,
    "start_time": "2024-03-06T17:50:18.702Z"
   },
   {
    "duration": 8,
    "start_time": "2024-03-06T17:50:18.719Z"
   },
   {
    "duration": 11,
    "start_time": "2024-03-06T17:50:18.728Z"
   },
   {
    "duration": 55,
    "start_time": "2024-03-06T17:50:18.741Z"
   },
   {
    "duration": 21,
    "start_time": "2024-03-06T17:50:18.798Z"
   },
   {
    "duration": 0,
    "start_time": "2024-03-06T17:50:18.821Z"
   },
   {
    "duration": 0,
    "start_time": "2024-03-06T17:50:18.822Z"
   },
   {
    "duration": 21,
    "start_time": "2024-03-06T17:50:41.369Z"
   },
   {
    "duration": 14,
    "start_time": "2024-03-06T18:00:49.183Z"
   },
   {
    "duration": 9,
    "start_time": "2024-03-06T18:04:01.131Z"
   },
   {
    "duration": 12,
    "start_time": "2024-03-06T18:04:21.232Z"
   },
   {
    "duration": 10,
    "start_time": "2024-03-06T18:04:36.393Z"
   },
   {
    "duration": 8,
    "start_time": "2024-03-06T18:10:54.273Z"
   },
   {
    "duration": 11,
    "start_time": "2024-03-06T18:11:21.506Z"
   },
   {
    "duration": 12,
    "start_time": "2024-03-06T18:12:03.707Z"
   },
   {
    "duration": 12,
    "start_time": "2024-03-06T18:12:07.247Z"
   },
   {
    "duration": 12,
    "start_time": "2024-03-06T18:12:18.823Z"
   },
   {
    "duration": 4,
    "start_time": "2024-03-06T18:12:36.598Z"
   },
   {
    "duration": 9,
    "start_time": "2024-03-06T18:18:17.682Z"
   },
   {
    "duration": 8,
    "start_time": "2024-03-06T18:18:40.664Z"
   },
   {
    "duration": 16,
    "start_time": "2024-03-06T18:18:55.121Z"
   },
   {
    "duration": 13,
    "start_time": "2024-03-06T18:19:22.092Z"
   },
   {
    "duration": 16,
    "start_time": "2024-03-06T18:20:25.354Z"
   },
   {
    "duration": 36,
    "start_time": "2024-03-06T18:20:33.424Z"
   },
   {
    "duration": 9,
    "start_time": "2024-03-06T18:20:35.421Z"
   },
   {
    "duration": 10,
    "start_time": "2024-03-06T18:20:38.923Z"
   },
   {
    "duration": 12,
    "start_time": "2024-03-06T18:20:41.161Z"
   },
   {
    "duration": 20,
    "start_time": "2024-03-06T18:20:44.442Z"
   },
   {
    "duration": 24,
    "start_time": "2024-03-06T18:21:00.522Z"
   },
   {
    "duration": 8,
    "start_time": "2024-03-06T18:21:23.457Z"
   },
   {
    "duration": 7,
    "start_time": "2024-03-06T18:21:34.143Z"
   },
   {
    "duration": 14,
    "start_time": "2024-03-06T18:21:36.390Z"
   },
   {
    "duration": 14,
    "start_time": "2024-03-06T18:21:47.601Z"
   },
   {
    "duration": 21,
    "start_time": "2024-03-06T18:21:52.906Z"
   },
   {
    "duration": 15,
    "start_time": "2024-03-06T18:22:11.468Z"
   },
   {
    "duration": 1116,
    "start_time": "2024-03-06T18:22:36.704Z"
   },
   {
    "duration": 21,
    "start_time": "2024-03-06T18:22:48.704Z"
   },
   {
    "duration": 15,
    "start_time": "2024-03-06T18:23:49.226Z"
   },
   {
    "duration": 16,
    "start_time": "2024-03-06T18:23:56.490Z"
   },
   {
    "duration": 137,
    "start_time": "2024-03-06T18:44:24.352Z"
   },
   {
    "duration": 146,
    "start_time": "2024-03-06T18:46:25.910Z"
   },
   {
    "duration": 15,
    "start_time": "2024-03-06T18:47:46.140Z"
   },
   {
    "duration": 15,
    "start_time": "2024-03-06T18:47:52.335Z"
   },
   {
    "duration": 91,
    "start_time": "2024-03-06T18:47:57.230Z"
   },
   {
    "duration": 15,
    "start_time": "2024-03-06T18:47:57.323Z"
   },
   {
    "duration": 15,
    "start_time": "2024-03-06T18:47:57.340Z"
   },
   {
    "duration": 34,
    "start_time": "2024-03-06T18:47:57.357Z"
   },
   {
    "duration": 37,
    "start_time": "2024-03-06T18:47:57.393Z"
   },
   {
    "duration": 3,
    "start_time": "2024-03-06T18:47:57.432Z"
   },
   {
    "duration": 8,
    "start_time": "2024-03-06T18:47:57.437Z"
   },
   {
    "duration": 4,
    "start_time": "2024-03-06T18:47:57.447Z"
   },
   {
    "duration": 6,
    "start_time": "2024-03-06T18:47:57.482Z"
   },
   {
    "duration": 5,
    "start_time": "2024-03-06T18:47:57.491Z"
   },
   {
    "duration": 37,
    "start_time": "2024-03-06T18:47:57.497Z"
   },
   {
    "duration": 11,
    "start_time": "2024-03-06T18:47:57.536Z"
   },
   {
    "duration": 4,
    "start_time": "2024-03-06T18:47:57.548Z"
   },
   {
    "duration": 12,
    "start_time": "2024-03-06T18:47:57.582Z"
   },
   {
    "duration": 22,
    "start_time": "2024-03-06T18:47:57.596Z"
   },
   {
    "duration": 18,
    "start_time": "2024-03-06T18:47:57.619Z"
   },
   {
    "duration": 4,
    "start_time": "2024-03-06T18:47:57.638Z"
   },
   {
    "duration": 21,
    "start_time": "2024-03-06T18:47:57.643Z"
   },
   {
    "duration": 6,
    "start_time": "2024-03-06T18:47:57.683Z"
   },
   {
    "duration": 7,
    "start_time": "2024-03-06T18:47:57.691Z"
   },
   {
    "duration": 12,
    "start_time": "2024-03-06T18:47:57.699Z"
   },
   {
    "duration": 6,
    "start_time": "2024-03-06T18:47:57.713Z"
   },
   {
    "duration": 6,
    "start_time": "2024-03-06T18:47:57.721Z"
   },
   {
    "duration": 4,
    "start_time": "2024-03-06T18:47:57.728Z"
   },
   {
    "duration": 19,
    "start_time": "2024-03-06T18:47:57.734Z"
   },
   {
    "duration": 28,
    "start_time": "2024-03-06T18:47:57.755Z"
   },
   {
    "duration": 7,
    "start_time": "2024-03-06T18:47:57.785Z"
   },
   {
    "duration": 10,
    "start_time": "2024-03-06T18:47:57.795Z"
   },
   {
    "duration": 15,
    "start_time": "2024-03-06T18:47:57.806Z"
   },
   {
    "duration": 67,
    "start_time": "2024-03-06T18:47:57.823Z"
   },
   {
    "duration": 0,
    "start_time": "2024-03-06T18:47:57.892Z"
   },
   {
    "duration": 0,
    "start_time": "2024-03-06T18:47:57.893Z"
   },
   {
    "duration": 0,
    "start_time": "2024-03-06T18:47:57.894Z"
   },
   {
    "duration": 0,
    "start_time": "2024-03-06T18:47:57.895Z"
   },
   {
    "duration": 0,
    "start_time": "2024-03-06T18:47:57.896Z"
   },
   {
    "duration": 0,
    "start_time": "2024-03-06T18:47:57.898Z"
   },
   {
    "duration": 0,
    "start_time": "2024-03-06T18:47:57.899Z"
   },
   {
    "duration": 0,
    "start_time": "2024-03-06T18:47:57.900Z"
   },
   {
    "duration": 0,
    "start_time": "2024-03-06T18:47:57.902Z"
   },
   {
    "duration": 0,
    "start_time": "2024-03-06T18:47:57.902Z"
   },
   {
    "duration": 15,
    "start_time": "2024-03-06T18:48:10.869Z"
   },
   {
    "duration": 17,
    "start_time": "2024-03-06T18:48:22.541Z"
   },
   {
    "duration": 134,
    "start_time": "2024-03-06T18:48:31.318Z"
   },
   {
    "duration": 7,
    "start_time": "2024-03-06T18:50:00.757Z"
   },
   {
    "duration": 7,
    "start_time": "2024-03-06T18:50:03.523Z"
   },
   {
    "duration": 8,
    "start_time": "2024-03-06T18:50:04.193Z"
   },
   {
    "duration": 8,
    "start_time": "2024-03-06T18:50:04.531Z"
   },
   {
    "duration": 16,
    "start_time": "2024-03-06T18:50:06.163Z"
   },
   {
    "duration": 22,
    "start_time": "2024-03-06T18:50:08.007Z"
   },
   {
    "duration": 5,
    "start_time": "2024-03-06T18:54:28.595Z"
   },
   {
    "duration": 14,
    "start_time": "2024-03-06T18:56:05.596Z"
   },
   {
    "duration": 15,
    "start_time": "2024-03-06T18:56:16.588Z"
   },
   {
    "duration": 12,
    "start_time": "2024-03-06T18:56:36.904Z"
   },
   {
    "duration": 15,
    "start_time": "2024-03-06T18:56:49.447Z"
   },
   {
    "duration": 9,
    "start_time": "2024-03-06T18:58:28.040Z"
   },
   {
    "duration": 8,
    "start_time": "2024-03-06T18:58:48.156Z"
   },
   {
    "duration": 8,
    "start_time": "2024-03-06T18:58:53.916Z"
   },
   {
    "duration": 8,
    "start_time": "2024-03-06T18:59:25.663Z"
   },
   {
    "duration": 9,
    "start_time": "2024-03-06T19:00:24.906Z"
   },
   {
    "duration": 22,
    "start_time": "2024-03-06T19:01:33.952Z"
   },
   {
    "duration": 28,
    "start_time": "2024-03-06T19:01:38.650Z"
   },
   {
    "duration": 24,
    "start_time": "2024-03-06T19:04:43.923Z"
   },
   {
    "duration": 29,
    "start_time": "2024-03-06T19:04:50.098Z"
   },
   {
    "duration": 30,
    "start_time": "2024-03-06T19:05:12.588Z"
   },
   {
    "duration": 23,
    "start_time": "2024-03-06T19:05:28.105Z"
   },
   {
    "duration": 29,
    "start_time": "2024-03-06T19:05:41.574Z"
   },
   {
    "duration": 8,
    "start_time": "2024-03-06T19:06:09.472Z"
   },
   {
    "duration": 27,
    "start_time": "2024-03-06T19:06:48.908Z"
   },
   {
    "duration": 26,
    "start_time": "2024-03-06T19:07:40.079Z"
   },
   {
    "duration": 29,
    "start_time": "2024-03-06T19:08:02.587Z"
   },
   {
    "duration": 32,
    "start_time": "2024-03-06T19:08:38.972Z"
   },
   {
    "duration": 31,
    "start_time": "2024-03-06T19:09:27.661Z"
   },
   {
    "duration": 32,
    "start_time": "2024-03-06T19:09:45.377Z"
   },
   {
    "duration": 32,
    "start_time": "2024-03-06T19:10:09.461Z"
   },
   {
    "duration": 1173,
    "start_time": "2024-03-06T19:10:17.655Z"
   },
   {
    "duration": 91,
    "start_time": "2024-03-06T19:10:24.558Z"
   },
   {
    "duration": 35,
    "start_time": "2024-03-06T19:10:24.651Z"
   },
   {
    "duration": 19,
    "start_time": "2024-03-06T19:10:24.687Z"
   },
   {
    "duration": 11,
    "start_time": "2024-03-06T19:10:24.708Z"
   },
   {
    "duration": 62,
    "start_time": "2024-03-06T19:10:24.720Z"
   },
   {
    "duration": 3,
    "start_time": "2024-03-06T19:10:24.784Z"
   },
   {
    "duration": 9,
    "start_time": "2024-03-06T19:10:24.789Z"
   },
   {
    "duration": 6,
    "start_time": "2024-03-06T19:10:24.799Z"
   },
   {
    "duration": 9,
    "start_time": "2024-03-06T19:10:24.806Z"
   },
   {
    "duration": 5,
    "start_time": "2024-03-06T19:10:24.818Z"
   },
   {
    "duration": 71,
    "start_time": "2024-03-06T19:10:24.825Z"
   },
   {
    "duration": 12,
    "start_time": "2024-03-06T19:10:24.898Z"
   },
   {
    "duration": 5,
    "start_time": "2024-03-06T19:10:24.911Z"
   },
   {
    "duration": 12,
    "start_time": "2024-03-06T19:10:24.917Z"
   },
   {
    "duration": 22,
    "start_time": "2024-03-06T19:10:24.930Z"
   },
   {
    "duration": 21,
    "start_time": "2024-03-06T19:10:24.981Z"
   },
   {
    "duration": 5,
    "start_time": "2024-03-06T19:10:25.003Z"
   },
   {
    "duration": 16,
    "start_time": "2024-03-06T19:10:25.010Z"
   },
   {
    "duration": 7,
    "start_time": "2024-03-06T19:10:25.028Z"
   },
   {
    "duration": 12,
    "start_time": "2024-03-06T19:10:25.036Z"
   },
   {
    "duration": 39,
    "start_time": "2024-03-06T19:10:25.049Z"
   },
   {
    "duration": 7,
    "start_time": "2024-03-06T19:10:25.090Z"
   },
   {
    "duration": 7,
    "start_time": "2024-03-06T19:10:25.099Z"
   },
   {
    "duration": 3,
    "start_time": "2024-03-06T19:10:25.108Z"
   },
   {
    "duration": 20,
    "start_time": "2024-03-06T19:10:25.113Z"
   },
   {
    "duration": 6,
    "start_time": "2024-03-06T19:10:25.135Z"
   },
   {
    "duration": 45,
    "start_time": "2024-03-06T19:10:25.143Z"
   },
   {
    "duration": 11,
    "start_time": "2024-03-06T19:10:25.192Z"
   },
   {
    "duration": 20,
    "start_time": "2024-03-06T19:10:25.205Z"
   },
   {
    "duration": 163,
    "start_time": "2024-03-06T19:10:25.227Z"
   },
   {
    "duration": 7,
    "start_time": "2024-03-06T19:10:25.392Z"
   },
   {
    "duration": 24,
    "start_time": "2024-03-06T19:10:25.400Z"
   },
   {
    "duration": 10,
    "start_time": "2024-03-06T19:10:25.426Z"
   },
   {
    "duration": 22,
    "start_time": "2024-03-06T19:10:25.437Z"
   },
   {
    "duration": 15,
    "start_time": "2024-03-06T19:10:25.461Z"
   },
   {
    "duration": 25,
    "start_time": "2024-03-06T19:10:25.477Z"
   },
   {
    "duration": 6,
    "start_time": "2024-03-06T19:10:25.503Z"
   },
   {
    "duration": 1135,
    "start_time": "2024-03-06T19:10:25.510Z"
   },
   {
    "duration": 0,
    "start_time": "2024-03-06T19:10:26.647Z"
   },
   {
    "duration": 39,
    "start_time": "2024-03-06T19:10:41.320Z"
   },
   {
    "duration": 32,
    "start_time": "2024-03-06T19:11:47.419Z"
   },
   {
    "duration": 30,
    "start_time": "2024-03-06T19:11:50.098Z"
   },
   {
    "duration": 34,
    "start_time": "2024-03-06T19:12:13.090Z"
   },
   {
    "duration": 37,
    "start_time": "2024-03-06T19:12:35.961Z"
   },
   {
    "duration": 16,
    "start_time": "2024-03-06T20:00:35.329Z"
   },
   {
    "duration": 1173,
    "start_time": "2024-03-06T20:00:37.873Z"
   },
   {
    "duration": 132,
    "start_time": "2024-03-06T20:00:45.560Z"
   },
   {
    "duration": 17,
    "start_time": "2024-03-06T20:01:03.565Z"
   },
   {
    "duration": 8,
    "start_time": "2024-03-06T20:02:38.625Z"
   },
   {
    "duration": 9,
    "start_time": "2024-03-06T20:02:45.145Z"
   },
   {
    "duration": 13,
    "start_time": "2024-03-06T20:03:14.032Z"
   },
   {
    "duration": 11,
    "start_time": "2024-03-06T20:04:16.008Z"
   },
   {
    "duration": 23,
    "start_time": "2024-03-06T20:04:22.045Z"
   },
   {
    "duration": 39,
    "start_time": "2024-03-06T20:04:54.888Z"
   },
   {
    "duration": 1185,
    "start_time": "2024-03-06T20:07:39.197Z"
   },
   {
    "duration": 1086,
    "start_time": "2024-03-06T20:07:49.420Z"
   },
   {
    "duration": 147,
    "start_time": "2024-03-06T20:08:01.121Z"
   },
   {
    "duration": 58,
    "start_time": "2024-03-07T14:38:34.050Z"
   },
   {
    "duration": 1254,
    "start_time": "2024-03-07T14:38:39.910Z"
   },
   {
    "duration": 22,
    "start_time": "2024-03-07T14:38:41.167Z"
   },
   {
    "duration": 17,
    "start_time": "2024-03-07T14:38:41.191Z"
   },
   {
    "duration": 13,
    "start_time": "2024-03-07T14:38:41.210Z"
   },
   {
    "duration": 50,
    "start_time": "2024-03-07T14:38:41.225Z"
   },
   {
    "duration": 3,
    "start_time": "2024-03-07T14:38:41.277Z"
   },
   {
    "duration": 18,
    "start_time": "2024-03-07T14:38:41.282Z"
   },
   {
    "duration": 5,
    "start_time": "2024-03-07T14:38:41.302Z"
   },
   {
    "duration": 16,
    "start_time": "2024-03-07T14:38:41.308Z"
   },
   {
    "duration": 22,
    "start_time": "2024-03-07T14:38:41.327Z"
   },
   {
    "duration": 65,
    "start_time": "2024-03-07T14:38:41.351Z"
   },
   {
    "duration": 13,
    "start_time": "2024-03-07T14:38:41.417Z"
   },
   {
    "duration": 5,
    "start_time": "2024-03-07T14:38:41.431Z"
   },
   {
    "duration": 21,
    "start_time": "2024-03-07T14:38:41.438Z"
   },
   {
    "duration": 30,
    "start_time": "2024-03-07T14:38:41.461Z"
   },
   {
    "duration": 22,
    "start_time": "2024-03-07T14:38:41.492Z"
   },
   {
    "duration": 5,
    "start_time": "2024-03-07T14:38:41.524Z"
   },
   {
    "duration": 14,
    "start_time": "2024-03-07T14:38:41.530Z"
   },
   {
    "duration": 18,
    "start_time": "2024-03-07T14:38:41.546Z"
   },
   {
    "duration": 5,
    "start_time": "2024-03-07T14:38:41.566Z"
   },
   {
    "duration": 16,
    "start_time": "2024-03-07T14:38:41.572Z"
   },
   {
    "duration": 13,
    "start_time": "2024-03-07T14:38:41.590Z"
   },
   {
    "duration": 8,
    "start_time": "2024-03-07T14:38:41.623Z"
   },
   {
    "duration": 11,
    "start_time": "2024-03-07T14:38:41.633Z"
   },
   {
    "duration": 16,
    "start_time": "2024-03-07T14:38:41.646Z"
   },
   {
    "duration": 5,
    "start_time": "2024-03-07T14:38:41.664Z"
   },
   {
    "duration": 9,
    "start_time": "2024-03-07T14:38:41.671Z"
   },
   {
    "duration": 41,
    "start_time": "2024-03-07T14:38:41.683Z"
   },
   {
    "duration": 16,
    "start_time": "2024-03-07T14:38:41.725Z"
   },
   {
    "duration": 171,
    "start_time": "2024-03-07T14:38:41.743Z"
   },
   {
    "duration": 9,
    "start_time": "2024-03-07T14:38:41.916Z"
   },
   {
    "duration": 9,
    "start_time": "2024-03-07T14:38:41.927Z"
   },
   {
    "duration": 8,
    "start_time": "2024-03-07T14:38:41.938Z"
   },
   {
    "duration": 8,
    "start_time": "2024-03-07T14:38:41.947Z"
   },
   {
    "duration": 16,
    "start_time": "2024-03-07T14:38:41.957Z"
   },
   {
    "duration": 61,
    "start_time": "2024-03-07T14:38:41.975Z"
   },
   {
    "duration": 4,
    "start_time": "2024-03-07T14:38:42.037Z"
   },
   {
    "duration": 26,
    "start_time": "2024-03-07T14:38:42.043Z"
   },
   {
    "duration": 62,
    "start_time": "2024-03-07T14:38:42.071Z"
   },
   {
    "duration": 158,
    "start_time": "2024-03-07T14:38:42.135Z"
   },
   {
    "duration": 40,
    "start_time": "2024-03-07T14:38:44.700Z"
   },
   {
    "duration": 30,
    "start_time": "2024-03-07T14:39:05.149Z"
   },
   {
    "duration": 41,
    "start_time": "2024-03-07T14:43:27.630Z"
   },
   {
    "duration": 38,
    "start_time": "2024-03-07T14:45:06.938Z"
   },
   {
    "duration": 39,
    "start_time": "2024-03-07T14:46:07.879Z"
   },
   {
    "duration": 25,
    "start_time": "2024-03-07T14:50:15.607Z"
   },
   {
    "duration": 39,
    "start_time": "2024-03-07T14:50:57.024Z"
   },
   {
    "duration": 39,
    "start_time": "2024-03-07T14:51:33.231Z"
   },
   {
    "duration": 10,
    "start_time": "2024-03-07T15:55:23.822Z"
   },
   {
    "duration": 15,
    "start_time": "2024-03-07T15:56:02.912Z"
   },
   {
    "duration": 11,
    "start_time": "2024-03-07T15:56:09.532Z"
   },
   {
    "duration": 34,
    "start_time": "2024-03-07T15:57:31.763Z"
   },
   {
    "duration": 11,
    "start_time": "2024-03-07T15:59:30.467Z"
   },
   {
    "duration": 12,
    "start_time": "2024-03-07T15:59:35.376Z"
   },
   {
    "duration": 18,
    "start_time": "2024-03-07T15:59:56.034Z"
   },
   {
    "duration": 18,
    "start_time": "2024-03-07T16:00:02.904Z"
   },
   {
    "duration": 84,
    "start_time": "2024-03-07T16:00:06.252Z"
   },
   {
    "duration": 16,
    "start_time": "2024-03-07T16:00:06.338Z"
   },
   {
    "duration": 23,
    "start_time": "2024-03-07T16:00:06.356Z"
   },
   {
    "duration": 23,
    "start_time": "2024-03-07T16:00:06.381Z"
   },
   {
    "duration": 26,
    "start_time": "2024-03-07T16:00:06.406Z"
   },
   {
    "duration": 38,
    "start_time": "2024-03-07T16:00:06.434Z"
   },
   {
    "duration": 4,
    "start_time": "2024-03-07T16:00:06.474Z"
   },
   {
    "duration": 29,
    "start_time": "2024-03-07T16:00:06.479Z"
   },
   {
    "duration": 19,
    "start_time": "2024-03-07T16:00:06.510Z"
   },
   {
    "duration": 24,
    "start_time": "2024-03-07T16:00:06.531Z"
   },
   {
    "duration": 10,
    "start_time": "2024-03-07T16:00:06.557Z"
   },
   {
    "duration": 46,
    "start_time": "2024-03-07T16:00:06.568Z"
   },
   {
    "duration": 12,
    "start_time": "2024-03-07T16:00:06.616Z"
   },
   {
    "duration": 5,
    "start_time": "2024-03-07T16:00:06.630Z"
   },
   {
    "duration": 20,
    "start_time": "2024-03-07T16:00:06.637Z"
   },
   {
    "duration": 30,
    "start_time": "2024-03-07T16:00:06.659Z"
   },
   {
    "duration": 18,
    "start_time": "2024-03-07T16:00:06.691Z"
   },
   {
    "duration": 12,
    "start_time": "2024-03-07T16:00:06.711Z"
   },
   {
    "duration": 25,
    "start_time": "2024-03-07T16:00:06.724Z"
   },
   {
    "duration": 6,
    "start_time": "2024-03-07T16:00:06.750Z"
   },
   {
    "duration": 8,
    "start_time": "2024-03-07T16:00:06.758Z"
   },
   {
    "duration": 13,
    "start_time": "2024-03-07T16:00:06.767Z"
   },
   {
    "duration": 6,
    "start_time": "2024-03-07T16:00:06.782Z"
   },
   {
    "duration": 16,
    "start_time": "2024-03-07T16:00:06.789Z"
   },
   {
    "duration": 16,
    "start_time": "2024-03-07T16:00:06.807Z"
   },
   {
    "duration": 14,
    "start_time": "2024-03-07T16:00:06.825Z"
   },
   {
    "duration": 18,
    "start_time": "2024-03-07T16:00:06.841Z"
   },
   {
    "duration": 11,
    "start_time": "2024-03-07T16:00:06.863Z"
   },
   {
    "duration": 15,
    "start_time": "2024-03-07T16:00:06.876Z"
   },
   {
    "duration": 16,
    "start_time": "2024-03-07T16:00:06.892Z"
   },
   {
    "duration": 158,
    "start_time": "2024-03-07T16:00:06.923Z"
   },
   {
    "duration": 8,
    "start_time": "2024-03-07T16:00:07.083Z"
   },
   {
    "duration": 24,
    "start_time": "2024-03-07T16:00:07.093Z"
   },
   {
    "duration": 16,
    "start_time": "2024-03-07T16:00:07.119Z"
   },
   {
    "duration": 13,
    "start_time": "2024-03-07T16:00:07.136Z"
   },
   {
    "duration": 24,
    "start_time": "2024-03-07T16:00:07.151Z"
   },
   {
    "duration": 31,
    "start_time": "2024-03-07T16:00:07.177Z"
   },
   {
    "duration": 5,
    "start_time": "2024-03-07T16:00:07.210Z"
   },
   {
    "duration": 28,
    "start_time": "2024-03-07T16:00:07.216Z"
   },
   {
    "duration": 40,
    "start_time": "2024-03-07T16:00:07.246Z"
   },
   {
    "duration": 195,
    "start_time": "2024-03-07T16:00:07.288Z"
   },
   {
    "duration": 55,
    "start_time": "2024-03-07T16:00:07.484Z"
   },
   {
    "duration": 48,
    "start_time": "2024-03-07T16:00:07.541Z"
   },
   {
    "duration": 19,
    "start_time": "2024-03-07T16:02:33.449Z"
   },
   {
    "duration": 78,
    "start_time": "2024-03-07T16:02:38.981Z"
   },
   {
    "duration": 18,
    "start_time": "2024-03-07T16:02:39.061Z"
   },
   {
    "duration": 17,
    "start_time": "2024-03-07T16:02:39.080Z"
   },
   {
    "duration": 39,
    "start_time": "2024-03-07T16:02:39.099Z"
   },
   {
    "duration": 10,
    "start_time": "2024-03-07T16:02:39.140Z"
   },
   {
    "duration": 76,
    "start_time": "2024-03-07T16:02:39.152Z"
   },
   {
    "duration": 5,
    "start_time": "2024-03-07T16:02:39.230Z"
   },
   {
    "duration": 23,
    "start_time": "2024-03-07T16:02:39.236Z"
   },
   {
    "duration": 5,
    "start_time": "2024-03-07T16:02:39.260Z"
   },
   {
    "duration": 75,
    "start_time": "2024-03-07T16:02:39.267Z"
   },
   {
    "duration": 5,
    "start_time": "2024-03-07T16:02:39.343Z"
   },
   {
    "duration": 41,
    "start_time": "2024-03-07T16:02:39.349Z"
   },
   {
    "duration": 33,
    "start_time": "2024-03-07T16:02:39.392Z"
   },
   {
    "duration": 4,
    "start_time": "2024-03-07T16:02:39.426Z"
   },
   {
    "duration": 15,
    "start_time": "2024-03-07T16:02:39.431Z"
   },
   {
    "duration": 25,
    "start_time": "2024-03-07T16:02:39.448Z"
   },
   {
    "duration": 27,
    "start_time": "2024-03-07T16:02:39.474Z"
   },
   {
    "duration": 5,
    "start_time": "2024-03-07T16:02:39.503Z"
   },
   {
    "duration": 24,
    "start_time": "2024-03-07T16:02:39.510Z"
   },
   {
    "duration": 10,
    "start_time": "2024-03-07T16:02:39.535Z"
   },
   {
    "duration": 7,
    "start_time": "2024-03-07T16:02:39.547Z"
   },
   {
    "duration": 15,
    "start_time": "2024-03-07T16:02:39.556Z"
   },
   {
    "duration": 15,
    "start_time": "2024-03-07T16:02:39.573Z"
   },
   {
    "duration": 6,
    "start_time": "2024-03-07T16:02:39.590Z"
   },
   {
    "duration": 3,
    "start_time": "2024-03-07T16:02:39.598Z"
   },
   {
    "duration": 13,
    "start_time": "2024-03-07T16:02:39.623Z"
   },
   {
    "duration": 8,
    "start_time": "2024-03-07T16:02:39.639Z"
   },
   {
    "duration": 9,
    "start_time": "2024-03-07T16:02:39.652Z"
   },
   {
    "duration": 13,
    "start_time": "2024-03-07T16:02:39.663Z"
   },
   {
    "duration": 52,
    "start_time": "2024-03-07T16:02:39.678Z"
   },
   {
    "duration": 150,
    "start_time": "2024-03-07T16:02:39.731Z"
   },
   {
    "duration": 8,
    "start_time": "2024-03-07T16:02:39.882Z"
   },
   {
    "duration": 24,
    "start_time": "2024-03-07T16:02:39.891Z"
   },
   {
    "duration": 12,
    "start_time": "2024-03-07T16:02:39.916Z"
   },
   {
    "duration": 8,
    "start_time": "2024-03-07T16:02:39.929Z"
   },
   {
    "duration": 20,
    "start_time": "2024-03-07T16:02:39.938Z"
   },
   {
    "duration": 21,
    "start_time": "2024-03-07T16:02:39.960Z"
   },
   {
    "duration": 4,
    "start_time": "2024-03-07T16:02:39.983Z"
   },
   {
    "duration": 50,
    "start_time": "2024-03-07T16:02:39.989Z"
   },
   {
    "duration": 37,
    "start_time": "2024-03-07T16:02:40.040Z"
   },
   {
    "duration": 170,
    "start_time": "2024-03-07T16:02:40.079Z"
   },
   {
    "duration": 30,
    "start_time": "2024-03-07T16:02:40.251Z"
   },
   {
    "duration": 51,
    "start_time": "2024-03-07T16:02:40.283Z"
   },
   {
    "duration": 23,
    "start_time": "2024-03-07T17:31:36.306Z"
   },
   {
    "duration": 78,
    "start_time": "2024-03-07T17:31:40.953Z"
   },
   {
    "duration": 16,
    "start_time": "2024-03-07T17:31:41.033Z"
   },
   {
    "duration": 52,
    "start_time": "2024-03-07T17:31:41.051Z"
   },
   {
    "duration": 60,
    "start_time": "2024-03-07T17:31:41.105Z"
   },
   {
    "duration": 70,
    "start_time": "2024-03-07T17:31:41.167Z"
   },
   {
    "duration": 73,
    "start_time": "2024-03-07T17:31:41.239Z"
   },
   {
    "duration": 15,
    "start_time": "2024-03-07T17:31:41.314Z"
   },
   {
    "duration": 50,
    "start_time": "2024-03-07T17:31:41.331Z"
   },
   {
    "duration": 34,
    "start_time": "2024-03-07T17:31:41.383Z"
   },
   {
    "duration": 15,
    "start_time": "2024-03-07T17:31:41.418Z"
   },
   {
    "duration": 21,
    "start_time": "2024-03-07T17:31:41.435Z"
   },
   {
    "duration": 82,
    "start_time": "2024-03-07T17:31:41.457Z"
   },
   {
    "duration": 11,
    "start_time": "2024-03-07T17:31:41.541Z"
   },
   {
    "duration": 10,
    "start_time": "2024-03-07T17:31:41.556Z"
   },
   {
    "duration": 41,
    "start_time": "2024-03-07T17:31:41.567Z"
   },
   {
    "duration": 47,
    "start_time": "2024-03-07T17:31:41.610Z"
   },
   {
    "duration": 19,
    "start_time": "2024-03-07T17:31:41.659Z"
   },
   {
    "duration": 29,
    "start_time": "2024-03-07T17:31:41.680Z"
   },
   {
    "duration": 20,
    "start_time": "2024-03-07T17:31:41.711Z"
   },
   {
    "duration": 22,
    "start_time": "2024-03-07T17:31:41.733Z"
   },
   {
    "duration": 25,
    "start_time": "2024-03-07T17:31:41.757Z"
   },
   {
    "duration": 26,
    "start_time": "2024-03-07T17:31:41.784Z"
   },
   {
    "duration": 28,
    "start_time": "2024-03-07T17:31:41.811Z"
   },
   {
    "duration": 32,
    "start_time": "2024-03-07T17:31:41.841Z"
   },
   {
    "duration": 34,
    "start_time": "2024-03-07T17:31:41.875Z"
   },
   {
    "duration": 39,
    "start_time": "2024-03-07T17:31:41.910Z"
   },
   {
    "duration": 20,
    "start_time": "2024-03-07T17:31:41.951Z"
   },
   {
    "duration": 36,
    "start_time": "2024-03-07T17:31:41.973Z"
   },
   {
    "duration": 23,
    "start_time": "2024-03-07T17:31:42.010Z"
   },
   {
    "duration": 23,
    "start_time": "2024-03-07T17:31:42.034Z"
   },
   {
    "duration": 160,
    "start_time": "2024-03-07T17:31:42.059Z"
   },
   {
    "duration": 9,
    "start_time": "2024-03-07T17:31:42.222Z"
   },
   {
    "duration": 28,
    "start_time": "2024-03-07T17:31:42.233Z"
   },
   {
    "duration": 28,
    "start_time": "2024-03-07T17:31:42.263Z"
   },
   {
    "duration": 29,
    "start_time": "2024-03-07T17:31:42.293Z"
   },
   {
    "duration": 36,
    "start_time": "2024-03-07T17:31:42.324Z"
   },
   {
    "duration": 43,
    "start_time": "2024-03-07T17:31:42.362Z"
   },
   {
    "duration": 4,
    "start_time": "2024-03-07T17:31:42.407Z"
   },
   {
    "duration": 38,
    "start_time": "2024-03-07T17:31:42.413Z"
   },
   {
    "duration": 39,
    "start_time": "2024-03-07T17:31:42.453Z"
   },
   {
    "duration": 166,
    "start_time": "2024-03-07T17:31:42.497Z"
   },
   {
    "duration": 32,
    "start_time": "2024-03-07T17:31:42.665Z"
   },
   {
    "duration": 52,
    "start_time": "2024-03-07T17:31:42.698Z"
   },
   {
    "duration": 900,
    "start_time": "2024-03-08T08:56:42.736Z"
   },
   {
    "duration": 18,
    "start_time": "2024-03-08T08:56:43.638Z"
   },
   {
    "duration": 15,
    "start_time": "2024-03-08T08:56:43.658Z"
   },
   {
    "duration": 18,
    "start_time": "2024-03-08T08:56:43.674Z"
   },
   {
    "duration": 10,
    "start_time": "2024-03-08T08:56:43.693Z"
   },
   {
    "duration": 46,
    "start_time": "2024-03-08T08:56:43.705Z"
   },
   {
    "duration": 6,
    "start_time": "2024-03-08T08:56:43.752Z"
   },
   {
    "duration": 10,
    "start_time": "2024-03-08T08:56:43.759Z"
   },
   {
    "duration": 7,
    "start_time": "2024-03-08T08:56:43.770Z"
   },
   {
    "duration": 19,
    "start_time": "2024-03-08T08:56:43.780Z"
   },
   {
    "duration": 5,
    "start_time": "2024-03-08T08:56:43.801Z"
   },
   {
    "duration": 34,
    "start_time": "2024-03-08T08:56:43.808Z"
   },
   {
    "duration": 10,
    "start_time": "2024-03-08T08:56:43.843Z"
   },
   {
    "duration": 3,
    "start_time": "2024-03-08T08:56:43.854Z"
   },
   {
    "duration": 40,
    "start_time": "2024-03-08T08:56:43.859Z"
   },
   {
    "duration": 24,
    "start_time": "2024-03-08T08:56:43.900Z"
   },
   {
    "duration": 23,
    "start_time": "2024-03-08T08:56:43.926Z"
   },
   {
    "duration": 4,
    "start_time": "2024-03-08T08:56:43.951Z"
   },
   {
    "duration": 16,
    "start_time": "2024-03-08T08:56:43.957Z"
   },
   {
    "duration": 34,
    "start_time": "2024-03-08T08:56:43.975Z"
   },
   {
    "duration": 4,
    "start_time": "2024-03-08T08:56:44.011Z"
   },
   {
    "duration": 26,
    "start_time": "2024-03-08T08:56:44.016Z"
   },
   {
    "duration": 6,
    "start_time": "2024-03-08T08:56:44.043Z"
   },
   {
    "duration": 6,
    "start_time": "2024-03-08T08:56:44.050Z"
   },
   {
    "duration": 13,
    "start_time": "2024-03-08T08:56:44.057Z"
   },
   {
    "duration": 16,
    "start_time": "2024-03-08T08:56:44.071Z"
   },
   {
    "duration": 4,
    "start_time": "2024-03-08T08:56:44.089Z"
   },
   {
    "duration": 14,
    "start_time": "2024-03-08T08:56:44.098Z"
   },
   {
    "duration": 13,
    "start_time": "2024-03-08T08:56:44.113Z"
   },
   {
    "duration": 24,
    "start_time": "2024-03-08T08:56:44.128Z"
   },
   {
    "duration": 140,
    "start_time": "2024-03-08T08:56:44.154Z"
   },
   {
    "duration": 15,
    "start_time": "2024-03-08T08:56:44.296Z"
   },
   {
    "duration": 8,
    "start_time": "2024-03-08T08:56:44.313Z"
   },
   {
    "duration": 15,
    "start_time": "2024-03-08T08:56:44.322Z"
   },
   {
    "duration": 15,
    "start_time": "2024-03-08T08:56:44.338Z"
   },
   {
    "duration": 14,
    "start_time": "2024-03-08T08:56:44.354Z"
   },
   {
    "duration": 25,
    "start_time": "2024-03-08T08:56:44.369Z"
   },
   {
    "duration": 4,
    "start_time": "2024-03-08T08:56:44.396Z"
   },
   {
    "duration": 24,
    "start_time": "2024-03-08T08:56:44.402Z"
   },
   {
    "duration": 34,
    "start_time": "2024-03-08T08:56:44.427Z"
   },
   {
    "duration": 155,
    "start_time": "2024-03-08T08:56:44.462Z"
   },
   {
    "duration": 25,
    "start_time": "2024-03-08T08:56:44.619Z"
   },
   {
    "duration": 26,
    "start_time": "2024-03-08T08:56:44.645Z"
   },
   {
    "duration": 113,
    "start_time": "2024-03-08T09:20:53.175Z"
   },
   {
    "duration": 1024,
    "start_time": "2024-03-09T10:35:37.918Z"
   },
   {
    "duration": 85,
    "start_time": "2024-03-09T10:44:20.467Z"
   },
   {
    "duration": 78,
    "start_time": "2024-03-09T10:44:29.725Z"
   },
   {
    "duration": 22,
    "start_time": "2024-03-09T10:44:29.805Z"
   },
   {
    "duration": 17,
    "start_time": "2024-03-09T10:44:29.829Z"
   },
   {
    "duration": 41,
    "start_time": "2024-03-09T10:44:29.848Z"
   },
   {
    "duration": 12,
    "start_time": "2024-03-09T10:44:29.892Z"
   },
   {
    "duration": 36,
    "start_time": "2024-03-09T10:44:29.905Z"
   },
   {
    "duration": 3,
    "start_time": "2024-03-09T10:44:29.943Z"
   },
   {
    "duration": 9,
    "start_time": "2024-03-09T10:44:29.973Z"
   },
   {
    "duration": 4,
    "start_time": "2024-03-09T10:44:29.983Z"
   },
   {
    "duration": 9,
    "start_time": "2024-03-09T10:44:29.989Z"
   },
   {
    "duration": 20,
    "start_time": "2024-03-09T10:44:29.999Z"
   },
   {
    "duration": 72,
    "start_time": "2024-03-09T10:44:30.021Z"
   },
   {
    "duration": 58,
    "start_time": "2024-03-09T10:44:30.095Z"
   },
   {
    "duration": 104,
    "start_time": "2024-03-09T10:44:30.155Z"
   },
   {
    "duration": 45,
    "start_time": "2024-03-09T10:44:30.260Z"
   },
   {
    "duration": 83,
    "start_time": "2024-03-09T10:44:30.307Z"
   },
   {
    "duration": 22,
    "start_time": "2024-03-09T10:44:30.392Z"
   },
   {
    "duration": 32,
    "start_time": "2024-03-09T10:44:30.416Z"
   },
   {
    "duration": 57,
    "start_time": "2024-03-09T10:44:30.450Z"
   },
   {
    "duration": 47,
    "start_time": "2024-03-09T10:44:30.508Z"
   },
   {
    "duration": 42,
    "start_time": "2024-03-09T10:44:30.557Z"
   },
   {
    "duration": 68,
    "start_time": "2024-03-09T10:44:30.601Z"
   },
   {
    "duration": 34,
    "start_time": "2024-03-09T10:44:30.671Z"
   },
   {
    "duration": 58,
    "start_time": "2024-03-09T10:44:30.706Z"
   },
   {
    "duration": 65,
    "start_time": "2024-03-09T10:44:30.766Z"
   },
   {
    "duration": 55,
    "start_time": "2024-03-09T10:44:30.832Z"
   },
   {
    "duration": 32,
    "start_time": "2024-03-09T10:44:30.888Z"
   },
   {
    "duration": 58,
    "start_time": "2024-03-09T10:44:30.921Z"
   },
   {
    "duration": 45,
    "start_time": "2024-03-09T10:44:30.981Z"
   },
   {
    "duration": 35,
    "start_time": "2024-03-09T10:44:33.335Z"
   },
   {
    "duration": 38,
    "start_time": "2024-03-09T10:45:04.498Z"
   },
   {
    "duration": 32,
    "start_time": "2024-03-09T10:45:08.243Z"
   },
   {
    "duration": 29,
    "start_time": "2024-03-09T10:45:19.358Z"
   },
   {
    "duration": 29,
    "start_time": "2024-03-09T10:46:23.198Z"
   },
   {
    "duration": 30,
    "start_time": "2024-03-09T10:46:28.997Z"
   },
   {
    "duration": 30,
    "start_time": "2024-03-09T10:46:50.154Z"
   },
   {
    "duration": 30,
    "start_time": "2024-03-09T10:50:29.547Z"
   },
   {
    "duration": 29,
    "start_time": "2024-03-09T10:52:27.139Z"
   },
   {
    "duration": 30,
    "start_time": "2024-03-09T10:55:48.810Z"
   },
   {
    "duration": 29,
    "start_time": "2024-03-09T10:55:51.198Z"
   },
   {
    "duration": 30,
    "start_time": "2024-03-09T10:55:53.158Z"
   },
   {
    "duration": 90,
    "start_time": "2024-03-09T10:56:11.753Z"
   },
   {
    "duration": 15,
    "start_time": "2024-03-09T10:56:19.007Z"
   },
   {
    "duration": 96,
    "start_time": "2024-03-09T10:56:31.068Z"
   },
   {
    "duration": 18,
    "start_time": "2024-03-09T10:56:31.166Z"
   },
   {
    "duration": 104,
    "start_time": "2024-03-09T10:56:31.187Z"
   },
   {
    "duration": 83,
    "start_time": "2024-03-09T10:56:31.293Z"
   },
   {
    "duration": 64,
    "start_time": "2024-03-09T10:56:31.377Z"
   },
   {
    "duration": 85,
    "start_time": "2024-03-09T10:56:31.443Z"
   },
   {
    "duration": 27,
    "start_time": "2024-03-09T10:56:31.530Z"
   },
   {
    "duration": 35,
    "start_time": "2024-03-09T10:56:31.559Z"
   },
   {
    "duration": 106,
    "start_time": "2024-03-09T10:56:31.596Z"
   },
   {
    "duration": 103,
    "start_time": "2024-03-09T10:56:31.704Z"
   },
   {
    "duration": 38,
    "start_time": "2024-03-09T10:56:31.808Z"
   },
   {
    "duration": 88,
    "start_time": "2024-03-09T10:56:31.847Z"
   },
   {
    "duration": 12,
    "start_time": "2024-03-09T10:56:31.936Z"
   },
   {
    "duration": 26,
    "start_time": "2024-03-09T10:56:31.950Z"
   },
   {
    "duration": 33,
    "start_time": "2024-03-09T10:56:31.978Z"
   },
   {
    "duration": 48,
    "start_time": "2024-03-09T10:56:32.013Z"
   },
   {
    "duration": 35,
    "start_time": "2024-03-09T10:56:32.063Z"
   },
   {
    "duration": 6,
    "start_time": "2024-03-09T10:56:32.100Z"
   },
   {
    "duration": 33,
    "start_time": "2024-03-09T10:56:32.107Z"
   },
   {
    "duration": 15,
    "start_time": "2024-03-09T10:56:32.141Z"
   },
   {
    "duration": 9,
    "start_time": "2024-03-09T10:56:32.158Z"
   },
   {
    "duration": 10,
    "start_time": "2024-03-09T10:56:32.169Z"
   },
   {
    "duration": 6,
    "start_time": "2024-03-09T10:56:32.181Z"
   },
   {
    "duration": 7,
    "start_time": "2024-03-09T10:56:32.188Z"
   },
   {
    "duration": 4,
    "start_time": "2024-03-09T10:56:32.197Z"
   },
   {
    "duration": 19,
    "start_time": "2024-03-09T10:56:32.202Z"
   },
   {
    "duration": 15,
    "start_time": "2024-03-09T10:56:32.223Z"
   },
   {
    "duration": 23,
    "start_time": "2024-03-09T10:56:32.242Z"
   },
   {
    "duration": 17,
    "start_time": "2024-03-09T10:56:32.267Z"
   },
   {
    "duration": 42,
    "start_time": "2024-03-09T10:56:34.865Z"
   },
   {
    "duration": 32,
    "start_time": "2024-03-09T10:57:07.620Z"
   },
   {
    "duration": 31,
    "start_time": "2024-03-09T10:57:12.899Z"
   },
   {
    "duration": 65,
    "start_time": "2024-03-09T10:58:52.504Z"
   },
   {
    "duration": 30,
    "start_time": "2024-03-09T10:59:00.716Z"
   },
   {
    "duration": 33,
    "start_time": "2024-03-09T11:01:05.918Z"
   },
   {
    "duration": 44,
    "start_time": "2024-03-09T11:01:09.990Z"
   },
   {
    "duration": 31,
    "start_time": "2024-03-09T11:01:15.242Z"
   },
   {
    "duration": 42,
    "start_time": "2024-03-09T11:08:44.840Z"
   },
   {
    "duration": 4,
    "start_time": "2024-03-09T11:14:40.446Z"
   },
   {
    "duration": 27,
    "start_time": "2024-03-09T11:16:10.872Z"
   },
   {
    "duration": 29,
    "start_time": "2024-03-09T11:16:51.456Z"
   },
   {
    "duration": 29,
    "start_time": "2024-03-09T11:16:56.351Z"
   },
   {
    "duration": 9,
    "start_time": "2024-03-09T11:17:30.243Z"
   },
   {
    "duration": 7,
    "start_time": "2024-03-09T11:17:48.762Z"
   },
   {
    "duration": 23,
    "start_time": "2024-03-09T11:17:54.316Z"
   },
   {
    "duration": 92,
    "start_time": "2024-03-09T11:18:01.557Z"
   },
   {
    "duration": 29,
    "start_time": "2024-03-09T11:18:01.650Z"
   },
   {
    "duration": 79,
    "start_time": "2024-03-09T11:18:01.680Z"
   },
   {
    "duration": 72,
    "start_time": "2024-03-09T11:18:01.760Z"
   },
   {
    "duration": 78,
    "start_time": "2024-03-09T11:18:01.834Z"
   },
   {
    "duration": 116,
    "start_time": "2024-03-09T11:18:01.913Z"
   },
   {
    "duration": 19,
    "start_time": "2024-03-09T11:18:02.031Z"
   },
   {
    "duration": 55,
    "start_time": "2024-03-09T11:18:02.051Z"
   },
   {
    "duration": 44,
    "start_time": "2024-03-09T11:18:02.108Z"
   },
   {
    "duration": 29,
    "start_time": "2024-03-09T11:18:02.154Z"
   },
   {
    "duration": 43,
    "start_time": "2024-03-09T11:18:02.184Z"
   },
   {
    "duration": 78,
    "start_time": "2024-03-09T11:18:02.229Z"
   },
   {
    "duration": 12,
    "start_time": "2024-03-09T11:18:02.308Z"
   },
   {
    "duration": 43,
    "start_time": "2024-03-09T11:18:02.324Z"
   },
   {
    "duration": 18,
    "start_time": "2024-03-09T11:18:02.368Z"
   },
   {
    "duration": 62,
    "start_time": "2024-03-09T11:18:02.388Z"
   },
   {
    "duration": 24,
    "start_time": "2024-03-09T11:18:02.452Z"
   },
   {
    "duration": 5,
    "start_time": "2024-03-09T11:18:02.478Z"
   },
   {
    "duration": 50,
    "start_time": "2024-03-09T11:18:02.485Z"
   },
   {
    "duration": 26,
    "start_time": "2024-03-09T11:18:02.537Z"
   },
   {
    "duration": 16,
    "start_time": "2024-03-09T11:18:02.565Z"
   },
   {
    "duration": 38,
    "start_time": "2024-03-09T11:18:02.583Z"
   },
   {
    "duration": 32,
    "start_time": "2024-03-09T11:18:02.623Z"
   },
   {
    "duration": 18,
    "start_time": "2024-03-09T11:18:02.657Z"
   },
   {
    "duration": 41,
    "start_time": "2024-03-09T11:18:02.677Z"
   },
   {
    "duration": 23,
    "start_time": "2024-03-09T11:18:02.720Z"
   },
   {
    "duration": 39,
    "start_time": "2024-03-09T11:18:02.746Z"
   },
   {
    "duration": 16,
    "start_time": "2024-03-09T11:18:02.787Z"
   },
   {
    "duration": 43,
    "start_time": "2024-03-09T11:18:02.805Z"
   },
   {
    "duration": 10,
    "start_time": "2024-03-09T11:18:02.849Z"
   },
   {
    "duration": 64,
    "start_time": "2024-03-09T11:18:02.860Z"
   },
   {
    "duration": 148,
    "start_time": "2024-03-09T11:18:02.926Z"
   },
   {
    "duration": 7,
    "start_time": "2024-03-09T11:18:03.076Z"
   },
   {
    "duration": 34,
    "start_time": "2024-03-09T11:18:03.085Z"
   },
   {
    "duration": 9,
    "start_time": "2024-03-09T11:18:03.121Z"
   },
   {
    "duration": 8,
    "start_time": "2024-03-09T11:18:03.131Z"
   },
   {
    "duration": 35,
    "start_time": "2024-03-09T11:18:03.141Z"
   },
   {
    "duration": 21,
    "start_time": "2024-03-09T11:18:03.178Z"
   },
   {
    "duration": 4,
    "start_time": "2024-03-09T11:18:03.200Z"
   },
   {
    "duration": 27,
    "start_time": "2024-03-09T11:18:03.206Z"
   },
   {
    "duration": 59,
    "start_time": "2024-03-09T11:18:03.237Z"
   },
   {
    "duration": 28,
    "start_time": "2024-03-09T11:18:28.503Z"
   },
   {
    "duration": 8,
    "start_time": "2024-03-09T11:30:47.141Z"
   },
   {
    "duration": 92,
    "start_time": "2024-03-09T11:30:54.863Z"
   },
   {
    "duration": 18,
    "start_time": "2024-03-09T11:30:54.957Z"
   },
   {
    "duration": 26,
    "start_time": "2024-03-09T11:30:54.976Z"
   },
   {
    "duration": 21,
    "start_time": "2024-03-09T11:30:55.005Z"
   },
   {
    "duration": 13,
    "start_time": "2024-03-09T11:30:55.028Z"
   },
   {
    "duration": 61,
    "start_time": "2024-03-09T11:30:55.043Z"
   },
   {
    "duration": 4,
    "start_time": "2024-03-09T11:30:55.105Z"
   },
   {
    "duration": 20,
    "start_time": "2024-03-09T11:30:55.111Z"
   },
   {
    "duration": 27,
    "start_time": "2024-03-09T11:30:55.132Z"
   },
   {
    "duration": 6,
    "start_time": "2024-03-09T11:30:55.162Z"
   },
   {
    "duration": 5,
    "start_time": "2024-03-09T11:30:55.169Z"
   },
   {
    "duration": 38,
    "start_time": "2024-03-09T11:30:55.176Z"
   },
   {
    "duration": 12,
    "start_time": "2024-03-09T11:30:55.216Z"
   },
   {
    "duration": 4,
    "start_time": "2024-03-09T11:30:55.230Z"
   },
   {
    "duration": 49,
    "start_time": "2024-03-09T11:30:55.236Z"
   },
   {
    "duration": 25,
    "start_time": "2024-03-09T11:30:55.287Z"
   },
   {
    "duration": 17,
    "start_time": "2024-03-09T11:30:55.314Z"
   },
   {
    "duration": 3,
    "start_time": "2024-03-09T11:30:55.333Z"
   },
   {
    "duration": 18,
    "start_time": "2024-03-09T11:30:55.338Z"
   },
   {
    "duration": 6,
    "start_time": "2024-03-09T11:30:55.373Z"
   },
   {
    "duration": 3,
    "start_time": "2024-03-09T11:30:55.381Z"
   },
   {
    "duration": 23,
    "start_time": "2024-03-09T11:30:55.386Z"
   },
   {
    "duration": 8,
    "start_time": "2024-03-09T11:30:55.411Z"
   },
   {
    "duration": 29,
    "start_time": "2024-03-09T11:30:55.420Z"
   },
   {
    "duration": 5,
    "start_time": "2024-03-09T11:30:55.451Z"
   },
   {
    "duration": 16,
    "start_time": "2024-03-09T11:30:55.458Z"
   },
   {
    "duration": 14,
    "start_time": "2024-03-09T11:30:55.476Z"
   },
   {
    "duration": 8,
    "start_time": "2024-03-09T11:30:55.493Z"
   },
   {
    "duration": 11,
    "start_time": "2024-03-09T11:30:55.503Z"
   },
   {
    "duration": 15,
    "start_time": "2024-03-09T11:30:55.516Z"
   },
   {
    "duration": 34,
    "start_time": "2024-03-09T11:30:55.532Z"
   },
   {
    "duration": 142,
    "start_time": "2024-03-09T11:30:55.568Z"
   },
   {
    "duration": 8,
    "start_time": "2024-03-09T11:30:55.712Z"
   },
   {
    "duration": 9,
    "start_time": "2024-03-09T11:30:55.722Z"
   },
   {
    "duration": 7,
    "start_time": "2024-03-09T11:30:55.733Z"
   },
   {
    "duration": 32,
    "start_time": "2024-03-09T11:30:55.742Z"
   },
   {
    "duration": 31,
    "start_time": "2024-03-09T11:30:55.776Z"
   },
   {
    "duration": 23,
    "start_time": "2024-03-09T11:30:55.809Z"
   },
   {
    "duration": 25,
    "start_time": "2024-03-09T11:30:55.834Z"
   },
   {
    "duration": 28,
    "start_time": "2024-03-09T11:30:55.861Z"
   },
   {
    "duration": 35,
    "start_time": "2024-03-09T11:30:55.891Z"
   },
   {
    "duration": 8,
    "start_time": "2024-03-09T11:30:55.928Z"
   },
   {
    "duration": 0,
    "start_time": "2024-03-09T11:30:55.937Z"
   },
   {
    "duration": 7,
    "start_time": "2024-03-09T11:30:57.223Z"
   },
   {
    "duration": 30,
    "start_time": "2024-03-09T11:31:04.568Z"
   },
   {
    "duration": 7,
    "start_time": "2024-03-09T11:34:32.584Z"
   },
   {
    "duration": 36,
    "start_time": "2024-03-09T11:34:59.910Z"
   },
   {
    "duration": 10,
    "start_time": "2024-03-09T11:35:04.998Z"
   },
   {
    "duration": 92,
    "start_time": "2024-03-09T11:35:11.283Z"
   },
   {
    "duration": 16,
    "start_time": "2024-03-09T11:35:11.376Z"
   },
   {
    "duration": 38,
    "start_time": "2024-03-09T11:35:11.394Z"
   },
   {
    "duration": 22,
    "start_time": "2024-03-09T11:35:11.435Z"
   },
   {
    "duration": 12,
    "start_time": "2024-03-09T11:35:11.472Z"
   },
   {
    "duration": 39,
    "start_time": "2024-03-09T11:35:11.486Z"
   },
   {
    "duration": 3,
    "start_time": "2024-03-09T11:35:11.527Z"
   },
   {
    "duration": 16,
    "start_time": "2024-03-09T11:35:11.531Z"
   },
   {
    "duration": 26,
    "start_time": "2024-03-09T11:35:11.548Z"
   },
   {
    "duration": 5,
    "start_time": "2024-03-09T11:35:11.576Z"
   },
   {
    "duration": 13,
    "start_time": "2024-03-09T11:35:11.583Z"
   },
   {
    "duration": 41,
    "start_time": "2024-03-09T11:35:11.598Z"
   },
   {
    "duration": 12,
    "start_time": "2024-03-09T11:35:11.641Z"
   },
   {
    "duration": 22,
    "start_time": "2024-03-09T11:35:11.655Z"
   },
   {
    "duration": 62,
    "start_time": "2024-03-09T11:35:11.679Z"
   },
   {
    "duration": 37,
    "start_time": "2024-03-09T11:35:11.742Z"
   },
   {
    "duration": 26,
    "start_time": "2024-03-09T11:35:11.782Z"
   },
   {
    "duration": 28,
    "start_time": "2024-03-09T11:35:11.809Z"
   },
   {
    "duration": 19,
    "start_time": "2024-03-09T11:35:11.839Z"
   },
   {
    "duration": 5,
    "start_time": "2024-03-09T11:35:11.860Z"
   },
   {
    "duration": 26,
    "start_time": "2024-03-09T11:35:11.867Z"
   },
   {
    "duration": 25,
    "start_time": "2024-03-09T11:35:11.895Z"
   },
   {
    "duration": 17,
    "start_time": "2024-03-09T11:35:11.921Z"
   },
   {
    "duration": 14,
    "start_time": "2024-03-09T11:35:11.939Z"
   },
   {
    "duration": 12,
    "start_time": "2024-03-09T11:35:11.954Z"
   },
   {
    "duration": 44,
    "start_time": "2024-03-09T11:35:11.967Z"
   },
   {
    "duration": 24,
    "start_time": "2024-03-09T11:35:12.012Z"
   },
   {
    "duration": 16,
    "start_time": "2024-03-09T11:35:12.039Z"
   },
   {
    "duration": 26,
    "start_time": "2024-03-09T11:35:12.057Z"
   },
   {
    "duration": 4,
    "start_time": "2024-03-09T11:35:12.084Z"
   },
   {
    "duration": 40,
    "start_time": "2024-03-09T11:35:12.089Z"
   },
   {
    "duration": 141,
    "start_time": "2024-03-09T11:35:12.131Z"
   },
   {
    "duration": 7,
    "start_time": "2024-03-09T11:35:12.274Z"
   },
   {
    "duration": 15,
    "start_time": "2024-03-09T11:35:12.283Z"
   },
   {
    "duration": 17,
    "start_time": "2024-03-09T11:35:12.300Z"
   },
   {
    "duration": 19,
    "start_time": "2024-03-09T11:35:12.318Z"
   },
   {
    "duration": 35,
    "start_time": "2024-03-09T11:35:12.338Z"
   },
   {
    "duration": 22,
    "start_time": "2024-03-09T11:35:12.375Z"
   },
   {
    "duration": 4,
    "start_time": "2024-03-09T11:35:12.399Z"
   },
   {
    "duration": 31,
    "start_time": "2024-03-09T11:35:12.405Z"
   },
   {
    "duration": 52,
    "start_time": "2024-03-09T11:35:12.437Z"
   },
   {
    "duration": 8,
    "start_time": "2024-03-09T11:35:12.490Z"
   },
   {
    "duration": 8,
    "start_time": "2024-03-09T11:35:28.711Z"
   },
   {
    "duration": 28,
    "start_time": "2024-03-09T11:36:33.960Z"
   },
   {
    "duration": 8,
    "start_time": "2024-03-09T11:36:35.908Z"
   },
   {
    "duration": 8,
    "start_time": "2024-03-09T11:37:14.288Z"
   },
   {
    "duration": 4,
    "start_time": "2024-03-09T11:37:28.906Z"
   },
   {
    "duration": 8,
    "start_time": "2024-03-09T11:39:33.440Z"
   },
   {
    "duration": 8,
    "start_time": "2024-03-09T11:41:00.362Z"
   },
   {
    "duration": 36,
    "start_time": "2024-03-09T11:41:04.845Z"
   },
   {
    "duration": 8,
    "start_time": "2024-03-09T11:41:06.515Z"
   },
   {
    "duration": 97,
    "start_time": "2024-03-09T11:41:11.371Z"
   },
   {
    "duration": 16,
    "start_time": "2024-03-09T11:41:11.470Z"
   },
   {
    "duration": 21,
    "start_time": "2024-03-09T11:41:11.488Z"
   },
   {
    "duration": 27,
    "start_time": "2024-03-09T11:41:11.511Z"
   },
   {
    "duration": 11,
    "start_time": "2024-03-09T11:41:11.539Z"
   },
   {
    "duration": 45,
    "start_time": "2024-03-09T11:41:11.552Z"
   },
   {
    "duration": 4,
    "start_time": "2024-03-09T11:41:11.598Z"
   },
   {
    "duration": 14,
    "start_time": "2024-03-09T11:41:11.603Z"
   },
   {
    "duration": 11,
    "start_time": "2024-03-09T11:41:11.619Z"
   },
   {
    "duration": 9,
    "start_time": "2024-03-09T11:41:11.632Z"
   },
   {
    "duration": 4,
    "start_time": "2024-03-09T11:41:11.643Z"
   },
   {
    "duration": 53,
    "start_time": "2024-03-09T11:41:11.648Z"
   },
   {
    "duration": 11,
    "start_time": "2024-03-09T11:41:11.703Z"
   },
   {
    "duration": 14,
    "start_time": "2024-03-09T11:41:11.715Z"
   },
   {
    "duration": 24,
    "start_time": "2024-03-09T11:41:11.730Z"
   },
   {
    "duration": 31,
    "start_time": "2024-03-09T11:41:11.756Z"
   },
   {
    "duration": 50,
    "start_time": "2024-03-09T11:41:11.788Z"
   },
   {
    "duration": 4,
    "start_time": "2024-03-09T11:41:11.840Z"
   },
   {
    "duration": 17,
    "start_time": "2024-03-09T11:41:11.845Z"
   },
   {
    "duration": 8,
    "start_time": "2024-03-09T11:41:11.864Z"
   },
   {
    "duration": 4,
    "start_time": "2024-03-09T11:41:11.873Z"
   },
   {
    "duration": 13,
    "start_time": "2024-03-09T11:41:11.879Z"
   },
   {
    "duration": 9,
    "start_time": "2024-03-09T11:41:11.893Z"
   },
   {
    "duration": 7,
    "start_time": "2024-03-09T11:41:11.903Z"
   },
   {
    "duration": 3,
    "start_time": "2024-03-09T11:41:11.911Z"
   },
   {
    "duration": 12,
    "start_time": "2024-03-09T11:41:11.916Z"
   },
   {
    "duration": 6,
    "start_time": "2024-03-09T11:41:11.929Z"
   },
   {
    "duration": 36,
    "start_time": "2024-03-09T11:41:11.938Z"
   },
   {
    "duration": 12,
    "start_time": "2024-03-09T11:41:11.975Z"
   },
   {
    "duration": 5,
    "start_time": "2024-03-09T11:41:11.988Z"
   },
   {
    "duration": 32,
    "start_time": "2024-03-09T11:41:11.994Z"
   },
   {
    "duration": 8,
    "start_time": "2024-03-09T11:42:29.420Z"
   },
   {
    "duration": 28,
    "start_time": "2024-03-09T11:43:29.273Z"
   },
   {
    "duration": 4,
    "start_time": "2024-03-09T11:43:30.908Z"
   },
   {
    "duration": 25,
    "start_time": "2024-03-09T11:43:32.591Z"
   },
   {
    "duration": 35,
    "start_time": "2024-03-09T11:43:43.489Z"
   },
   {
    "duration": 1551,
    "start_time": "2024-03-09T11:43:58.431Z"
   },
   {
    "duration": 91,
    "start_time": "2024-03-09T11:44:05.432Z"
   },
   {
    "duration": 16,
    "start_time": "2024-03-09T11:44:05.525Z"
   },
   {
    "duration": 35,
    "start_time": "2024-03-09T11:44:05.543Z"
   },
   {
    "duration": 31,
    "start_time": "2024-03-09T11:44:05.580Z"
   },
   {
    "duration": 10,
    "start_time": "2024-03-09T11:44:05.613Z"
   },
   {
    "duration": 45,
    "start_time": "2024-03-09T11:44:05.624Z"
   },
   {
    "duration": 3,
    "start_time": "2024-03-09T11:44:05.672Z"
   },
   {
    "duration": 18,
    "start_time": "2024-03-09T11:44:05.676Z"
   },
   {
    "duration": 10,
    "start_time": "2024-03-09T11:44:05.696Z"
   },
   {
    "duration": 19,
    "start_time": "2024-03-09T11:44:05.707Z"
   },
   {
    "duration": 19,
    "start_time": "2024-03-09T11:44:05.728Z"
   },
   {
    "duration": 47,
    "start_time": "2024-03-09T11:44:05.749Z"
   },
   {
    "duration": 10,
    "start_time": "2024-03-09T11:44:05.797Z"
   },
   {
    "duration": 14,
    "start_time": "2024-03-09T11:44:05.810Z"
   },
   {
    "duration": 34,
    "start_time": "2024-03-09T11:44:05.825Z"
   },
   {
    "duration": 30,
    "start_time": "2024-03-09T11:44:05.860Z"
   },
   {
    "duration": 18,
    "start_time": "2024-03-09T11:44:05.891Z"
   },
   {
    "duration": 5,
    "start_time": "2024-03-09T11:44:05.910Z"
   },
   {
    "duration": 32,
    "start_time": "2024-03-09T11:44:05.916Z"
   },
   {
    "duration": 16,
    "start_time": "2024-03-09T11:44:05.949Z"
   },
   {
    "duration": 16,
    "start_time": "2024-03-09T11:44:05.966Z"
   },
   {
    "duration": 23,
    "start_time": "2024-03-09T11:44:05.983Z"
   },
   {
    "duration": 9,
    "start_time": "2024-03-09T11:44:06.008Z"
   },
   {
    "duration": 13,
    "start_time": "2024-03-09T11:44:06.018Z"
   },
   {
    "duration": 9,
    "start_time": "2024-03-09T11:44:06.032Z"
   },
   {
    "duration": 25,
    "start_time": "2024-03-09T11:44:06.042Z"
   },
   {
    "duration": 17,
    "start_time": "2024-03-09T11:44:06.068Z"
   },
   {
    "duration": 19,
    "start_time": "2024-03-09T11:44:06.087Z"
   },
   {
    "duration": 16,
    "start_time": "2024-03-09T11:44:06.107Z"
   },
   {
    "duration": 16,
    "start_time": "2024-03-09T11:44:06.125Z"
   },
   {
    "duration": 50,
    "start_time": "2024-03-09T11:44:06.143Z"
   },
   {
    "duration": 1628,
    "start_time": "2024-03-09T11:44:07.440Z"
   },
   {
    "duration": 1602,
    "start_time": "2024-03-09T11:45:24.643Z"
   },
   {
    "duration": 1529,
    "start_time": "2024-03-09T11:45:34.756Z"
   },
   {
    "duration": 31,
    "start_time": "2024-03-09T11:46:33.026Z"
   },
   {
    "duration": 8,
    "start_time": "2024-03-09T11:48:08.510Z"
   },
   {
    "duration": 8,
    "start_time": "2024-03-09T11:48:19.722Z"
   },
   {
    "duration": 136,
    "start_time": "2024-03-09T11:49:00.477Z"
   },
   {
    "duration": 94,
    "start_time": "2024-03-09T11:49:30.837Z"
   },
   {
    "duration": 16,
    "start_time": "2024-03-09T11:49:30.933Z"
   },
   {
    "duration": 76,
    "start_time": "2024-03-09T11:49:30.951Z"
   },
   {
    "duration": 96,
    "start_time": "2024-03-09T11:49:31.029Z"
   },
   {
    "duration": 35,
    "start_time": "2024-03-09T11:49:31.127Z"
   },
   {
    "duration": 93,
    "start_time": "2024-03-09T11:49:31.164Z"
   },
   {
    "duration": 30,
    "start_time": "2024-03-09T11:49:31.259Z"
   },
   {
    "duration": 104,
    "start_time": "2024-03-09T11:49:31.291Z"
   },
   {
    "duration": 72,
    "start_time": "2024-03-09T11:49:31.397Z"
   },
   {
    "duration": 84,
    "start_time": "2024-03-09T11:49:31.471Z"
   },
   {
    "duration": 46,
    "start_time": "2024-03-09T11:49:31.557Z"
   },
   {
    "duration": 101,
    "start_time": "2024-03-09T11:49:31.604Z"
   },
   {
    "duration": 19,
    "start_time": "2024-03-09T11:49:31.706Z"
   },
   {
    "duration": 27,
    "start_time": "2024-03-09T11:49:31.726Z"
   },
   {
    "duration": 35,
    "start_time": "2024-03-09T11:49:31.754Z"
   },
   {
    "duration": 36,
    "start_time": "2024-03-09T11:49:31.791Z"
   },
   {
    "duration": 48,
    "start_time": "2024-03-09T11:49:31.828Z"
   },
   {
    "duration": 18,
    "start_time": "2024-03-09T11:49:31.878Z"
   },
   {
    "duration": 54,
    "start_time": "2024-03-09T11:49:31.897Z"
   },
   {
    "duration": 43,
    "start_time": "2024-03-09T11:49:31.952Z"
   },
   {
    "duration": 24,
    "start_time": "2024-03-09T11:49:31.997Z"
   },
   {
    "duration": 43,
    "start_time": "2024-03-09T11:49:32.022Z"
   },
   {
    "duration": 21,
    "start_time": "2024-03-09T11:49:32.067Z"
   },
   {
    "duration": 27,
    "start_time": "2024-03-09T11:49:32.089Z"
   },
   {
    "duration": 8,
    "start_time": "2024-03-09T11:49:32.118Z"
   },
   {
    "duration": 37,
    "start_time": "2024-03-09T11:49:32.127Z"
   },
   {
    "duration": 11,
    "start_time": "2024-03-09T11:49:32.166Z"
   },
   {
    "duration": 14,
    "start_time": "2024-03-09T11:49:32.180Z"
   },
   {
    "duration": 19,
    "start_time": "2024-03-09T11:49:32.195Z"
   },
   {
    "duration": 7,
    "start_time": "2024-03-09T11:49:32.216Z"
   },
   {
    "duration": 32,
    "start_time": "2024-03-09T11:49:32.225Z"
   },
   {
    "duration": 155,
    "start_time": "2024-03-09T11:49:32.259Z"
   },
   {
    "duration": 8,
    "start_time": "2024-03-09T11:49:32.416Z"
   },
   {
    "duration": 8,
    "start_time": "2024-03-09T11:49:32.426Z"
   },
   {
    "duration": 9,
    "start_time": "2024-03-09T11:49:32.436Z"
   },
   {
    "duration": 33,
    "start_time": "2024-03-09T11:49:32.447Z"
   },
   {
    "duration": 29,
    "start_time": "2024-03-09T11:49:32.481Z"
   },
   {
    "duration": 34,
    "start_time": "2024-03-09T11:49:32.511Z"
   },
   {
    "duration": 5,
    "start_time": "2024-03-09T11:49:32.547Z"
   },
   {
    "duration": 22,
    "start_time": "2024-03-09T11:49:32.572Z"
   },
   {
    "duration": 8,
    "start_time": "2024-03-09T11:49:35.091Z"
   },
   {
    "duration": 5,
    "start_time": "2024-03-09T11:50:31.647Z"
   },
   {
    "duration": 30,
    "start_time": "2024-03-09T11:50:35.064Z"
   },
   {
    "duration": 46,
    "start_time": "2024-03-09T11:50:40.884Z"
   },
   {
    "duration": 248,
    "start_time": "2024-03-09T11:50:51.573Z"
   },
   {
    "duration": 29,
    "start_time": "2024-03-09T11:51:15.580Z"
   },
   {
    "duration": 793,
    "start_time": "2024-03-09T12:49:57.846Z"
   },
   {
    "duration": 20,
    "start_time": "2024-03-09T12:49:58.641Z"
   },
   {
    "duration": 16,
    "start_time": "2024-03-09T12:49:58.663Z"
   },
   {
    "duration": 20,
    "start_time": "2024-03-09T12:49:58.680Z"
   },
   {
    "duration": 11,
    "start_time": "2024-03-09T12:49:58.701Z"
   },
   {
    "duration": 38,
    "start_time": "2024-03-09T12:49:58.713Z"
   },
   {
    "duration": 22,
    "start_time": "2024-03-09T12:49:58.752Z"
   },
   {
    "duration": 14,
    "start_time": "2024-03-09T12:49:58.776Z"
   },
   {
    "duration": 11,
    "start_time": "2024-03-09T12:49:58.791Z"
   },
   {
    "duration": 6,
    "start_time": "2024-03-09T12:49:58.804Z"
   },
   {
    "duration": 3,
    "start_time": "2024-03-09T12:49:58.812Z"
   },
   {
    "duration": 60,
    "start_time": "2024-03-09T12:49:58.817Z"
   },
   {
    "duration": 12,
    "start_time": "2024-03-09T12:49:58.879Z"
   },
   {
    "duration": 4,
    "start_time": "2024-03-09T12:49:58.893Z"
   },
   {
    "duration": 16,
    "start_time": "2024-03-09T12:49:58.899Z"
   },
   {
    "duration": 21,
    "start_time": "2024-03-09T12:49:58.917Z"
   },
   {
    "duration": 46,
    "start_time": "2024-03-09T12:49:58.940Z"
   },
   {
    "duration": 5,
    "start_time": "2024-03-09T12:49:58.988Z"
   },
   {
    "duration": 20,
    "start_time": "2024-03-09T12:49:58.994Z"
   },
   {
    "duration": 6,
    "start_time": "2024-03-09T12:49:59.016Z"
   },
   {
    "duration": 4,
    "start_time": "2024-03-09T12:49:59.024Z"
   },
   {
    "duration": 12,
    "start_time": "2024-03-09T12:49:59.029Z"
   },
   {
    "duration": 4,
    "start_time": "2024-03-09T12:49:59.043Z"
   },
   {
    "duration": 26,
    "start_time": "2024-03-09T12:49:59.049Z"
   },
   {
    "duration": 2,
    "start_time": "2024-03-09T12:49:59.077Z"
   },
   {
    "duration": 14,
    "start_time": "2024-03-09T12:49:59.081Z"
   },
   {
    "duration": 5,
    "start_time": "2024-03-09T12:49:59.096Z"
   },
   {
    "duration": 6,
    "start_time": "2024-03-09T12:49:59.104Z"
   },
   {
    "duration": 17,
    "start_time": "2024-03-09T12:49:59.112Z"
   },
   {
    "duration": 4,
    "start_time": "2024-03-09T12:49:59.131Z"
   },
   {
    "duration": 56,
    "start_time": "2024-03-09T12:49:59.136Z"
   },
   {
    "duration": 167,
    "start_time": "2024-03-09T12:49:59.194Z"
   },
   {
    "duration": 14,
    "start_time": "2024-03-09T12:49:59.362Z"
   },
   {
    "duration": 41,
    "start_time": "2024-03-09T12:49:59.377Z"
   },
   {
    "duration": 11,
    "start_time": "2024-03-09T12:49:59.420Z"
   },
   {
    "duration": 11,
    "start_time": "2024-03-09T12:49:59.433Z"
   },
   {
    "duration": 31,
    "start_time": "2024-03-09T12:49:59.446Z"
   },
   {
    "duration": 34,
    "start_time": "2024-03-09T12:49:59.478Z"
   },
   {
    "duration": 10,
    "start_time": "2024-03-09T12:49:59.514Z"
   },
   {
    "duration": 53,
    "start_time": "2024-03-09T12:49:59.525Z"
   },
   {
    "duration": 77,
    "start_time": "2024-03-09T12:49:59.580Z"
   },
   {
    "duration": 0,
    "start_time": "2024-03-09T12:49:59.658Z"
   },
   {
    "duration": 0,
    "start_time": "2024-03-09T12:49:59.660Z"
   },
   {
    "duration": 0,
    "start_time": "2024-03-09T12:49:59.661Z"
   },
   {
    "duration": 36,
    "start_time": "2024-03-09T12:50:10.961Z"
   },
   {
    "duration": 802,
    "start_time": "2024-03-09T12:50:24.827Z"
   },
   {
    "duration": 21,
    "start_time": "2024-03-09T12:50:25.631Z"
   },
   {
    "duration": 31,
    "start_time": "2024-03-09T12:50:25.653Z"
   },
   {
    "duration": 34,
    "start_time": "2024-03-09T12:50:25.686Z"
   },
   {
    "duration": 11,
    "start_time": "2024-03-09T12:50:25.722Z"
   },
   {
    "duration": 42,
    "start_time": "2024-03-09T12:50:25.735Z"
   },
   {
    "duration": 4,
    "start_time": "2024-03-09T12:50:25.779Z"
   },
   {
    "duration": 12,
    "start_time": "2024-03-09T12:50:25.784Z"
   },
   {
    "duration": 6,
    "start_time": "2024-03-09T12:50:25.797Z"
   },
   {
    "duration": 15,
    "start_time": "2024-03-09T12:50:25.805Z"
   },
   {
    "duration": 15,
    "start_time": "2024-03-09T12:50:25.821Z"
   },
   {
    "duration": 55,
    "start_time": "2024-03-09T12:50:25.838Z"
   },
   {
    "duration": 12,
    "start_time": "2024-03-09T12:50:25.895Z"
   },
   {
    "duration": 14,
    "start_time": "2024-03-09T12:50:25.909Z"
   },
   {
    "duration": 18,
    "start_time": "2024-03-09T12:50:25.925Z"
   },
   {
    "duration": 29,
    "start_time": "2024-03-09T12:50:25.945Z"
   },
   {
    "duration": 26,
    "start_time": "2024-03-09T12:50:25.975Z"
   },
   {
    "duration": 3,
    "start_time": "2024-03-09T12:50:26.003Z"
   },
   {
    "duration": 15,
    "start_time": "2024-03-09T12:50:26.008Z"
   },
   {
    "duration": 20,
    "start_time": "2024-03-09T12:50:26.024Z"
   },
   {
    "duration": 5,
    "start_time": "2024-03-09T12:50:26.046Z"
   },
   {
    "duration": 28,
    "start_time": "2024-03-09T12:50:26.053Z"
   },
   {
    "duration": 10,
    "start_time": "2024-03-09T12:50:26.083Z"
   },
   {
    "duration": 33,
    "start_time": "2024-03-09T12:50:26.095Z"
   },
   {
    "duration": 8,
    "start_time": "2024-03-09T12:50:26.130Z"
   },
   {
    "duration": 16,
    "start_time": "2024-03-09T12:50:26.139Z"
   },
   {
    "duration": 7,
    "start_time": "2024-03-09T12:50:26.157Z"
   },
   {
    "duration": 8,
    "start_time": "2024-03-09T12:50:26.168Z"
   },
   {
    "duration": 12,
    "start_time": "2024-03-09T12:50:26.178Z"
   },
   {
    "duration": 5,
    "start_time": "2024-03-09T12:50:26.191Z"
   },
   {
    "duration": 36,
    "start_time": "2024-03-09T12:50:26.197Z"
   },
   {
    "duration": 174,
    "start_time": "2024-03-09T12:50:26.235Z"
   },
   {
    "duration": 8,
    "start_time": "2024-03-09T12:50:26.411Z"
   },
   {
    "duration": 29,
    "start_time": "2024-03-09T12:50:26.421Z"
   },
   {
    "duration": 9,
    "start_time": "2024-03-09T12:50:26.451Z"
   },
   {
    "duration": 12,
    "start_time": "2024-03-09T12:50:26.462Z"
   },
   {
    "duration": 30,
    "start_time": "2024-03-09T12:50:26.476Z"
   },
   {
    "duration": 22,
    "start_time": "2024-03-09T12:50:26.507Z"
   },
   {
    "duration": 8,
    "start_time": "2024-03-09T12:50:26.530Z"
   },
   {
    "duration": 51,
    "start_time": "2024-03-09T12:50:26.539Z"
   },
   {
    "duration": 36,
    "start_time": "2024-03-09T12:50:26.592Z"
   },
   {
    "duration": 165,
    "start_time": "2024-03-09T12:50:26.630Z"
   },
   {
    "duration": 30,
    "start_time": "2024-03-09T12:50:26.797Z"
   },
   {
    "duration": 89,
    "start_time": "2024-03-09T12:50:26.828Z"
   },
   {
    "duration": 35,
    "start_time": "2024-03-09T12:50:35.945Z"
   },
   {
    "duration": 718,
    "start_time": "2024-03-09T12:50:40.910Z"
   },
   {
    "duration": 19,
    "start_time": "2024-03-09T12:50:41.630Z"
   },
   {
    "duration": 25,
    "start_time": "2024-03-09T12:50:41.653Z"
   },
   {
    "duration": 19,
    "start_time": "2024-03-09T12:50:41.680Z"
   },
   {
    "duration": 11,
    "start_time": "2024-03-09T12:50:41.700Z"
   },
   {
    "duration": 60,
    "start_time": "2024-03-09T12:50:41.713Z"
   },
   {
    "duration": 3,
    "start_time": "2024-03-09T12:50:41.775Z"
   },
   {
    "duration": 10,
    "start_time": "2024-03-09T12:50:41.779Z"
   },
   {
    "duration": 8,
    "start_time": "2024-03-09T12:50:41.791Z"
   },
   {
    "duration": 22,
    "start_time": "2024-03-09T12:50:41.800Z"
   },
   {
    "duration": 5,
    "start_time": "2024-03-09T12:50:41.823Z"
   },
   {
    "duration": 47,
    "start_time": "2024-03-09T12:50:41.829Z"
   },
   {
    "duration": 10,
    "start_time": "2024-03-09T12:50:41.879Z"
   },
   {
    "duration": 12,
    "start_time": "2024-03-09T12:50:41.890Z"
   },
   {
    "duration": 12,
    "start_time": "2024-03-09T12:50:41.903Z"
   },
   {
    "duration": 32,
    "start_time": "2024-03-09T12:50:41.917Z"
   },
   {
    "duration": 27,
    "start_time": "2024-03-09T12:50:41.950Z"
   },
   {
    "duration": 5,
    "start_time": "2024-03-09T12:50:41.978Z"
   },
   {
    "duration": 17,
    "start_time": "2024-03-09T12:50:41.985Z"
   },
   {
    "duration": 9,
    "start_time": "2024-03-09T12:50:42.004Z"
   },
   {
    "duration": 9,
    "start_time": "2024-03-09T12:50:42.015Z"
   },
   {
    "duration": 44,
    "start_time": "2024-03-09T12:50:42.026Z"
   },
   {
    "duration": 23,
    "start_time": "2024-03-09T12:50:42.072Z"
   },
   {
    "duration": 12,
    "start_time": "2024-03-09T12:50:42.096Z"
   },
   {
    "duration": 6,
    "start_time": "2024-03-09T12:50:42.110Z"
   },
   {
    "duration": 17,
    "start_time": "2024-03-09T12:50:42.118Z"
   },
   {
    "duration": 30,
    "start_time": "2024-03-09T12:50:42.137Z"
   },
   {
    "duration": 16,
    "start_time": "2024-03-09T12:50:42.168Z"
   },
   {
    "duration": 13,
    "start_time": "2024-03-09T12:50:42.186Z"
   },
   {
    "duration": 3,
    "start_time": "2024-03-09T12:50:42.201Z"
   },
   {
    "duration": 36,
    "start_time": "2024-03-09T12:50:42.207Z"
   },
   {
    "duration": 155,
    "start_time": "2024-03-09T12:50:42.244Z"
   },
   {
    "duration": 7,
    "start_time": "2024-03-09T12:50:42.401Z"
   },
   {
    "duration": 16,
    "start_time": "2024-03-09T12:50:42.409Z"
   },
   {
    "duration": 12,
    "start_time": "2024-03-09T12:50:42.426Z"
   },
   {
    "duration": 10,
    "start_time": "2024-03-09T12:50:42.440Z"
   },
   {
    "duration": 39,
    "start_time": "2024-03-09T12:50:42.451Z"
   },
   {
    "duration": 21,
    "start_time": "2024-03-09T12:50:42.491Z"
   },
   {
    "duration": 4,
    "start_time": "2024-03-09T12:50:42.513Z"
   },
   {
    "duration": 23,
    "start_time": "2024-03-09T12:50:42.520Z"
   },
   {
    "duration": 59,
    "start_time": "2024-03-09T12:50:42.545Z"
   },
   {
    "duration": 173,
    "start_time": "2024-03-09T12:50:42.606Z"
   },
   {
    "duration": 28,
    "start_time": "2024-03-09T12:50:42.781Z"
   },
   {
    "duration": 30,
    "start_time": "2024-03-09T12:50:42.811Z"
   },
   {
    "duration": 825,
    "start_time": "2024-03-09T13:14:22.530Z"
   },
   {
    "duration": 19,
    "start_time": "2024-03-09T13:14:23.357Z"
   },
   {
    "duration": 21,
    "start_time": "2024-03-09T13:14:23.378Z"
   },
   {
    "duration": 23,
    "start_time": "2024-03-09T13:14:23.400Z"
   },
   {
    "duration": 10,
    "start_time": "2024-03-09T13:14:23.425Z"
   },
   {
    "duration": 35,
    "start_time": "2024-03-09T13:14:23.436Z"
   },
   {
    "duration": 2,
    "start_time": "2024-03-09T13:14:23.473Z"
   },
   {
    "duration": 17,
    "start_time": "2024-03-09T13:14:23.477Z"
   },
   {
    "duration": 3,
    "start_time": "2024-03-09T13:14:23.496Z"
   },
   {
    "duration": 11,
    "start_time": "2024-03-09T13:14:23.500Z"
   },
   {
    "duration": 4,
    "start_time": "2024-03-09T13:14:23.512Z"
   },
   {
    "duration": 35,
    "start_time": "2024-03-09T13:14:23.517Z"
   },
   {
    "duration": 9,
    "start_time": "2024-03-09T13:14:23.554Z"
   },
   {
    "duration": 4,
    "start_time": "2024-03-09T13:14:23.565Z"
   },
   {
    "duration": 92,
    "start_time": "2024-03-09T13:14:23.571Z"
   },
   {
    "duration": 29,
    "start_time": "2024-03-09T13:14:23.664Z"
   },
   {
    "duration": 16,
    "start_time": "2024-03-09T13:14:23.695Z"
   },
   {
    "duration": 4,
    "start_time": "2024-03-09T13:14:23.712Z"
   },
   {
    "duration": 12,
    "start_time": "2024-03-09T13:14:23.717Z"
   },
   {
    "duration": 7,
    "start_time": "2024-03-09T13:14:23.730Z"
   },
   {
    "duration": 7,
    "start_time": "2024-03-09T13:14:23.739Z"
   },
   {
    "duration": 10,
    "start_time": "2024-03-09T13:14:23.747Z"
   },
   {
    "duration": 5,
    "start_time": "2024-03-09T13:14:23.758Z"
   },
   {
    "duration": 29,
    "start_time": "2024-03-09T13:14:23.765Z"
   },
   {
    "duration": 3,
    "start_time": "2024-03-09T13:14:23.795Z"
   },
   {
    "duration": 11,
    "start_time": "2024-03-09T13:14:23.800Z"
   },
   {
    "duration": 4,
    "start_time": "2024-03-09T13:14:23.813Z"
   },
   {
    "duration": 9,
    "start_time": "2024-03-09T13:14:23.818Z"
   },
   {
    "duration": 9,
    "start_time": "2024-03-09T13:14:23.829Z"
   },
   {
    "duration": 14,
    "start_time": "2024-03-09T13:14:23.839Z"
   },
   {
    "duration": 57,
    "start_time": "2024-03-09T13:14:23.854Z"
   },
   {
    "duration": 150,
    "start_time": "2024-03-09T13:14:23.912Z"
   },
   {
    "duration": 7,
    "start_time": "2024-03-09T13:14:24.063Z"
   },
   {
    "duration": 15,
    "start_time": "2024-03-09T13:14:24.071Z"
   },
   {
    "duration": 10,
    "start_time": "2024-03-09T13:14:24.088Z"
   },
   {
    "duration": 7,
    "start_time": "2024-03-09T13:14:24.099Z"
   },
   {
    "duration": 26,
    "start_time": "2024-03-09T13:14:24.107Z"
   },
   {
    "duration": 19,
    "start_time": "2024-03-09T13:14:24.134Z"
   },
   {
    "duration": 20,
    "start_time": "2024-03-09T13:14:24.154Z"
   },
   {
    "duration": 30,
    "start_time": "2024-03-09T13:14:24.175Z"
   },
   {
    "duration": 30,
    "start_time": "2024-03-09T13:14:24.208Z"
   },
   {
    "duration": 140,
    "start_time": "2024-03-09T13:14:24.240Z"
   },
   {
    "duration": 33,
    "start_time": "2024-03-09T13:14:24.382Z"
   },
   {
    "duration": 25,
    "start_time": "2024-03-09T13:14:24.417Z"
   },
   {
    "duration": 689,
    "start_time": "2024-03-09T13:23:13.906Z"
   },
   {
    "duration": 18,
    "start_time": "2024-03-09T13:23:14.597Z"
   },
   {
    "duration": 36,
    "start_time": "2024-03-09T13:23:14.616Z"
   },
   {
    "duration": 29,
    "start_time": "2024-03-09T13:23:14.653Z"
   },
   {
    "duration": 17,
    "start_time": "2024-03-09T13:23:14.684Z"
   },
   {
    "duration": 61,
    "start_time": "2024-03-09T13:23:14.703Z"
   },
   {
    "duration": 4,
    "start_time": "2024-03-09T13:23:14.765Z"
   },
   {
    "duration": 37,
    "start_time": "2024-03-09T13:23:14.770Z"
   },
   {
    "duration": 15,
    "start_time": "2024-03-09T13:23:14.808Z"
   },
   {
    "duration": 24,
    "start_time": "2024-03-09T13:23:14.825Z"
   },
   {
    "duration": 30,
    "start_time": "2024-03-09T13:23:14.851Z"
   },
   {
    "duration": 74,
    "start_time": "2024-03-09T13:23:14.883Z"
   },
   {
    "duration": 9,
    "start_time": "2024-03-09T13:23:14.959Z"
   },
   {
    "duration": 38,
    "start_time": "2024-03-09T13:23:14.970Z"
   },
   {
    "duration": 133,
    "start_time": "2024-03-09T13:23:15.009Z"
   },
   {
    "duration": 162,
    "start_time": "2024-03-09T13:23:15.143Z"
   },
   {
    "duration": 144,
    "start_time": "2024-03-09T13:23:15.307Z"
   },
   {
    "duration": 128,
    "start_time": "2024-03-09T13:23:15.452Z"
   },
   {
    "duration": 52,
    "start_time": "2024-03-09T13:23:15.581Z"
   },
   {
    "duration": 65,
    "start_time": "2024-03-09T13:23:15.635Z"
   },
   {
    "duration": 51,
    "start_time": "2024-03-09T13:23:15.701Z"
   },
   {
    "duration": 46,
    "start_time": "2024-03-09T13:23:15.754Z"
   },
   {
    "duration": 38,
    "start_time": "2024-03-09T13:23:15.802Z"
   },
   {
    "duration": 49,
    "start_time": "2024-03-09T13:23:15.841Z"
   },
   {
    "duration": 35,
    "start_time": "2024-03-09T13:23:15.891Z"
   },
   {
    "duration": 36,
    "start_time": "2024-03-09T13:23:15.927Z"
   },
   {
    "duration": 31,
    "start_time": "2024-03-09T13:23:15.964Z"
   },
   {
    "duration": 52,
    "start_time": "2024-03-09T13:23:15.997Z"
   },
   {
    "duration": 115,
    "start_time": "2024-03-09T13:23:16.050Z"
   },
   {
    "duration": 33,
    "start_time": "2024-03-09T13:23:16.167Z"
   },
   {
    "duration": 73,
    "start_time": "2024-03-09T13:23:16.202Z"
   },
   {
    "duration": 131,
    "start_time": "2024-03-09T13:23:16.277Z"
   },
   {
    "duration": 7,
    "start_time": "2024-03-09T13:23:16.410Z"
   },
   {
    "duration": 36,
    "start_time": "2024-03-09T13:23:16.419Z"
   },
   {
    "duration": 54,
    "start_time": "2024-03-09T13:23:16.456Z"
   },
   {
    "duration": 112,
    "start_time": "2024-03-09T13:23:16.512Z"
   },
   {
    "duration": 107,
    "start_time": "2024-03-09T13:23:16.626Z"
   },
   {
    "duration": 34,
    "start_time": "2024-03-09T13:23:16.734Z"
   },
   {
    "duration": 19,
    "start_time": "2024-03-09T13:23:16.770Z"
   },
   {
    "duration": 47,
    "start_time": "2024-03-09T13:23:16.791Z"
   },
   {
    "duration": 44,
    "start_time": "2024-03-09T13:23:16.839Z"
   },
   {
    "duration": 128,
    "start_time": "2024-03-09T13:23:16.884Z"
   },
   {
    "duration": 25,
    "start_time": "2024-03-09T13:23:17.013Z"
   },
   {
    "duration": 47,
    "start_time": "2024-03-09T13:23:17.039Z"
   },
   {
    "duration": 19,
    "start_time": "2024-03-09T13:24:10.590Z"
   }
  ],
  "colab": {
   "name": "dpp_template_part2.ipynb",
   "provenance": []
  },
  "kernelspec": {
   "display_name": "Python 3 (ipykernel)",
   "language": "python",
   "name": "python3"
  },
  "language_info": {
   "codemirror_mode": {
    "name": "ipython",
    "version": 3
   },
   "file_extension": ".py",
   "mimetype": "text/x-python",
   "name": "python",
   "nbconvert_exporter": "python",
   "pygments_lexer": "ipython3",
   "version": "3.9.5"
  },
  "toc": {
   "base_numbering": 1,
   "nav_menu": {},
   "number_sections": true,
   "sideBar": true,
   "skip_h1_title": true,
   "title_cell": "Table of Contents",
   "title_sidebar": "Contents",
   "toc_cell": false,
   "toc_position": {},
   "toc_section_display": true,
   "toc_window_display": true
  }
 },
 "nbformat": 4,
 "nbformat_minor": 5
}
